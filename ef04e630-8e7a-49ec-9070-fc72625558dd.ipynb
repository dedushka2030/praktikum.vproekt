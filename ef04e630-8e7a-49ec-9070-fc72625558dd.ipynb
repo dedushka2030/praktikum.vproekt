{
 "cells": [
  {
   "cell_type": "markdown",
   "metadata": {},
   "source": [
    "<div class=\"alert alert-info\">\n",
    "Привет, Евгений! Меня зовут Светлана Чих и я буду проверять твой проект. Моя основная цель — не указать на совершенные тобою ошибки, а поделиться своим опытом и помочь тебе. Предлагаю общаться на «ты». Но если это не удобно - дай знать, и мы перейдем на «вы».\n",
    "\n",
    "<div class=\"alert alert-success\">\n",
    "<b>👍 Успех:</b> Зелёным цветом отмечены удачные и элегантные решения, на которые можно опираться в будущих проектах.\n",
    "</div>\n",
    "<div class=\"alert alert-warning\">\n",
    "<b>🤔 Рекомендация:</b> Жёлтым цветом выделено то, что в следующий раз можно сделать по-другому. Ты можешь учесть эти комментарии при выполнении будущих заданий или доработать проект сейчас (однако это не обязательно).\n",
    "</div>\n",
    "<div class=\"alert alert-danger\">\n",
    "<b>😔 Необходимо исправить:</b> Красным цветом выделены комментарии, без исправления которых, я не смогу принять проект :(\n",
    "</div>\n",
    "<div class=\"alert alert-info\">\n",
    "<b>👂 Совет:</b> Какие-то дополнительные материалы\n",
    "</div>\n",
    "Давай работать над проектом в диалоге: если ты что-то меняешь в проекте по моим рекомендациям — пиши об этом.\n",
    "Мне будет легче отследить изменения, если ты выделишь свои комментарии:\n",
    "<div class=\"alert alert-info\"> <b>🎓 Комментарий студента:</b> Например, вот так.</div>\n",
    "Пожалуйста, не перемещай, не изменяй и не удаляй мои комментарии. Всё это поможет выполнить повторную проверку твоего проекта быстрее.\n",
    " </div>"
   ]
  },
  {
   "cell_type": "markdown",
   "metadata": {},
   "source": [
    "# Выпускной проект: Анализ оттока клиентов из Метанпромбанка."
   ]
  },
  {
   "cell_type": "markdown",
   "metadata": {},
   "source": [
    "***Материалы: https://disk.yandex.ru/i/aj30t_Kb4v_4RA***"
   ]
  },
  {
   "cell_type": "markdown",
   "metadata": {},
   "source": [
    "**Задача проекта**\n",
    "\n",
    "*Проанализируйте клиентов регионального банка и выделите сегменты клиентов, которые склонны уходить из банка.*\n",
    "\n",
    " - Проведите исследовательский анализ данных, определите все значимые признаки отточности (интервалы значений характеристик, которые связаны с повышенным оттоком, сравните портреты типичных клиентов, которые склонны и не склонны уходить из банка и т.д)\n",
    " - Сформулируйте и проверьте статистические гипотезы. \n",
    "   - Проверьте гипотезу различия дохода между теми клиентами, которые ушли и теми, которые остались. \n",
    "   - Сформулируйте и проверьте статистическую гипотезу относительно представленных данных, которая поможет внести ясность в исследование.\n",
    " - Объединяя признаки отточности, сформируйте сегменты, отберите из них лучшие и дайте по ним рекомендации.\n",
    " \n",
    "*По итогам исследования подготовьте презентацию. Для создания презентации используйте любой удобный инструмент, но отправить презентацию нужно обязательно в формате pdf, прикрепив ссылку на файл в основном проекте.*\n",
    "\n",
    "(задачи выше сформулированы предварительно, окончательная постановка\n",
    "задачи произойдёт на вводной встрече)"
   ]
  },
  {
   "cell_type": "markdown",
   "metadata": {},
   "source": [
    "**Описание данных**\n",
    "\n",
    "`/datasets/bank_scrooge.csv`\n",
    "\n",
    "***Датасет содержит данные о клиентах банка «Метанпром». Банк располагается в\n",
    "Ярославле и областных городах: Ростов Великий и Рыбинск.***\n",
    "\n",
    " - `USERID` — идентификатор пользователя,\n",
    " - `score` — баллы кредитного скоринга,\n",
    " - `city` — город,\n",
    " - `gender` — пол,\n",
    " - `age` — возраст,\n",
    " - `equity` — количество баллов собственности\n",
    " - `balance` — баланс на счёте,\n",
    " - `products` — количество продуктов, которыми пользуется клиент,\n",
    " - `credit_card` — есть ли кредитная карта,\n",
    " - `last_activity` — активный клиент,\n",
    " - `EST_SALARY` — оценочный доход клиента,\n",
    " - `сhurn` — признак оттока.\n"
   ]
  },
  {
   "cell_type": "markdown",
   "metadata": {},
   "source": [
    "**Декомпозиция проекта**\n",
    "\n",
    "***Шаг 1. Загрузка данных и изучение общей информации***\n",
    "\n",
    "***Шаг 2. Подготовка данных***\n",
    "\n",
    "- 2.1 Приведение названия столбцов к нижнему и \"змеинному\" регистру\n",
    "- 2.2 Проверка наличия дубликатов\n",
    "- 2.3 Проверка на наличие пропусков в данных\n",
    "- 2.4 Проверка значений на наличие выбросов и аномалий\n",
    "- 2.5 Преобразование данных к нужному типу\n",
    "\n",
    "***Шаг 3. Исследовательский анализ данных***\n",
    "\n",
    "- 3.1 Какой общий процент оттока клиентов у банка\n",
    "- 3.2 Какой процент оттока клиентов в разных городах\n",
    "- 3.3 Общий портрет клиентов в разных городах по средним значениям\n",
    "- 3.4 Выяснить влияет ли наличие кредитной карты, активности клиентов или пол на отток клиентов\n",
    "\n",
    "***Шаг 4. Выделение категорий ушедших клиентов***\n",
    "\n",
    "- 4.1 Сегментирование клиентов по признакам\n",
    "- 4.2 Составление портретов  клиентов по нескольким сегментам\n",
    "- 4.3 Выделение трех групп клиентов из выделенных сегментов, которые чаще всего уходят\n",
    "\n",
    "***Шаг 5. Проверка гипотез***\n",
    "\n",
    "- 5.1 Формулирование и проверка гипотезы №1\n",
    "- 5.2 Формулирование и проверка гипотезы №2\n",
    "- 5.3 Формулирование и проверка гипотезы №3\n",
    "\n",
    "***Шаг 6. Общий вывод и рекомендации***\n",
    "\n",
    "***Шаг 7. Презентация***"
   ]
  },
  {
   "cell_type": "markdown",
   "metadata": {},
   "source": [
    "### Загрузка данных и изучение общей информации"
   ]
  },
  {
   "cell_type": "code",
   "execution_count": 1,
   "metadata": {},
   "outputs": [],
   "source": [
    "# импортируем необходимые для работы библиотеки:\n",
    "\n",
    "import pandas as pd\n",
    "import numpy as np\n",
    "import os\n",
    "import matplotlib.pyplot as plt\n",
    "import seaborn as sns\n",
    "import math as mth\n",
    "import plotly.express as px\n",
    "from math import sqrt\n",
    "from scipy import stats as st\n",
    "from scipy.stats import norm\n",
    "from scipy.stats import spearmanr\n",
    "from plotly import graph_objects as go"
   ]
  },
  {
   "cell_type": "code",
   "execution_count": 2,
   "metadata": {},
   "outputs": [],
   "source": [
    "# напишем функцию для изучения общей информации имеющегося датасета\n",
    "\n",
    "def data_analys(df):\n",
    "    display (df.head(10))\n",
    "    print('*'*80),\n",
    "    df.info()\n",
    "    print('*'*80),\n",
    "    print(f'Количество пропущенных значений во всех столбцах датафрейма:\\n{df.isna().sum()}')\n",
    "    print('*'*80),\n",
    "    print(f'Процент пропущенных значений во всех столбцах датафрейма:\\n{pd.DataFrame(round(data.isna().mean()*100,1))}')\n",
    "    print('*'*80),\n",
    "    print(f'Количество явных дубликатов:{df.duplicated().sum()}')"
   ]
  },
  {
   "cell_type": "code",
   "execution_count": 3,
   "metadata": {},
   "outputs": [],
   "source": [
    "# загрузим имеющейся датафрейм\n",
    "\n",
    "pth1 = '/datasets/bank_scrooge.csv'\n",
    "pth2 = 'https://code.s3.yandex.net/datasets/bank_scrooge.csv'\n",
    "\n",
    "if os.path.exists(pth1):\n",
    "    data = pd.read_csv(pth1)\n",
    "elif os.path.exists(pth2):\n",
    "    data = pd.read_csv(pth2)\n",
    "else:\n",
    "    print('Something is wrong')"
   ]
  },
  {
   "cell_type": "code",
   "execution_count": 4,
   "metadata": {},
   "outputs": [
    {
     "data": {
      "text/html": [
       "<div>\n",
       "<style scoped>\n",
       "    .dataframe tbody tr th:only-of-type {\n",
       "        vertical-align: middle;\n",
       "    }\n",
       "\n",
       "    .dataframe tbody tr th {\n",
       "        vertical-align: top;\n",
       "    }\n",
       "\n",
       "    .dataframe thead th {\n",
       "        text-align: right;\n",
       "    }\n",
       "</style>\n",
       "<table border=\"1\" class=\"dataframe\">\n",
       "  <thead>\n",
       "    <tr style=\"text-align: right;\">\n",
       "      <th></th>\n",
       "      <th>USERID</th>\n",
       "      <th>score</th>\n",
       "      <th>city</th>\n",
       "      <th>gender</th>\n",
       "      <th>age</th>\n",
       "      <th>equity</th>\n",
       "      <th>balance</th>\n",
       "      <th>products</th>\n",
       "      <th>credit_card</th>\n",
       "      <th>last_activity</th>\n",
       "      <th>EST_SALARY</th>\n",
       "      <th>churn</th>\n",
       "    </tr>\n",
       "  </thead>\n",
       "  <tbody>\n",
       "    <tr>\n",
       "      <th>0</th>\n",
       "      <td>183012</td>\n",
       "      <td>850.0</td>\n",
       "      <td>Рыбинск</td>\n",
       "      <td>Ж</td>\n",
       "      <td>25.0</td>\n",
       "      <td>1</td>\n",
       "      <td>59214.82</td>\n",
       "      <td>2</td>\n",
       "      <td>0</td>\n",
       "      <td>1</td>\n",
       "      <td>75719.14</td>\n",
       "      <td>1</td>\n",
       "    </tr>\n",
       "    <tr>\n",
       "      <th>1</th>\n",
       "      <td>146556</td>\n",
       "      <td>861.0</td>\n",
       "      <td>Рыбинск</td>\n",
       "      <td>Ж</td>\n",
       "      <td>37.0</td>\n",
       "      <td>5</td>\n",
       "      <td>850594.33</td>\n",
       "      <td>3</td>\n",
       "      <td>1</td>\n",
       "      <td>0</td>\n",
       "      <td>86621.77</td>\n",
       "      <td>0</td>\n",
       "    </tr>\n",
       "    <tr>\n",
       "      <th>2</th>\n",
       "      <td>120722</td>\n",
       "      <td>892.0</td>\n",
       "      <td>Рыбинск</td>\n",
       "      <td>Ж</td>\n",
       "      <td>30.0</td>\n",
       "      <td>0</td>\n",
       "      <td>NaN</td>\n",
       "      <td>1</td>\n",
       "      <td>1</td>\n",
       "      <td>1</td>\n",
       "      <td>107683.34</td>\n",
       "      <td>0</td>\n",
       "    </tr>\n",
       "    <tr>\n",
       "      <th>3</th>\n",
       "      <td>225363</td>\n",
       "      <td>866.0</td>\n",
       "      <td>Ярославль</td>\n",
       "      <td>Ж</td>\n",
       "      <td>51.0</td>\n",
       "      <td>5</td>\n",
       "      <td>1524746.26</td>\n",
       "      <td>2</td>\n",
       "      <td>0</td>\n",
       "      <td>1</td>\n",
       "      <td>174423.53</td>\n",
       "      <td>1</td>\n",
       "    </tr>\n",
       "    <tr>\n",
       "      <th>4</th>\n",
       "      <td>157978</td>\n",
       "      <td>730.0</td>\n",
       "      <td>Ярославль</td>\n",
       "      <td>М</td>\n",
       "      <td>34.0</td>\n",
       "      <td>5</td>\n",
       "      <td>174.00</td>\n",
       "      <td>1</td>\n",
       "      <td>1</td>\n",
       "      <td>0</td>\n",
       "      <td>67353.16</td>\n",
       "      <td>1</td>\n",
       "    </tr>\n",
       "    <tr>\n",
       "      <th>5</th>\n",
       "      <td>202305</td>\n",
       "      <td>856.0</td>\n",
       "      <td>Рыбинск</td>\n",
       "      <td>М</td>\n",
       "      <td>56.0</td>\n",
       "      <td>4</td>\n",
       "      <td>863687.24</td>\n",
       "      <td>3</td>\n",
       "      <td>1</td>\n",
       "      <td>0</td>\n",
       "      <td>156619.80</td>\n",
       "      <td>0</td>\n",
       "    </tr>\n",
       "    <tr>\n",
       "      <th>6</th>\n",
       "      <td>177259</td>\n",
       "      <td>807.0</td>\n",
       "      <td>Ярославль</td>\n",
       "      <td>Ж</td>\n",
       "      <td>39.0</td>\n",
       "      <td>3</td>\n",
       "      <td>405042.44</td>\n",
       "      <td>3</td>\n",
       "      <td>0</td>\n",
       "      <td>1</td>\n",
       "      <td>103838.32</td>\n",
       "      <td>0</td>\n",
       "    </tr>\n",
       "    <tr>\n",
       "      <th>7</th>\n",
       "      <td>218868</td>\n",
       "      <td>825.0</td>\n",
       "      <td>Ярославль</td>\n",
       "      <td>Ж</td>\n",
       "      <td>38.0</td>\n",
       "      <td>4</td>\n",
       "      <td>458145.40</td>\n",
       "      <td>2</td>\n",
       "      <td>1</td>\n",
       "      <td>1</td>\n",
       "      <td>68085.48</td>\n",
       "      <td>0</td>\n",
       "    </tr>\n",
       "    <tr>\n",
       "      <th>8</th>\n",
       "      <td>211686</td>\n",
       "      <td>923.0</td>\n",
       "      <td>Ярославль</td>\n",
       "      <td>М</td>\n",
       "      <td>54.0</td>\n",
       "      <td>5</td>\n",
       "      <td>1206337.87</td>\n",
       "      <td>2</td>\n",
       "      <td>1</td>\n",
       "      <td>0</td>\n",
       "      <td>155371.79</td>\n",
       "      <td>0</td>\n",
       "    </tr>\n",
       "    <tr>\n",
       "      <th>9</th>\n",
       "      <td>133130</td>\n",
       "      <td>906.0</td>\n",
       "      <td>Ярославль</td>\n",
       "      <td>Ж</td>\n",
       "      <td>67.0</td>\n",
       "      <td>0</td>\n",
       "      <td>NaN</td>\n",
       "      <td>1</td>\n",
       "      <td>0</td>\n",
       "      <td>1</td>\n",
       "      <td>238055.53</td>\n",
       "      <td>0</td>\n",
       "    </tr>\n",
       "  </tbody>\n",
       "</table>\n",
       "</div>"
      ],
      "text/plain": [
       "   USERID  score       city gender   age  equity     balance  products  \\\n",
       "0  183012  850.0    Рыбинск      Ж  25.0       1    59214.82         2   \n",
       "1  146556  861.0    Рыбинск      Ж  37.0       5   850594.33         3   \n",
       "2  120722  892.0    Рыбинск      Ж  30.0       0         NaN         1   \n",
       "3  225363  866.0  Ярославль      Ж  51.0       5  1524746.26         2   \n",
       "4  157978  730.0  Ярославль      М  34.0       5      174.00         1   \n",
       "5  202305  856.0    Рыбинск      М  56.0       4   863687.24         3   \n",
       "6  177259  807.0  Ярославль      Ж  39.0       3   405042.44         3   \n",
       "7  218868  825.0  Ярославль      Ж  38.0       4   458145.40         2   \n",
       "8  211686  923.0  Ярославль      М  54.0       5  1206337.87         2   \n",
       "9  133130  906.0  Ярославль      Ж  67.0       0         NaN         1   \n",
       "\n",
       "   credit_card  last_activity  EST_SALARY  churn  \n",
       "0            0              1    75719.14      1  \n",
       "1            1              0    86621.77      0  \n",
       "2            1              1   107683.34      0  \n",
       "3            0              1   174423.53      1  \n",
       "4            1              0    67353.16      1  \n",
       "5            1              0   156619.80      0  \n",
       "6            0              1   103838.32      0  \n",
       "7            1              1    68085.48      0  \n",
       "8            1              0   155371.79      0  \n",
       "9            0              1   238055.53      0  "
      ]
     },
     "metadata": {},
     "output_type": "display_data"
    },
    {
     "name": "stdout",
     "output_type": "stream",
     "text": [
      "********************************************************************************\n",
      "<class 'pandas.core.frame.DataFrame'>\n",
      "RangeIndex: 10000 entries, 0 to 9999\n",
      "Data columns (total 12 columns):\n",
      " #   Column         Non-Null Count  Dtype  \n",
      "---  ------         --------------  -----  \n",
      " 0   USERID         10000 non-null  int64  \n",
      " 1   score          10000 non-null  float64\n",
      " 2   city           10000 non-null  object \n",
      " 3   gender         10000 non-null  object \n",
      " 4   age            9974 non-null   float64\n",
      " 5   equity         10000 non-null  int64  \n",
      " 6   balance        7705 non-null   float64\n",
      " 7   products       10000 non-null  int64  \n",
      " 8   credit_card    10000 non-null  int64  \n",
      " 9   last_activity  10000 non-null  int64  \n",
      " 10  EST_SALARY     10000 non-null  float64\n",
      " 11  churn          10000 non-null  int64  \n",
      "dtypes: float64(4), int64(6), object(2)\n",
      "memory usage: 937.6+ KB\n",
      "********************************************************************************\n",
      "Количество пропущенных значений во всех столбцах датафрейма:\n",
      "USERID              0\n",
      "score               0\n",
      "city                0\n",
      "gender              0\n",
      "age                26\n",
      "equity              0\n",
      "balance          2295\n",
      "products            0\n",
      "credit_card         0\n",
      "last_activity       0\n",
      "EST_SALARY          0\n",
      "churn               0\n",
      "dtype: int64\n",
      "********************************************************************************\n",
      "Процент пропущенных значений во всех столбцах датафрейма:\n",
      "                  0\n",
      "USERID          0.0\n",
      "score           0.0\n",
      "city            0.0\n",
      "gender          0.0\n",
      "age             0.3\n",
      "equity          0.0\n",
      "balance        23.0\n",
      "products        0.0\n",
      "credit_card     0.0\n",
      "last_activity   0.0\n",
      "EST_SALARY      0.0\n",
      "churn           0.0\n",
      "********************************************************************************\n",
      "Количество явных дубликатов:0\n"
     ]
    }
   ],
   "source": [
    "# посмотрим общую информацию\n",
    "\n",
    "data_analys(data)"
   ]
  },
  {
   "cell_type": "code",
   "execution_count": 5,
   "metadata": {},
   "outputs": [
    {
     "data": {
      "text/html": [
       "<div>\n",
       "<style scoped>\n",
       "    .dataframe tbody tr th:only-of-type {\n",
       "        vertical-align: middle;\n",
       "    }\n",
       "\n",
       "    .dataframe tbody tr th {\n",
       "        vertical-align: top;\n",
       "    }\n",
       "\n",
       "    .dataframe thead th {\n",
       "        text-align: right;\n",
       "    }\n",
       "</style>\n",
       "<table border=\"1\" class=\"dataframe\">\n",
       "  <thead>\n",
       "    <tr style=\"text-align: right;\">\n",
       "      <th></th>\n",
       "      <th>USERID</th>\n",
       "      <th>score</th>\n",
       "      <th>age</th>\n",
       "      <th>equity</th>\n",
       "      <th>balance</th>\n",
       "      <th>products</th>\n",
       "      <th>credit_card</th>\n",
       "      <th>last_activity</th>\n",
       "      <th>EST_SALARY</th>\n",
       "      <th>churn</th>\n",
       "    </tr>\n",
       "  </thead>\n",
       "  <tbody>\n",
       "    <tr>\n",
       "      <th>count</th>\n",
       "      <td>10000.0</td>\n",
       "      <td>10000.0</td>\n",
       "      <td>9974.0</td>\n",
       "      <td>10000.0</td>\n",
       "      <td>7705.0</td>\n",
       "      <td>10000.0</td>\n",
       "      <td>10000.0</td>\n",
       "      <td>10000.0</td>\n",
       "      <td>10000.0</td>\n",
       "      <td>10000.0</td>\n",
       "    </tr>\n",
       "    <tr>\n",
       "      <th>mean</th>\n",
       "      <td>171814.7</td>\n",
       "      <td>848.7</td>\n",
       "      <td>42.7</td>\n",
       "      <td>2.6</td>\n",
       "      <td>827794.3</td>\n",
       "      <td>1.9</td>\n",
       "      <td>0.7</td>\n",
       "      <td>0.5</td>\n",
       "      <td>147866.9</td>\n",
       "      <td>0.2</td>\n",
       "    </tr>\n",
       "    <tr>\n",
       "      <th>std</th>\n",
       "      <td>33708.2</td>\n",
       "      <td>65.4</td>\n",
       "      <td>12.2</td>\n",
       "      <td>2.0</td>\n",
       "      <td>1980614.1</td>\n",
       "      <td>0.8</td>\n",
       "      <td>0.5</td>\n",
       "      <td>0.5</td>\n",
       "      <td>139388.5</td>\n",
       "      <td>0.4</td>\n",
       "    </tr>\n",
       "    <tr>\n",
       "      <th>min</th>\n",
       "      <td>94561.0</td>\n",
       "      <td>642.0</td>\n",
       "      <td>18.0</td>\n",
       "      <td>0.0</td>\n",
       "      <td>0.0</td>\n",
       "      <td>0.0</td>\n",
       "      <td>0.0</td>\n",
       "      <td>0.0</td>\n",
       "      <td>2546.3</td>\n",
       "      <td>0.0</td>\n",
       "    </tr>\n",
       "    <tr>\n",
       "      <th>25%</th>\n",
       "      <td>142810.2</td>\n",
       "      <td>802.0</td>\n",
       "      <td>33.0</td>\n",
       "      <td>0.0</td>\n",
       "      <td>295554.2</td>\n",
       "      <td>1.0</td>\n",
       "      <td>0.0</td>\n",
       "      <td>0.0</td>\n",
       "      <td>75251.9</td>\n",
       "      <td>0.0</td>\n",
       "    </tr>\n",
       "    <tr>\n",
       "      <th>50%</th>\n",
       "      <td>172728.0</td>\n",
       "      <td>853.0</td>\n",
       "      <td>40.0</td>\n",
       "      <td>3.0</td>\n",
       "      <td>524272.2</td>\n",
       "      <td>2.0</td>\n",
       "      <td>1.0</td>\n",
       "      <td>1.0</td>\n",
       "      <td>119658.1</td>\n",
       "      <td>0.0</td>\n",
       "    </tr>\n",
       "    <tr>\n",
       "      <th>75%</th>\n",
       "      <td>201261.8</td>\n",
       "      <td>900.0</td>\n",
       "      <td>51.0</td>\n",
       "      <td>4.0</td>\n",
       "      <td>980705.8</td>\n",
       "      <td>2.0</td>\n",
       "      <td>1.0</td>\n",
       "      <td>1.0</td>\n",
       "      <td>174500.5</td>\n",
       "      <td>0.0</td>\n",
       "    </tr>\n",
       "    <tr>\n",
       "      <th>max</th>\n",
       "      <td>229145.0</td>\n",
       "      <td>1000.0</td>\n",
       "      <td>86.0</td>\n",
       "      <td>9.0</td>\n",
       "      <td>119113552.0</td>\n",
       "      <td>5.0</td>\n",
       "      <td>1.0</td>\n",
       "      <td>1.0</td>\n",
       "      <td>1395064.4</td>\n",
       "      <td>1.0</td>\n",
       "    </tr>\n",
       "  </tbody>\n",
       "</table>\n",
       "</div>"
      ],
      "text/plain": [
       "         USERID    score     age   equity      balance  products  credit_card  \\\n",
       "count   10000.0  10000.0  9974.0  10000.0       7705.0   10000.0      10000.0   \n",
       "mean   171814.7    848.7    42.7      2.6     827794.3       1.9          0.7   \n",
       "std     33708.2     65.4    12.2      2.0    1980614.1       0.8          0.5   \n",
       "min     94561.0    642.0    18.0      0.0          0.0       0.0          0.0   \n",
       "25%    142810.2    802.0    33.0      0.0     295554.2       1.0          0.0   \n",
       "50%    172728.0    853.0    40.0      3.0     524272.2       2.0          1.0   \n",
       "75%    201261.8    900.0    51.0      4.0     980705.8       2.0          1.0   \n",
       "max    229145.0   1000.0    86.0      9.0  119113552.0       5.0          1.0   \n",
       "\n",
       "       last_activity  EST_SALARY    churn  \n",
       "count        10000.0     10000.0  10000.0  \n",
       "mean             0.5    147866.9      0.2  \n",
       "std              0.5    139388.5      0.4  \n",
       "min              0.0      2546.3      0.0  \n",
       "25%              0.0     75251.9      0.0  \n",
       "50%              1.0    119658.1      0.0  \n",
       "75%              1.0    174500.5      0.0  \n",
       "max              1.0   1395064.4      1.0  "
      ]
     },
     "execution_count": 5,
     "metadata": {},
     "output_type": "execute_result"
    }
   ],
   "source": [
    "# посмотрим информацию по числовым значениям\n",
    "\n",
    "data.describe().round(1)"
   ]
  },
  {
   "cell_type": "markdown",
   "metadata": {},
   "source": [
    "***После просмотра общих данных можно увидеть, что мы имеем информацию о 10 тыс. клиентов разного возраста, с разными доходами, активных и не активных, а так же ушедших из банка на данный момент. В данных имеются пропуски, название столбцов нужно привести к нижнему и \"Змеинному\" регистру,изменить тип данных в некоторых из них, а так же посмотреть аномалии и наличие выбросов.***"
   ]
  },
  {
   "cell_type": "markdown",
   "metadata": {},
   "source": [
    "<div class=\"alert alert-success\">\n",
    "<b>👍 Успех:</b> Есть описание задачи, план реализации проекта, импортированы нужные библиотеки, датасет загружен и просмотрен\n",
    "</div>"
   ]
  },
  {
   "cell_type": "markdown",
   "metadata": {},
   "source": [
    "### Подготовка данных"
   ]
  },
  {
   "cell_type": "markdown",
   "metadata": {},
   "source": [
    "#### Приведение названия столбцов к нижнему и \"змеинному\" регистру"
   ]
  },
  {
   "cell_type": "code",
   "execution_count": 6,
   "metadata": {},
   "outputs": [
    {
     "data": {
      "text/plain": [
       "Index(['user_id', 'score', 'city', 'gender', 'age', 'equity', 'balance',\n",
       "       'products', 'credit_card', 'last_activity', 'est_salary', 'churn'],\n",
       "      dtype='object')"
      ]
     },
     "metadata": {},
     "output_type": "display_data"
    }
   ],
   "source": [
    "# приведем названия столбцов к нижнему и \"змеиному\" регистрам:\n",
    "\n",
    "data = data.rename (columns = {'USERID':'user_id', 'EST_SALARY':'est_salary'})\n",
    "\n",
    "# проверим, что столбцы переименовались\n",
    "\n",
    "display (data.columns)"
   ]
  },
  {
   "cell_type": "markdown",
   "metadata": {},
   "source": [
    "<div class=\"alert alert-success\">\n",
    "<b>👍 Успех:</b> Все верно!\n",
    "</div>"
   ]
  },
  {
   "cell_type": "markdown",
   "metadata": {},
   "source": [
    "#### Проверка наличия дубликатов"
   ]
  },
  {
   "cell_type": "code",
   "execution_count": 7,
   "metadata": {},
   "outputs": [
    {
     "data": {
      "text/plain": [
       "73"
      ]
     },
     "execution_count": 7,
     "metadata": {},
     "output_type": "execute_result"
    }
   ],
   "source": [
    "# проверим наличие дубликатов по идентификатору пользователей\n",
    "\n",
    "data['user_id'].duplicated().sum()"
   ]
  },
  {
   "cell_type": "code",
   "execution_count": 8,
   "metadata": {},
   "outputs": [
    {
     "data": {
      "text/html": [
       "<div>\n",
       "<style scoped>\n",
       "    .dataframe tbody tr th:only-of-type {\n",
       "        vertical-align: middle;\n",
       "    }\n",
       "\n",
       "    .dataframe tbody tr th {\n",
       "        vertical-align: top;\n",
       "    }\n",
       "\n",
       "    .dataframe thead th {\n",
       "        text-align: right;\n",
       "    }\n",
       "</style>\n",
       "<table border=\"1\" class=\"dataframe\">\n",
       "  <thead>\n",
       "    <tr style=\"text-align: right;\">\n",
       "      <th></th>\n",
       "      <th>user_id</th>\n",
       "      <th>score</th>\n",
       "      <th>city</th>\n",
       "      <th>gender</th>\n",
       "      <th>age</th>\n",
       "      <th>equity</th>\n",
       "      <th>balance</th>\n",
       "      <th>products</th>\n",
       "      <th>credit_card</th>\n",
       "      <th>last_activity</th>\n",
       "      <th>est_salary</th>\n",
       "      <th>churn</th>\n",
       "    </tr>\n",
       "  </thead>\n",
       "  <tbody>\n",
       "  </tbody>\n",
       "</table>\n",
       "</div>"
      ],
      "text/plain": [
       "Empty DataFrame\n",
       "Columns: [user_id, score, city, gender, age, equity, balance, products, credit_card, last_activity, est_salary, churn]\n",
       "Index: []"
      ]
     },
     "execution_count": 8,
     "metadata": {},
     "output_type": "execute_result"
    }
   ],
   "source": [
    "# в таблице 73 дубликата по идентификатору пользователей, но у нас три города, посмотрим дубликаты в паре `user_id` и `city`\n",
    "\n",
    "\n",
    "data[data.duplicated(['user_id', 'city'])]\n",
    "\n",
    "# дубликатов не обнаружено "
   ]
  },
  {
   "cell_type": "markdown",
   "metadata": {},
   "source": [
    "<div class=\"alert alert-success\">\n",
    "<b>👍 Успех:</b> Все верно!\n",
    "</div>"
   ]
  },
  {
   "cell_type": "markdown",
   "metadata": {},
   "source": [
    "#### Проверка на наличие пропусков в данных"
   ]
  },
  {
   "cell_type": "code",
   "execution_count": 9,
   "metadata": {},
   "outputs": [],
   "source": [
    "# в столбце возраст 0,3% пропусков, удалим их из таблицы \n",
    "\n",
    "data = data.dropna(subset=['age'])"
   ]
  },
  {
   "cell_type": "code",
   "execution_count": 10,
   "metadata": {},
   "outputs": [
    {
     "data": {
      "text/html": [
       "<div>\n",
       "<style scoped>\n",
       "    .dataframe tbody tr th:only-of-type {\n",
       "        vertical-align: middle;\n",
       "    }\n",
       "\n",
       "    .dataframe tbody tr th {\n",
       "        vertical-align: top;\n",
       "    }\n",
       "\n",
       "    .dataframe thead th {\n",
       "        text-align: right;\n",
       "    }\n",
       "</style>\n",
       "<table border=\"1\" class=\"dataframe\">\n",
       "  <thead>\n",
       "    <tr style=\"text-align: right;\">\n",
       "      <th></th>\n",
       "      <th>user_id</th>\n",
       "      <th>score</th>\n",
       "      <th>city</th>\n",
       "      <th>gender</th>\n",
       "      <th>age</th>\n",
       "      <th>equity</th>\n",
       "      <th>balance</th>\n",
       "      <th>products</th>\n",
       "      <th>credit_card</th>\n",
       "      <th>last_activity</th>\n",
       "      <th>est_salary</th>\n",
       "      <th>churn</th>\n",
       "    </tr>\n",
       "  </thead>\n",
       "  <tbody>\n",
       "    <tr>\n",
       "      <th>3900</th>\n",
       "      <td>179831</td>\n",
       "      <td>730.0</td>\n",
       "      <td>Ярославль</td>\n",
       "      <td>М</td>\n",
       "      <td>18.0</td>\n",
       "      <td>0</td>\n",
       "      <td>0.0</td>\n",
       "      <td>2</td>\n",
       "      <td>1</td>\n",
       "      <td>1</td>\n",
       "      <td>64548.33</td>\n",
       "      <td>0</td>\n",
       "    </tr>\n",
       "    <tr>\n",
       "      <th>6757</th>\n",
       "      <td>148456</td>\n",
       "      <td>813.0</td>\n",
       "      <td>Ярославль</td>\n",
       "      <td>М</td>\n",
       "      <td>20.0</td>\n",
       "      <td>2</td>\n",
       "      <td>0.0</td>\n",
       "      <td>2</td>\n",
       "      <td>1</td>\n",
       "      <td>0</td>\n",
       "      <td>23876.51</td>\n",
       "      <td>0</td>\n",
       "    </tr>\n",
       "  </tbody>\n",
       "</table>\n",
       "</div>"
      ],
      "text/plain": [
       "      user_id  score       city gender   age  equity  balance  products  \\\n",
       "3900   179831  730.0  Ярославль      М  18.0       0      0.0         2   \n",
       "6757   148456  813.0  Ярославль      М  20.0       2      0.0         2   \n",
       "\n",
       "      credit_card  last_activity  est_salary  churn  \n",
       "3900            1              1    64548.33      0  \n",
       "6757            1              0    23876.51      0  "
      ]
     },
     "execution_count": 10,
     "metadata": {},
     "output_type": "execute_result"
    }
   ],
   "source": [
    "# посмотрим какое количество клиентов с нулевым балансом\n",
    "\n",
    "data[data['balance'] == 0]"
   ]
  },
  {
   "cell_type": "code",
   "execution_count": 11,
   "metadata": {},
   "outputs": [],
   "source": [
    "# у нас всего два клиента с нулевым балансов, заменим пропуски в балансе на нули \n",
    "\n",
    "data['balance'] = data['balance'].fillna(0)"
   ]
  },
  {
   "cell_type": "code",
   "execution_count": 12,
   "metadata": {},
   "outputs": [
    {
     "data": {
      "text/plain": [
       "user_id          0\n",
       "score            0\n",
       "city             0\n",
       "gender           0\n",
       "age              0\n",
       "equity           0\n",
       "balance          0\n",
       "products         0\n",
       "credit_card      0\n",
       "last_activity    0\n",
       "est_salary       0\n",
       "churn            0\n",
       "dtype: int64"
      ]
     },
     "execution_count": 12,
     "metadata": {},
     "output_type": "execute_result"
    }
   ],
   "source": [
    "# проверим все изменения\n",
    "\n",
    "data.isna().sum()"
   ]
  },
  {
   "cell_type": "markdown",
   "metadata": {},
   "source": [
    "<div class=\"alert alert-success\">\n",
    "<b>👍 Успех:</b> Все верно!\n",
    "</div>"
   ]
  },
  {
   "cell_type": "markdown",
   "metadata": {},
   "source": [
    "#### Проверка значений на наличие выбросов и аномалий"
   ]
  },
  {
   "cell_type": "code",
   "execution_count": 13,
   "metadata": {},
   "outputs": [
    {
     "data": {
      "text/html": [
       "<div>\n",
       "<style scoped>\n",
       "    .dataframe tbody tr th:only-of-type {\n",
       "        vertical-align: middle;\n",
       "    }\n",
       "\n",
       "    .dataframe tbody tr th {\n",
       "        vertical-align: top;\n",
       "    }\n",
       "\n",
       "    .dataframe thead th {\n",
       "        text-align: right;\n",
       "    }\n",
       "</style>\n",
       "<table border=\"1\" class=\"dataframe\">\n",
       "  <thead>\n",
       "    <tr style=\"text-align: right;\">\n",
       "      <th></th>\n",
       "      <th>user_id</th>\n",
       "      <th>score</th>\n",
       "      <th>city</th>\n",
       "      <th>gender</th>\n",
       "      <th>age</th>\n",
       "      <th>equity</th>\n",
       "      <th>balance</th>\n",
       "      <th>products</th>\n",
       "      <th>credit_card</th>\n",
       "      <th>last_activity</th>\n",
       "      <th>est_salary</th>\n",
       "      <th>churn</th>\n",
       "    </tr>\n",
       "  </thead>\n",
       "  <tbody>\n",
       "    <tr>\n",
       "      <th>8957</th>\n",
       "      <td>147837</td>\n",
       "      <td>962.0</td>\n",
       "      <td>Рыбинск</td>\n",
       "      <td>Ж</td>\n",
       "      <td>79.0</td>\n",
       "      <td>3</td>\n",
       "      <td>0.0</td>\n",
       "      <td>0</td>\n",
       "      <td>0</td>\n",
       "      <td>0</td>\n",
       "      <td>25063.96</td>\n",
       "      <td>1</td>\n",
       "    </tr>\n",
       "  </tbody>\n",
       "</table>\n",
       "</div>"
      ],
      "text/plain": [
       "      user_id  score     city gender   age  equity  balance  products  \\\n",
       "8957   147837  962.0  Рыбинск      Ж  79.0       3      0.0         0   \n",
       "\n",
       "      credit_card  last_activity  est_salary  churn  \n",
       "8957            0              0    25063.96      1  "
      ]
     },
     "execution_count": 13,
     "metadata": {},
     "output_type": "execute_result"
    }
   ],
   "source": [
    "# при изучении общей информации было видно, что есть клиенты с нулевым количеством продуктов\n",
    "# посмотрим сколько таких клиентов \n",
    "\n",
    "data[data['products'] == 0]"
   ]
  },
  {
   "cell_type": "code",
   "execution_count": 14,
   "metadata": {},
   "outputs": [],
   "source": [
    "# один клиент без баланса на счете, не активный и ушедший, удалим его из таблицы \n",
    "\n",
    "data = data[data['products'] > 0]"
   ]
  },
  {
   "cell_type": "markdown",
   "metadata": {},
   "source": [
    "<div class=\"alert alert-success\">\n",
    "<b>👍 Успех:</b> Все верно!\n",
    "</div>"
   ]
  },
  {
   "cell_type": "code",
   "execution_count": 15,
   "metadata": {},
   "outputs": [
    {
     "data": {
      "image/png": "[encoded data removed]",
      "text/plain": [
       "<Figure size 432x288 with 1 Axes>"
      ]
     },
     "metadata": {
      "needs_background": "light"
     },
     "output_type": "display_data"
    }
   ],
   "source": [
    "# так же при изучении общей информации в одном только столбце `balance` показатели mean сильно отличались от 50%\n",
    "\n",
    "# построим диаграмму размаха\n",
    "\n",
    "data.boxplot('balance')\n",
    "plt.xlabel('Продажи по платформам')\n",
    "plt.ylabel('Платформа')\n",
    "plt.title('Диаграмма размаха продаж по платформам')\n",
    "plt.show()"
   ]
  },
  {
   "cell_type": "code",
   "execution_count": 16,
   "metadata": {},
   "outputs": [
    {
     "data": {
      "image/png": "[encoded data removed]",
      "text/plain": [
       "<Figure size 432x288 with 1 Axes>"
      ]
     },
     "metadata": {
      "needs_background": "light"
     },
     "output_type": "display_data"
    }
   ],
   "source": [
    "# видим, что есть аномалии\n",
    "\n",
    "data.boxplot('balance')\n",
    "plt.xlabel('Продажи по платформам')\n",
    "plt.ylabel('Платформа')\n",
    "plt.title('Диаграмма размаха продаж по платформам')\n",
    "plt.ylim(10000000,22000000)\n",
    "plt.show()"
   ]
  },
  {
   "cell_type": "code",
   "execution_count": 17,
   "metadata": {},
   "outputs": [
    {
     "data": {
      "text/plain": [
       "7597    119113552.0\n",
       "1059     64866210.2\n",
       "1846     43277099.8\n",
       "4721     29008931.9\n",
       "9753     25727761.9\n",
       "8484     21549943.6\n",
       "6948     20906155.5\n",
       "125      19757180.8\n",
       "7109     17904763.0\n",
       "4005     15624095.8\n",
       "Name: balance, dtype: float64"
      ]
     },
     "execution_count": 17,
     "metadata": {},
     "output_type": "execute_result"
    }
   ],
   "source": [
    "# посмотрим сколько таких счетов и какие на них суммы\n",
    "\n",
    "data['balance'].sort_values(ascending=False).head(10).round(1)"
   ]
  },
  {
   "cell_type": "code",
   "execution_count": 18,
   "metadata": {},
   "outputs": [
    {
     "data": {
      "text/plain": [
       "6365654795.93"
      ]
     },
     "execution_count": 18,
     "metadata": {},
     "output_type": "execute_result"
    }
   ],
   "source": [
    "data['balance'].sum()"
   ]
  },
  {
   "cell_type": "code",
   "execution_count": 19,
   "metadata": {},
   "outputs": [
    {
     "data": {
      "text/plain": [
       "5.688520826192504"
      ]
     },
     "execution_count": 19,
     "metadata": {},
     "output_type": "execute_result"
    }
   ],
   "source": [
    "# посмотрим какой процент от суммы всех счетов они имеют\n",
    "\n",
    "data.query('balance > 16000000')['balance'].sum() / data['balance'].sum() * 100\n",
    "\n",
    "# всего чуть больше 5% от общей суммы на счетах в банке, оставим эти данные в таблице"
   ]
  },
  {
   "cell_type": "markdown",
   "metadata": {},
   "source": [
    "<div class=\"alert alert-success\">\n",
    "<b>👍 Успех:</b> Все верно!\n",
    "</div>"
   ]
  },
  {
   "cell_type": "markdown",
   "metadata": {},
   "source": [
    "#### Преобразование данных к нужному типу"
   ]
  },
  {
   "cell_type": "code",
   "execution_count": 20,
   "metadata": {},
   "outputs": [],
   "source": [
    "# приведем столбцы `score` и `age` к целочисленным значениям\n",
    "\n",
    "data = data.astype({'score': int, 'age': int}, errors='ignore')"
   ]
  },
  {
   "cell_type": "code",
   "execution_count": 21,
   "metadata": {},
   "outputs": [],
   "source": [
    "# переведем обозначение пола клиента в численные значения (женский пол = 0, мужской пол = 1)\n",
    "\n",
    "data['gender'] = data['gender'].replace({'Ж': 0, 'М': 1})"
   ]
  },
  {
   "cell_type": "code",
   "execution_count": 22,
   "metadata": {},
   "outputs": [
    {
     "name": "stdout",
     "output_type": "stream",
     "text": [
      "<class 'pandas.core.frame.DataFrame'>\n",
      "Int64Index: 9973 entries, 0 to 9999\n",
      "Data columns (total 12 columns):\n",
      " #   Column         Non-Null Count  Dtype  \n",
      "---  ------         --------------  -----  \n",
      " 0   user_id        9973 non-null   int64  \n",
      " 1   score          9973 non-null   int64  \n",
      " 2   city           9973 non-null   object \n",
      " 3   gender         9973 non-null   int64  \n",
      " 4   age            9973 non-null   int64  \n",
      " 5   equity         9973 non-null   int64  \n",
      " 6   balance        9973 non-null   float64\n",
      " 7   products       9973 non-null   int64  \n",
      " 8   credit_card    9973 non-null   int64  \n",
      " 9   last_activity  9973 non-null   int64  \n",
      " 10  est_salary     9973 non-null   float64\n",
      " 11  churn          9973 non-null   int64  \n",
      "dtypes: float64(2), int64(9), object(1)\n",
      "memory usage: 1012.9+ KB\n"
     ]
    }
   ],
   "source": [
    "# проверим изменения\n",
    "\n",
    "data.info()"
   ]
  },
  {
   "cell_type": "markdown",
   "metadata": {},
   "source": [
    "***Данные подготовлены к дальнейшему анализу. Столбцы приведены к нужному типу и для удобства к правильному виду, данные проверены на дубликаты, аномалии и выбросы. Пропуски и аномалии удалены, либо заменены.***"
   ]
  },
  {
   "cell_type": "markdown",
   "metadata": {},
   "source": [
    "<div class=\"alert alert-success\">\n",
    "<b>👍 Успех:</b> Все верно!\n",
    "</div>"
   ]
  },
  {
   "cell_type": "markdown",
   "metadata": {},
   "source": [
    "### Исследовательский анализ данных"
   ]
  },
  {
   "cell_type": "markdown",
   "metadata": {},
   "source": [
    "#### Какой общий процент оттока клиентов у банка"
   ]
  },
  {
   "cell_type": "code",
   "execution_count": 23,
   "metadata": {},
   "outputs": [
    {
     "name": "stdout",
     "output_type": "stream",
     "text": [
      "Общий процент оттока у банка: 18.2\n"
     ]
    }
   ],
   "source": [
    "# посмотрим какой общий процент оттока у банка\n",
    "\n",
    "print('Общий процент оттока у банка:', data['churn'].mean().round(3) * 100)"
   ]
  },
  {
   "cell_type": "code",
   "execution_count": 24,
   "metadata": {},
   "outputs": [
    {
     "data": {
      "image/png": "[encoded data removed]",
      "text/plain": [
       "<Figure size 360x360 with 1 Axes>"
      ]
     },
     "metadata": {
      "needs_background": "light"
     },
     "output_type": "display_data"
    }
   ],
   "source": [
    "# построим диаграмму распределение клиентов по признаку оттока\n",
    "\n",
    "plt.figure(figsize=(5,5))\n",
    "sns.countplot(x='churn', data=data, hue='churn')\n",
    "plt.title('Распределение клиентов по признаку оттока')\n",
    "plt.xlabel('Признак оттока')\n",
    "plt.ylabel('Количество')\n",
    "plt.show()"
   ]
  },
  {
   "cell_type": "markdown",
   "metadata": {},
   "source": [
    "*Общий отток у банка 18,2%, это довольно большое количество клиентов, в следующем шаге посмотрим каждый город отдельно.\n",
    "Для нагладности была построена диаграмма.*"
   ]
  },
  {
   "cell_type": "markdown",
   "metadata": {},
   "source": [
    "<div class=\"alert alert-success\">\n",
    "<b>👍 Успех:</b> Все верно!\n",
    "</div>"
   ]
  },
  {
   "cell_type": "markdown",
   "metadata": {},
   "source": [
    "#### Какой процент оттока клиентов в разных городах"
   ]
  },
  {
   "cell_type": "code",
   "execution_count": 25,
   "metadata": {},
   "outputs": [
    {
     "name": "stdout",
     "output_type": "stream",
     "text": [
      "Процент оттока у банка в г. Ярославль: 19.0\n",
      "Процент оттока у банка в г. Ростов: 18.7\n",
      "Процент оттока у банка в г. Рыбинск: 16.3\n"
     ]
    }
   ],
   "source": [
    "# посмотрим какой процент оттока у банков в разных городах\n",
    "\n",
    "print('Процент оттока у банка в г. Ярославль:', data.query('city == \"Ярославль\"')['churn'].mean().round(3) * 100)\n",
    "print('Процент оттока у банка в г. Ростов:', data.query('city == \"Ростов\"')['churn'].mean().round(3) * 100)\n",
    "print('Процент оттока у банка в г. Рыбинск:', data.query('city == \"Рыбинск\"')['churn'].mean().round(3) * 100)"
   ]
  },
  {
   "cell_type": "code",
   "execution_count": 26,
   "metadata": {},
   "outputs": [
    {
     "data": {
      "image/png": "[encoded data removed]",
      "text/plain": [
       "<Figure size 720x360 with 1 Axes>"
      ]
     },
     "metadata": {
      "needs_background": "light"
     },
     "output_type": "display_data"
    }
   ],
   "source": [
    "# построим диаграмму распределения количества клиентов по признаку оттока в городах\n",
    "\n",
    "plt.figure(figsize=(10,5))\n",
    "sns.countplot(x='city', data=data.sort_values(by='city', ascending=False), hue='churn')\n",
    "plt.title('Распределение клиентов по признаку оттока в городах')\n",
    "plt.xlabel('Город')\n",
    "plt.ylabel('Количество')\n",
    "plt.show()"
   ]
  },
  {
   "cell_type": "markdown",
   "metadata": {},
   "source": [
    "*Самый большой отток клиентов в г. Ярославль - 19%, далее г. Ростов - 18.7% и самый маленький процент оттока в г. Рыбинск - 16.3%.*"
   ]
  },
  {
   "cell_type": "markdown",
   "metadata": {},
   "source": [
    "<div class=\"alert alert-success\">\n",
    "<b>👍 Успех:</b> Все верно!\n",
    "</div>"
   ]
  },
  {
   "cell_type": "markdown",
   "metadata": {},
   "source": [
    "#### Общий портрет клиентов в разных городах по средним значениям"
   ]
  },
  {
   "cell_type": "code",
   "execution_count": 27,
   "metadata": {},
   "outputs": [
    {
     "data": {
      "text/html": [
       "<div>\n",
       "<style scoped>\n",
       "    .dataframe tbody tr th:only-of-type {\n",
       "        vertical-align: middle;\n",
       "    }\n",
       "\n",
       "    .dataframe tbody tr th {\n",
       "        vertical-align: top;\n",
       "    }\n",
       "\n",
       "    .dataframe thead th {\n",
       "        text-align: right;\n",
       "    }\n",
       "</style>\n",
       "<table border=\"1\" class=\"dataframe\">\n",
       "  <thead>\n",
       "    <tr style=\"text-align: right;\">\n",
       "      <th></th>\n",
       "      <th>user_id</th>\n",
       "      <th>score</th>\n",
       "      <th>gender</th>\n",
       "      <th>age</th>\n",
       "      <th>equity</th>\n",
       "      <th>balance</th>\n",
       "      <th>products</th>\n",
       "      <th>credit_card</th>\n",
       "      <th>last_activity</th>\n",
       "      <th>est_salary</th>\n",
       "      <th>churn</th>\n",
       "    </tr>\n",
       "  </thead>\n",
       "  <tbody>\n",
       "    <tr>\n",
       "      <th>count</th>\n",
       "      <td>5875.0</td>\n",
       "      <td>5875.0</td>\n",
       "      <td>5875.0</td>\n",
       "      <td>5875.0</td>\n",
       "      <td>5875.0</td>\n",
       "      <td>5875.0</td>\n",
       "      <td>5875.0</td>\n",
       "      <td>5875.0</td>\n",
       "      <td>5875.0</td>\n",
       "      <td>5875.0</td>\n",
       "      <td>5875.0</td>\n",
       "    </tr>\n",
       "    <tr>\n",
       "      <th>mean</th>\n",
       "      <td>172064.5</td>\n",
       "      <td>850.2</td>\n",
       "      <td>0.5</td>\n",
       "      <td>42.1</td>\n",
       "      <td>2.6</td>\n",
       "      <td>695010.2</td>\n",
       "      <td>1.9</td>\n",
       "      <td>0.7</td>\n",
       "      <td>0.5</td>\n",
       "      <td>162470.4</td>\n",
       "      <td>0.2</td>\n",
       "    </tr>\n",
       "    <tr>\n",
       "      <th>std</th>\n",
       "      <td>33739.7</td>\n",
       "      <td>66.6</td>\n",
       "      <td>0.5</td>\n",
       "      <td>11.9</td>\n",
       "      <td>2.0</td>\n",
       "      <td>2235491.5</td>\n",
       "      <td>0.8</td>\n",
       "      <td>0.4</td>\n",
       "      <td>0.5</td>\n",
       "      <td>160875.7</td>\n",
       "      <td>0.4</td>\n",
       "    </tr>\n",
       "    <tr>\n",
       "      <th>min</th>\n",
       "      <td>95384.0</td>\n",
       "      <td>646.0</td>\n",
       "      <td>0.0</td>\n",
       "      <td>18.0</td>\n",
       "      <td>0.0</td>\n",
       "      <td>0.0</td>\n",
       "      <td>1.0</td>\n",
       "      <td>0.0</td>\n",
       "      <td>0.0</td>\n",
       "      <td>2546.3</td>\n",
       "      <td>0.0</td>\n",
       "    </tr>\n",
       "    <tr>\n",
       "      <th>25%</th>\n",
       "      <td>143103.5</td>\n",
       "      <td>802.0</td>\n",
       "      <td>0.0</td>\n",
       "      <td>33.0</td>\n",
       "      <td>0.0</td>\n",
       "      <td>42.5</td>\n",
       "      <td>1.0</td>\n",
       "      <td>0.0</td>\n",
       "      <td>0.0</td>\n",
       "      <td>80227.1</td>\n",
       "      <td>0.0</td>\n",
       "    </tr>\n",
       "    <tr>\n",
       "      <th>50%</th>\n",
       "      <td>172800.0</td>\n",
       "      <td>855.0</td>\n",
       "      <td>1.0</td>\n",
       "      <td>39.0</td>\n",
       "      <td>3.0</td>\n",
       "      <td>373204.1</td>\n",
       "      <td>2.0</td>\n",
       "      <td>1.0</td>\n",
       "      <td>1.0</td>\n",
       "      <td>127919.7</td>\n",
       "      <td>0.0</td>\n",
       "    </tr>\n",
       "    <tr>\n",
       "      <th>75%</th>\n",
       "      <td>201544.5</td>\n",
       "      <td>902.0</td>\n",
       "      <td>1.0</td>\n",
       "      <td>50.0</td>\n",
       "      <td>4.0</td>\n",
       "      <td>826165.4</td>\n",
       "      <td>2.0</td>\n",
       "      <td>1.0</td>\n",
       "      <td>1.0</td>\n",
       "      <td>185275.4</td>\n",
       "      <td>0.0</td>\n",
       "    </tr>\n",
       "    <tr>\n",
       "      <th>max</th>\n",
       "      <td>229145.0</td>\n",
       "      <td>1000.0</td>\n",
       "      <td>1.0</td>\n",
       "      <td>86.0</td>\n",
       "      <td>9.0</td>\n",
       "      <td>119113552.0</td>\n",
       "      <td>5.0</td>\n",
       "      <td>1.0</td>\n",
       "      <td>1.0</td>\n",
       "      <td>1395064.4</td>\n",
       "      <td>1.0</td>\n",
       "    </tr>\n",
       "  </tbody>\n",
       "</table>\n",
       "</div>"
      ],
      "text/plain": [
       "        user_id   score  gender     age  equity      balance  products  \\\n",
       "count    5875.0  5875.0  5875.0  5875.0  5875.0       5875.0    5875.0   \n",
       "mean   172064.5   850.2     0.5    42.1     2.6     695010.2       1.9   \n",
       "std     33739.7    66.6     0.5    11.9     2.0    2235491.5       0.8   \n",
       "min     95384.0   646.0     0.0    18.0     0.0          0.0       1.0   \n",
       "25%    143103.5   802.0     0.0    33.0     0.0         42.5       1.0   \n",
       "50%    172800.0   855.0     1.0    39.0     3.0     373204.1       2.0   \n",
       "75%    201544.5   902.0     1.0    50.0     4.0     826165.4       2.0   \n",
       "max    229145.0  1000.0     1.0    86.0     9.0  119113552.0       5.0   \n",
       "\n",
       "       credit_card  last_activity  est_salary   churn  \n",
       "count       5875.0         5875.0      5875.0  5875.0  \n",
       "mean           0.7            0.5    162470.4     0.2  \n",
       "std            0.4            0.5    160875.7     0.4  \n",
       "min            0.0            0.0      2546.3     0.0  \n",
       "25%            0.0            0.0     80227.1     0.0  \n",
       "50%            1.0            1.0    127919.7     0.0  \n",
       "75%            1.0            1.0    185275.4     0.0  \n",
       "max            1.0            1.0   1395064.4     1.0  "
      ]
     },
     "execution_count": 27,
     "metadata": {},
     "output_type": "execute_result"
    }
   ],
   "source": [
    "# с помощью среза посмотрим средние числовые значения в каждом городе и составим портреты\n",
    "\n",
    "data.query('city == \"Ярославль\"').describe().round(1)"
   ]
  },
  {
   "cell_type": "code",
   "execution_count": 28,
   "metadata": {},
   "outputs": [
    {
     "data": {
      "text/html": [
       "<div>\n",
       "<style scoped>\n",
       "    .dataframe tbody tr th:only-of-type {\n",
       "        vertical-align: middle;\n",
       "    }\n",
       "\n",
       "    .dataframe tbody tr th {\n",
       "        vertical-align: top;\n",
       "    }\n",
       "\n",
       "    .dataframe thead th {\n",
       "        text-align: right;\n",
       "    }\n",
       "</style>\n",
       "<table border=\"1\" class=\"dataframe\">\n",
       "  <thead>\n",
       "    <tr style=\"text-align: right;\">\n",
       "      <th></th>\n",
       "      <th>user_id</th>\n",
       "      <th>score</th>\n",
       "      <th>gender</th>\n",
       "      <th>age</th>\n",
       "      <th>equity</th>\n",
       "      <th>balance</th>\n",
       "      <th>products</th>\n",
       "      <th>credit_card</th>\n",
       "      <th>last_activity</th>\n",
       "      <th>est_salary</th>\n",
       "      <th>churn</th>\n",
       "    </tr>\n",
       "  </thead>\n",
       "  <tbody>\n",
       "    <tr>\n",
       "      <th>count</th>\n",
       "      <td>1416.0</td>\n",
       "      <td>1416.0</td>\n",
       "      <td>1416.0</td>\n",
       "      <td>1416.0</td>\n",
       "      <td>1416.0</td>\n",
       "      <td>1416.0</td>\n",
       "      <td>1416.0</td>\n",
       "      <td>1416.0</td>\n",
       "      <td>1416.0</td>\n",
       "      <td>1416.0</td>\n",
       "      <td>1416.0</td>\n",
       "    </tr>\n",
       "    <tr>\n",
       "      <th>mean</th>\n",
       "      <td>169044.1</td>\n",
       "      <td>842.6</td>\n",
       "      <td>0.5</td>\n",
       "      <td>44.1</td>\n",
       "      <td>2.8</td>\n",
       "      <td>551737.1</td>\n",
       "      <td>1.9</td>\n",
       "      <td>0.6</td>\n",
       "      <td>0.5</td>\n",
       "      <td>111518.5</td>\n",
       "      <td>0.2</td>\n",
       "    </tr>\n",
       "    <tr>\n",
       "      <th>std</th>\n",
       "      <td>33675.4</td>\n",
       "      <td>61.0</td>\n",
       "      <td>0.5</td>\n",
       "      <td>12.7</td>\n",
       "      <td>1.9</td>\n",
       "      <td>654321.7</td>\n",
       "      <td>0.8</td>\n",
       "      <td>0.5</td>\n",
       "      <td>0.5</td>\n",
       "      <td>69712.6</td>\n",
       "      <td>0.4</td>\n",
       "    </tr>\n",
       "    <tr>\n",
       "      <th>min</th>\n",
       "      <td>94561.0</td>\n",
       "      <td>642.0</td>\n",
       "      <td>0.0</td>\n",
       "      <td>18.0</td>\n",
       "      <td>0.0</td>\n",
       "      <td>0.0</td>\n",
       "      <td>1.0</td>\n",
       "      <td>0.0</td>\n",
       "      <td>0.0</td>\n",
       "      <td>5341.5</td>\n",
       "      <td>0.0</td>\n",
       "    </tr>\n",
       "    <tr>\n",
       "      <th>25%</th>\n",
       "      <td>140071.2</td>\n",
       "      <td>800.0</td>\n",
       "      <td>0.0</td>\n",
       "      <td>34.0</td>\n",
       "      <td>1.0</td>\n",
       "      <td>156982.0</td>\n",
       "      <td>1.0</td>\n",
       "      <td>0.0</td>\n",
       "      <td>0.0</td>\n",
       "      <td>61621.7</td>\n",
       "      <td>0.0</td>\n",
       "    </tr>\n",
       "    <tr>\n",
       "      <th>50%</th>\n",
       "      <td>168639.0</td>\n",
       "      <td>841.0</td>\n",
       "      <td>0.0</td>\n",
       "      <td>42.0</td>\n",
       "      <td>3.0</td>\n",
       "      <td>406461.9</td>\n",
       "      <td>2.0</td>\n",
       "      <td>1.0</td>\n",
       "      <td>1.0</td>\n",
       "      <td>100059.4</td>\n",
       "      <td>0.0</td>\n",
       "    </tr>\n",
       "    <tr>\n",
       "      <th>75%</th>\n",
       "      <td>197264.5</td>\n",
       "      <td>889.0</td>\n",
       "      <td>1.0</td>\n",
       "      <td>55.0</td>\n",
       "      <td>4.0</td>\n",
       "      <td>759187.4</td>\n",
       "      <td>2.0</td>\n",
       "      <td>1.0</td>\n",
       "      <td>1.0</td>\n",
       "      <td>146605.2</td>\n",
       "      <td>0.0</td>\n",
       "    </tr>\n",
       "    <tr>\n",
       "      <th>max</th>\n",
       "      <td>229026.0</td>\n",
       "      <td>996.0</td>\n",
       "      <td>1.0</td>\n",
       "      <td>83.0</td>\n",
       "      <td>9.0</td>\n",
       "      <td>11834882.7</td>\n",
       "      <td>5.0</td>\n",
       "      <td>1.0</td>\n",
       "      <td>1.0</td>\n",
       "      <td>507039.2</td>\n",
       "      <td>1.0</td>\n",
       "    </tr>\n",
       "  </tbody>\n",
       "</table>\n",
       "</div>"
      ],
      "text/plain": [
       "        user_id   score  gender     age  equity     balance  products  \\\n",
       "count    1416.0  1416.0  1416.0  1416.0  1416.0      1416.0    1416.0   \n",
       "mean   169044.1   842.6     0.5    44.1     2.8    551737.1       1.9   \n",
       "std     33675.4    61.0     0.5    12.7     1.9    654321.7       0.8   \n",
       "min     94561.0   642.0     0.0    18.0     0.0         0.0       1.0   \n",
       "25%    140071.2   800.0     0.0    34.0     1.0    156982.0       1.0   \n",
       "50%    168639.0   841.0     0.0    42.0     3.0    406461.9       2.0   \n",
       "75%    197264.5   889.0     1.0    55.0     4.0    759187.4       2.0   \n",
       "max    229026.0   996.0     1.0    83.0     9.0  11834882.7       5.0   \n",
       "\n",
       "       credit_card  last_activity  est_salary   churn  \n",
       "count       1416.0         1416.0      1416.0  1416.0  \n",
       "mean           0.6            0.5    111518.5     0.2  \n",
       "std            0.5            0.5     69712.6     0.4  \n",
       "min            0.0            0.0      5341.5     0.0  \n",
       "25%            0.0            0.0     61621.7     0.0  \n",
       "50%            1.0            1.0    100059.4     0.0  \n",
       "75%            1.0            1.0    146605.2     0.0  \n",
       "max            1.0            1.0    507039.2     1.0  "
      ]
     },
     "execution_count": 28,
     "metadata": {},
     "output_type": "execute_result"
    }
   ],
   "source": [
    "data.query('city == \"Ростов\"').describe().round(1)"
   ]
  },
  {
   "cell_type": "code",
   "execution_count": 29,
   "metadata": {},
   "outputs": [
    {
     "data": {
      "text/html": [
       "<div>\n",
       "<style scoped>\n",
       "    .dataframe tbody tr th:only-of-type {\n",
       "        vertical-align: middle;\n",
       "    }\n",
       "\n",
       "    .dataframe tbody tr th {\n",
       "        vertical-align: top;\n",
       "    }\n",
       "\n",
       "    .dataframe thead th {\n",
       "        text-align: right;\n",
       "    }\n",
       "</style>\n",
       "<table border=\"1\" class=\"dataframe\">\n",
       "  <thead>\n",
       "    <tr style=\"text-align: right;\">\n",
       "      <th></th>\n",
       "      <th>user_id</th>\n",
       "      <th>score</th>\n",
       "      <th>gender</th>\n",
       "      <th>age</th>\n",
       "      <th>equity</th>\n",
       "      <th>balance</th>\n",
       "      <th>products</th>\n",
       "      <th>credit_card</th>\n",
       "      <th>last_activity</th>\n",
       "      <th>est_salary</th>\n",
       "      <th>churn</th>\n",
       "    </tr>\n",
       "  </thead>\n",
       "  <tbody>\n",
       "    <tr>\n",
       "      <th>count</th>\n",
       "      <td>2682.0</td>\n",
       "      <td>2682.0</td>\n",
       "      <td>2682.0</td>\n",
       "      <td>2682.0</td>\n",
       "      <td>2682.0</td>\n",
       "      <td>2682.0</td>\n",
       "      <td>2682.0</td>\n",
       "      <td>2682.0</td>\n",
       "      <td>2682.0</td>\n",
       "      <td>2682.0</td>\n",
       "      <td>2682.0</td>\n",
       "    </tr>\n",
       "    <tr>\n",
       "      <th>mean</th>\n",
       "      <td>172518.0</td>\n",
       "      <td>848.6</td>\n",
       "      <td>0.5</td>\n",
       "      <td>43.3</td>\n",
       "      <td>2.6</td>\n",
       "      <td>559735.3</td>\n",
       "      <td>1.8</td>\n",
       "      <td>0.6</td>\n",
       "      <td>0.6</td>\n",
       "      <td>134816.2</td>\n",
       "      <td>0.2</td>\n",
       "    </tr>\n",
       "    <tr>\n",
       "      <th>std</th>\n",
       "      <td>33555.3</td>\n",
       "      <td>64.8</td>\n",
       "      <td>0.5</td>\n",
       "      <td>12.3</td>\n",
       "      <td>1.9</td>\n",
       "      <td>714750.0</td>\n",
       "      <td>0.7</td>\n",
       "      <td>0.5</td>\n",
       "      <td>0.5</td>\n",
       "      <td>107502.1</td>\n",
       "      <td>0.4</td>\n",
       "    </tr>\n",
       "    <tr>\n",
       "      <th>min</th>\n",
       "      <td>96267.0</td>\n",
       "      <td>642.0</td>\n",
       "      <td>0.0</td>\n",
       "      <td>18.0</td>\n",
       "      <td>0.0</td>\n",
       "      <td>0.0</td>\n",
       "      <td>1.0</td>\n",
       "      <td>0.0</td>\n",
       "      <td>0.0</td>\n",
       "      <td>3487.3</td>\n",
       "      <td>0.0</td>\n",
       "    </tr>\n",
       "    <tr>\n",
       "      <th>25%</th>\n",
       "      <td>143708.8</td>\n",
       "      <td>803.0</td>\n",
       "      <td>0.0</td>\n",
       "      <td>34.0</td>\n",
       "      <td>0.0</td>\n",
       "      <td>76671.6</td>\n",
       "      <td>1.0</td>\n",
       "      <td>0.0</td>\n",
       "      <td>0.0</td>\n",
       "      <td>73115.7</td>\n",
       "      <td>0.0</td>\n",
       "    </tr>\n",
       "    <tr>\n",
       "      <th>50%</th>\n",
       "      <td>174054.5</td>\n",
       "      <td>853.0</td>\n",
       "      <td>0.0</td>\n",
       "      <td>41.0</td>\n",
       "      <td>3.0</td>\n",
       "      <td>371858.4</td>\n",
       "      <td>2.0</td>\n",
       "      <td>1.0</td>\n",
       "      <td>1.0</td>\n",
       "      <td>113335.9</td>\n",
       "      <td>0.0</td>\n",
       "    </tr>\n",
       "    <tr>\n",
       "      <th>75%</th>\n",
       "      <td>201586.0</td>\n",
       "      <td>898.0</td>\n",
       "      <td>1.0</td>\n",
       "      <td>53.0</td>\n",
       "      <td>4.0</td>\n",
       "      <td>784056.9</td>\n",
       "      <td>2.0</td>\n",
       "      <td>1.0</td>\n",
       "      <td>1.0</td>\n",
       "      <td>162775.4</td>\n",
       "      <td>0.0</td>\n",
       "    </tr>\n",
       "    <tr>\n",
       "      <th>max</th>\n",
       "      <td>229136.0</td>\n",
       "      <td>999.0</td>\n",
       "      <td>1.0</td>\n",
       "      <td>84.0</td>\n",
       "      <td>9.0</td>\n",
       "      <td>8936697.2</td>\n",
       "      <td>5.0</td>\n",
       "      <td>1.0</td>\n",
       "      <td>1.0</td>\n",
       "      <td>920024.9</td>\n",
       "      <td>1.0</td>\n",
       "    </tr>\n",
       "  </tbody>\n",
       "</table>\n",
       "</div>"
      ],
      "text/plain": [
       "        user_id   score  gender     age  equity    balance  products  \\\n",
       "count    2682.0  2682.0  2682.0  2682.0  2682.0     2682.0    2682.0   \n",
       "mean   172518.0   848.6     0.5    43.3     2.6   559735.3       1.8   \n",
       "std     33555.3    64.8     0.5    12.3     1.9   714750.0       0.7   \n",
       "min     96267.0   642.0     0.0    18.0     0.0        0.0       1.0   \n",
       "25%    143708.8   803.0     0.0    34.0     0.0    76671.6       1.0   \n",
       "50%    174054.5   853.0     0.0    41.0     3.0   371858.4       2.0   \n",
       "75%    201586.0   898.0     1.0    53.0     4.0   784056.9       2.0   \n",
       "max    229136.0   999.0     1.0    84.0     9.0  8936697.2       5.0   \n",
       "\n",
       "       credit_card  last_activity  est_salary   churn  \n",
       "count       2682.0         2682.0      2682.0  2682.0  \n",
       "mean           0.6            0.6    134816.2     0.2  \n",
       "std            0.5            0.5    107502.1     0.4  \n",
       "min            0.0            0.0      3487.3     0.0  \n",
       "25%            0.0            0.0     73115.7     0.0  \n",
       "50%            1.0            1.0    113335.9     0.0  \n",
       "75%            1.0            1.0    162775.4     0.0  \n",
       "max            1.0            1.0    920024.9     1.0  "
      ]
     },
     "execution_count": 29,
     "metadata": {},
     "output_type": "execute_result"
    }
   ],
   "source": [
    "data.query('city == \"Рыбинск\"').describe().round(1)"
   ]
  },
  {
   "cell_type": "markdown",
   "metadata": {},
   "source": [
    "*Составим общий портрет клиентов по средним значениям в разных городах.*\n",
    "\n",
    "***Ярославль:***\n",
    "*Клиент мужчина или женщина от 39 до 42 лет со средней активностью, средний доход от 127 до 162 тыс руб., открыта кредитная карта, пользуется двумя продуктами банка, около 850 баллов кредитного скоринга.*\n",
    "\n",
    "***Ростов:***\n",
    "*Клиент мужчина или женщина от 42 до 44 лет со средней активностью, средний доход от 100 до 110 тыс руб., открыта кредитная карта, пользуется двумя продуктами банка, около 842 баллов кредитного скоринга.*\n",
    "\n",
    "***Рыбинск:***\n",
    "*Клиент мужчина или женщина от 41 до 43 лет со средней активностью, средний доход от 113 до 135 тыс руб., открыта кредитная карта, пользуется двумя продуктами банка, около 850 баллов кредитного скоринга.*\n"
   ]
  },
  {
   "cell_type": "markdown",
   "metadata": {},
   "source": [
    "<div class=\"alert alert-success\">\n",
    "<b>👍 Успех:</b> Все верно!\n",
    "</div>"
   ]
  },
  {
   "cell_type": "markdown",
   "metadata": {},
   "source": [
    "#### Выяснить влияет ли наличие кредитной карты, активности клиентов или пол на отток клиентов"
   ]
  },
  {
   "cell_type": "code",
   "execution_count": 30,
   "metadata": {},
   "outputs": [
    {
     "name": "stdout",
     "output_type": "stream",
     "text": [
      "Коэффициент корреляции между наличием кредитной карты и оттоком: -0.13012180101463855\n",
      "Коэффициент корреляции между активностью клиентов и оттоком: 0.16968995251506933\n",
      "Коэффициент корреляции между полом клиентов и оттоком: 0.14189583582295034\n"
     ]
    }
   ],
   "source": [
    "# с помощью метода ранговой корреляции Спирмена узнаем коэффициент корреляции \n",
    "\n",
    "correlation_1, p_value = spearmanr(data['credit_card'], data['churn'])\n",
    "print('Коэффициент корреляции между наличием кредитной карты и оттоком:', correlation_1)\n",
    "correlation_2, p_value = spearmanr(data['last_activity'], data['churn'])\n",
    "print('Коэффициент корреляции между активностью клиентов и оттоком:', correlation_2)\n",
    "correlation_3, p_value = spearmanr(data['gender'], data['churn'])\n",
    "print('Коэффициент корреляции между полом клиентов и оттоком:', correlation_3)"
   ]
  },
  {
   "cell_type": "markdown",
   "metadata": {},
   "source": [
    "*Полученный коэффицент корреляции показал отрицательное значение,значит между наличием кредитной карты и оттоком клиентов нет никакой связи. Два других коэффицента показали малельний коэффициент, поэтому мы так же можешь сделать вывод, что прямой связи между полом и активностью клиентов нет.*"
   ]
  },
  {
   "cell_type": "markdown",
   "metadata": {},
   "source": [
    "***На данном шаге мы увидели, что общий отток клиентов у банка 18,2%. По городам он распределен следующим образом: Ярославль - 19%, Ростов - 18.7% и Рыбинск - 16.3%. Так же составлен средний портрет клиентов для каждого города и вяснилось, что нет зависимости между наличием кредитной карты, полом и активностью клиентов, которые ушли или остались.***"
   ]
  },
  {
   "cell_type": "markdown",
   "metadata": {},
   "source": [
    "<div class=\"alert alert-success\">\n",
    "<b>👍 Успех:</b> Все верно!\n",
    "</div>"
   ]
  },
  {
   "cell_type": "markdown",
   "metadata": {},
   "source": [
    "### Выделение категорий ушедших клиентов"
   ]
  },
  {
   "cell_type": "markdown",
   "metadata": {},
   "source": [
    "#### Сегментирование клиентов по признакам"
   ]
  },
  {
   "cell_type": "code",
   "execution_count": 31,
   "metadata": {
    "scrolled": true
   },
   "outputs": [
    {
     "data": {
      "image/png": "[encoded data removed]",
      "text/plain": [
       "<Figure size 864x360 with 1 Axes>"
      ]
     },
     "metadata": {
      "needs_background": "light"
     },
     "output_type": "display_data"
    }
   ],
   "source": [
    "# построим гистограммы по каждому признаку, который может влиять на отток клиента\n",
    "# гисторамма покажет процент количества ушедших клиентов по каждому значению признака  \n",
    "# проведем линию, которая покажет 18% (общий процент оттока клиентов по банку)\n",
    "\n",
    "plt.figure(figsize=(12,5))\n",
    "sns.histplot(data=data, x='score', hue='churn', multiple=\"fill\")\n",
    "plt.axhline(y=0.18, color='black') \n",
    "plt.title('Процент оттока клиентов по баллам кредитного скоринга')\n",
    "plt.xlabel('Баллы кредитного скоринга')\n",
    "plt.ylabel('Значение')\n",
    "plt.show()"
   ]
  },
  {
   "cell_type": "markdown",
   "metadata": {},
   "source": [
    "***На гистограмме можно выделить сегмент по баллам кредитного скоринга от 820 до 940.***"
   ]
  },
  {
   "cell_type": "markdown",
   "metadata": {},
   "source": [
    "<div class=\"alert alert-success\">\n",
    "<b>👍 Успех:</b> Все верно!\n",
    "</div>"
   ]
  },
  {
   "cell_type": "code",
   "execution_count": 32,
   "metadata": {},
   "outputs": [
    {
     "data": {
      "image/png": "[encoded data removed]",
      "text/plain": [
       "<Figure size 288x360 with 1 Axes>"
      ]
     },
     "metadata": {
      "needs_background": "light"
     },
     "output_type": "display_data"
    }
   ],
   "source": [
    "plt.figure(figsize=(4,5))\n",
    "sns.histplot(data=data, x='gender', hue='churn', multiple=\"fill\")\n",
    "plt.axhline(y=0.18, color='black')\n",
    "plt.title('Процент оттока клиентов по полу клентов')\n",
    "plt.xlabel('Пол')\n",
    "plt.ylabel('Значение')\n",
    "plt.show()"
   ]
  },
  {
   "cell_type": "markdown",
   "metadata": {},
   "source": [
    "***На гистограмме видим, что клиенты мужского пола чаще уходят из банка.***"
   ]
  },
  {
   "cell_type": "markdown",
   "metadata": {},
   "source": [
    "<div class=\"alert alert-success\">\n",
    "<b>👍 Успех:</b> Все верно!\n",
    "</div>"
   ]
  },
  {
   "cell_type": "code",
   "execution_count": 33,
   "metadata": {},
   "outputs": [
    {
     "data": {
      "image/png": "[encoded data removed]",
      "text/plain": [
       "<Figure size 864x432 with 1 Axes>"
      ]
     },
     "metadata": {
      "needs_background": "light"
     },
     "output_type": "display_data"
    }
   ],
   "source": [
    "plt.figure(figsize=(12,6))\n",
    "sns.histplot(data=data, x='age', hue='churn', multiple=\"fill\")\n",
    "plt.axhline(y=0.18, color='black')\n",
    "plt.title('Процент оттока клиентов по возрасту клиентов')\n",
    "plt.xlabel('Возраст')\n",
    "plt.ylabel('Значение')\n",
    "plt.show()"
   ]
  },
  {
   "cell_type": "markdown",
   "metadata": {},
   "source": [
    "***На гистограмме видим два сегмента по возрасту клиентов: 25-34 и 49-60.***"
   ]
  },
  {
   "cell_type": "markdown",
   "metadata": {},
   "source": [
    "<div class=\"alert alert-success\">\n",
    "<b>👍 Успех:</b> Все верно!\n",
    "</div>"
   ]
  },
  {
   "cell_type": "code",
   "execution_count": 34,
   "metadata": {},
   "outputs": [
    {
     "data": {
      "image/png": "[encoded data removed]",
      "text/plain": [
       "<Figure size 864x432 with 1 Axes>"
      ]
     },
     "metadata": {
      "needs_background": "light"
     },
     "output_type": "display_data"
    }
   ],
   "source": [
    "plt.figure(figsize=(12,6))\n",
    "sns.histplot(data=data, x='equity', hue='churn', multiple=\"fill\")\n",
    "plt.axhline(y=0.18, color='black')\n",
    "plt.title('Процент оттока клиентов по количеству баллов собственности')\n",
    "plt.xlabel('Количество баллов собственности')\n",
    "plt.ylabel('Значение')\n",
    "plt.show()"
   ]
  },
  {
   "cell_type": "markdown",
   "metadata": {},
   "source": [
    "***На гистограмме видим, что от 3 баллов собственности отток клиентов увеличивается. Сделаем три сегмента: 3-5, 6-7, 8-9***"
   ]
  },
  {
   "cell_type": "markdown",
   "metadata": {},
   "source": [
    "<div class=\"alert alert-success\">\n",
    "<b>👍 Успех:</b> Все верно!\n",
    "</div>"
   ]
  },
  {
   "cell_type": "code",
   "execution_count": 35,
   "metadata": {},
   "outputs": [
    {
     "data": {
      "image/png": "[encoded data removed]",
      "text/plain": [
       "<Figure size 864x432 with 1 Axes>"
      ]
     },
     "metadata": {
      "needs_background": "light"
     },
     "output_type": "display_data"
    }
   ],
   "source": [
    "plt.figure(figsize=(12,6))\n",
    "sns.histplot(data=data, x='products', hue='churn', multiple=\"fill\")\n",
    "plt.axhline(y=0.18, color='black')\n",
    "plt.title('Процент оттока клиентов по количеству продуктов')\n",
    "plt.xlabel('Количество продуктов')\n",
    "plt.show()"
   ]
  },
  {
   "cell_type": "markdown",
   "metadata": {},
   "source": [
    "***На гистограмме можно выделить три сегмента по количеству продуктов нашего банка: 2-3, 4 и 5.***"
   ]
  },
  {
   "cell_type": "markdown",
   "metadata": {},
   "source": [
    "<div class=\"alert alert-success\">\n",
    "<b>👍 Успех:</b> Все верно!\n",
    "</div>"
   ]
  },
  {
   "cell_type": "code",
   "execution_count": 36,
   "metadata": {},
   "outputs": [
    {
     "data": {
      "image/png": "[encoded data removed]",
      "text/plain": [
       "<Figure size 288x360 with 1 Axes>"
      ]
     },
     "metadata": {
      "needs_background": "light"
     },
     "output_type": "display_data"
    }
   ],
   "source": [
    "plt.figure(figsize=(4,5))\n",
    "sns.histplot(data=data, x='credit_card', hue='churn', multiple=\"fill\")\n",
    "plt.axhline(y=0.18, color='black')\n",
    "plt.title('Процент оттока клиентов по наличию кредитной карты')\n",
    "plt.xlabel('Наличие кредитной карты')\n",
    "plt.ylabel('Значение')\n",
    "plt.show()"
   ]
  },
  {
   "cell_type": "markdown",
   "metadata": {},
   "source": [
    "***На гистограмме видим, что отток клиентов больше у тех, кто не имеет кредитной карты в нашем банке.***"
   ]
  },
  {
   "cell_type": "markdown",
   "metadata": {},
   "source": [
    "<div class=\"alert alert-success\">\n",
    "<b>👍 Успех:</b> Все верно!\n",
    "</div>"
   ]
  },
  {
   "cell_type": "code",
   "execution_count": 37,
   "metadata": {},
   "outputs": [
    {
     "data": {
      "image/png": "[encoded data removed]",
      "text/plain": [
       "<Figure size 288x360 with 1 Axes>"
      ]
     },
     "metadata": {
      "needs_background": "light"
     },
     "output_type": "display_data"
    }
   ],
   "source": [
    "plt.figure(figsize=(4,5))\n",
    "sns.histplot(data=data, x='last_activity', hue='churn', multiple=\"fill\")\n",
    "plt.axhline(y=0.18, color='black')\n",
    "plt.title('Процент оттока клиентов по активности клиентов')\n",
    "plt.xlabel('Активность клиента')\n",
    "plt.ylabel('Значение')\n",
    "plt.show()"
   ]
  },
  {
   "cell_type": "markdown",
   "metadata": {},
   "source": [
    "***На гистограмме видим, что активные клиенты чаще уходят из банка.***"
   ]
  },
  {
   "cell_type": "markdown",
   "metadata": {},
   "source": [
    "<div class=\"alert alert-success\">\n",
    "<b>👍 Успех:</b> Все верно!\n",
    "</div>"
   ]
  },
  {
   "cell_type": "markdown",
   "metadata": {},
   "source": [
    "#### Составление портретов  клиентов по нескольким сегментам"
   ]
  },
  {
   "cell_type": "code",
   "execution_count": 38,
   "metadata": {},
   "outputs": [
    {
     "data": {
      "text/html": [
       "<div>\n",
       "<style scoped>\n",
       "    .dataframe tbody tr th:only-of-type {\n",
       "        vertical-align: middle;\n",
       "    }\n",
       "\n",
       "    .dataframe tbody tr th {\n",
       "        vertical-align: top;\n",
       "    }\n",
       "\n",
       "    .dataframe thead th {\n",
       "        text-align: right;\n",
       "    }\n",
       "</style>\n",
       "<table border=\"1\" class=\"dataframe\">\n",
       "  <thead>\n",
       "    <tr style=\"text-align: right;\">\n",
       "      <th></th>\n",
       "      <th>user_id</th>\n",
       "      <th>score</th>\n",
       "      <th>city</th>\n",
       "      <th>gender</th>\n",
       "      <th>age</th>\n",
       "      <th>equity</th>\n",
       "      <th>balance</th>\n",
       "      <th>products</th>\n",
       "      <th>credit_card</th>\n",
       "      <th>last_activity</th>\n",
       "      <th>est_salary</th>\n",
       "      <th>churn</th>\n",
       "    </tr>\n",
       "  </thead>\n",
       "  <tbody>\n",
       "    <tr>\n",
       "      <th>0</th>\n",
       "      <td>183012</td>\n",
       "      <td>850</td>\n",
       "      <td>Рыбинск</td>\n",
       "      <td>0</td>\n",
       "      <td>25</td>\n",
       "      <td>1</td>\n",
       "      <td>59214.82</td>\n",
       "      <td>2</td>\n",
       "      <td>0</td>\n",
       "      <td>1</td>\n",
       "      <td>75719.14</td>\n",
       "      <td>1</td>\n",
       "    </tr>\n",
       "    <tr>\n",
       "      <th>3</th>\n",
       "      <td>225363</td>\n",
       "      <td>866</td>\n",
       "      <td>Ярославль</td>\n",
       "      <td>0</td>\n",
       "      <td>51</td>\n",
       "      <td>5</td>\n",
       "      <td>1524746.26</td>\n",
       "      <td>2</td>\n",
       "      <td>0</td>\n",
       "      <td>1</td>\n",
       "      <td>174423.53</td>\n",
       "      <td>1</td>\n",
       "    </tr>\n",
       "    <tr>\n",
       "      <th>13</th>\n",
       "      <td>166357</td>\n",
       "      <td>837</td>\n",
       "      <td>Рыбинск</td>\n",
       "      <td>0</td>\n",
       "      <td>28</td>\n",
       "      <td>4</td>\n",
       "      <td>302249.22</td>\n",
       "      <td>2</td>\n",
       "      <td>0</td>\n",
       "      <td>1</td>\n",
       "      <td>30950.94</td>\n",
       "      <td>0</td>\n",
       "    </tr>\n",
       "    <tr>\n",
       "      <th>81</th>\n",
       "      <td>223978</td>\n",
       "      <td>850</td>\n",
       "      <td>Рыбинск</td>\n",
       "      <td>1</td>\n",
       "      <td>34</td>\n",
       "      <td>5</td>\n",
       "      <td>351583.16</td>\n",
       "      <td>4</td>\n",
       "      <td>0</td>\n",
       "      <td>1</td>\n",
       "      <td>115354.97</td>\n",
       "      <td>1</td>\n",
       "    </tr>\n",
       "    <tr>\n",
       "      <th>94</th>\n",
       "      <td>191870</td>\n",
       "      <td>821</td>\n",
       "      <td>Ростов</td>\n",
       "      <td>0</td>\n",
       "      <td>30</td>\n",
       "      <td>3</td>\n",
       "      <td>157677.78</td>\n",
       "      <td>4</td>\n",
       "      <td>0</td>\n",
       "      <td>1</td>\n",
       "      <td>36397.02</td>\n",
       "      <td>0</td>\n",
       "    </tr>\n",
       "    <tr>\n",
       "      <th>...</th>\n",
       "      <td>...</td>\n",
       "      <td>...</td>\n",
       "      <td>...</td>\n",
       "      <td>...</td>\n",
       "      <td>...</td>\n",
       "      <td>...</td>\n",
       "      <td>...</td>\n",
       "      <td>...</td>\n",
       "      <td>...</td>\n",
       "      <td>...</td>\n",
       "      <td>...</td>\n",
       "      <td>...</td>\n",
       "    </tr>\n",
       "    <tr>\n",
       "      <th>9907</th>\n",
       "      <td>190839</td>\n",
       "      <td>925</td>\n",
       "      <td>Рыбинск</td>\n",
       "      <td>0</td>\n",
       "      <td>57</td>\n",
       "      <td>0</td>\n",
       "      <td>0.00</td>\n",
       "      <td>1</td>\n",
       "      <td>0</td>\n",
       "      <td>1</td>\n",
       "      <td>146407.76</td>\n",
       "      <td>0</td>\n",
       "    </tr>\n",
       "    <tr>\n",
       "      <th>9912</th>\n",
       "      <td>149773</td>\n",
       "      <td>900</td>\n",
       "      <td>Ростов</td>\n",
       "      <td>0</td>\n",
       "      <td>34</td>\n",
       "      <td>2</td>\n",
       "      <td>410240.77</td>\n",
       "      <td>2</td>\n",
       "      <td>0</td>\n",
       "      <td>1</td>\n",
       "      <td>171986.36</td>\n",
       "      <td>1</td>\n",
       "    </tr>\n",
       "    <tr>\n",
       "      <th>9972</th>\n",
       "      <td>150126</td>\n",
       "      <td>834</td>\n",
       "      <td>Ростов</td>\n",
       "      <td>1</td>\n",
       "      <td>27</td>\n",
       "      <td>4</td>\n",
       "      <td>192776.27</td>\n",
       "      <td>2</td>\n",
       "      <td>0</td>\n",
       "      <td>1</td>\n",
       "      <td>26570.39</td>\n",
       "      <td>0</td>\n",
       "    </tr>\n",
       "    <tr>\n",
       "      <th>9986</th>\n",
       "      <td>152986</td>\n",
       "      <td>822</td>\n",
       "      <td>Ярославль</td>\n",
       "      <td>1</td>\n",
       "      <td>58</td>\n",
       "      <td>5</td>\n",
       "      <td>1434857.91</td>\n",
       "      <td>2</td>\n",
       "      <td>0</td>\n",
       "      <td>1</td>\n",
       "      <td>83442.41</td>\n",
       "      <td>1</td>\n",
       "    </tr>\n",
       "    <tr>\n",
       "      <th>9999</th>\n",
       "      <td>96267</td>\n",
       "      <td>828</td>\n",
       "      <td>Рыбинск</td>\n",
       "      <td>0</td>\n",
       "      <td>58</td>\n",
       "      <td>3</td>\n",
       "      <td>1180886.70</td>\n",
       "      <td>4</td>\n",
       "      <td>0</td>\n",
       "      <td>1</td>\n",
       "      <td>21422.37</td>\n",
       "      <td>0</td>\n",
       "    </tr>\n",
       "  </tbody>\n",
       "</table>\n",
       "<p>604 rows × 12 columns</p>\n",
       "</div>"
      ],
      "text/plain": [
       "      user_id  score       city  gender  age  equity     balance  products  \\\n",
       "0      183012    850    Рыбинск       0   25       1    59214.82         2   \n",
       "3      225363    866  Ярославль       0   51       5  1524746.26         2   \n",
       "13     166357    837    Рыбинск       0   28       4   302249.22         2   \n",
       "81     223978    850    Рыбинск       1   34       5   351583.16         4   \n",
       "94     191870    821     Ростов       0   30       3   157677.78         4   \n",
       "...       ...    ...        ...     ...  ...     ...         ...       ...   \n",
       "9907   190839    925    Рыбинск       0   57       0        0.00         1   \n",
       "9912   149773    900     Ростов       0   34       2   410240.77         2   \n",
       "9972   150126    834     Ростов       1   27       4   192776.27         2   \n",
       "9986   152986    822  Ярославль       1   58       5  1434857.91         2   \n",
       "9999    96267    828    Рыбинск       0   58       3  1180886.70         4   \n",
       "\n",
       "      credit_card  last_activity  est_salary  churn  \n",
       "0               0              1    75719.14      1  \n",
       "3               0              1   174423.53      1  \n",
       "13              0              1    30950.94      0  \n",
       "81              0              1   115354.97      1  \n",
       "94              0              1    36397.02      0  \n",
       "...           ...            ...         ...    ...  \n",
       "9907            0              1   146407.76      0  \n",
       "9912            0              1   171986.36      1  \n",
       "9972            0              1    26570.39      0  \n",
       "9986            0              1    83442.41      1  \n",
       "9999            0              1    21422.37      0  \n",
       "\n",
       "[604 rows x 12 columns]"
      ]
     },
     "execution_count": 38,
     "metadata": {},
     "output_type": "execute_result"
    }
   ],
   "source": [
    "# составим портреты клиентов, которые чаще уходят из банка\n",
    "# с помощью среза выделим их в новые таблицы.\n",
    "\n",
    "portrait_1 = data[\n",
    "    (\n",
    "    (data['score'] >= 820) & (data['score'] <= 940) & \n",
    "    ((data['age'] >= 25) & (data['age'] <= 34) | \n",
    "    (data['age'] >= 49) & (data['age'] <= 60)) & \n",
    "    (data['credit_card'] == 0) & (data['last_activity'] == 1)\n",
    "    )\n",
    "]\n",
    "portrait_1"
   ]
  },
  {
   "cell_type": "code",
   "execution_count": 39,
   "metadata": {},
   "outputs": [
    {
     "name": "stdout",
     "output_type": "stream",
     "text": [
      "Количество клиентов в группе: 604\n",
      "Количество ушедших клиентов: 355\n",
      "Процент оттока клиентов: 58.8\n"
     ]
    }
   ],
   "source": [
    "print('Количество клиентов в группе:', portrait_1['churn'].count())\n",
    "print('Количество ушедших клиентов:', portrait_1['churn'].sum())\n",
    "print('Процент оттока клиентов:', portrait_1['churn'].mean().round(3) * 100)"
   ]
  },
  {
   "cell_type": "markdown",
   "metadata": {},
   "source": [
    "**Портрет №1:**\n",
    "\n",
    "- Баллы кредитного скоринга от 820 до 940,\n",
    "- город - любой,\n",
    "- пол - любой,\n",
    "- возраст от 20 до 23 или 25 до 34 лет,\n",
    "- количество баллов собственности - любое,\n",
    "- количество продуктов, которыми пользуется клиент - любое,\n",
    "- есть ли кредитная карта - нет,\n",
    "- активный клиент - да,\n",
    "- оценочный доход клиента - любой.\n",
    "\n",
    "*Количество клиентов в группе:* **604**\n",
    "*Количество ушедших клиентов:* **355**\n",
    "*Процент оттока клиентов:* **58,8%**"
   ]
  },
  {
   "cell_type": "markdown",
   "metadata": {},
   "source": [
    "<div class=\"alert alert-success\">\n",
    "<b>👍 Успех:</b> Все верно!\n",
    "</div>"
   ]
  },
  {
   "cell_type": "code",
   "execution_count": 40,
   "metadata": {},
   "outputs": [
    {
     "data": {
      "text/html": [
       "<div>\n",
       "<style scoped>\n",
       "    .dataframe tbody tr th:only-of-type {\n",
       "        vertical-align: middle;\n",
       "    }\n",
       "\n",
       "    .dataframe tbody tr th {\n",
       "        vertical-align: top;\n",
       "    }\n",
       "\n",
       "    .dataframe thead th {\n",
       "        text-align: right;\n",
       "    }\n",
       "</style>\n",
       "<table border=\"1\" class=\"dataframe\">\n",
       "  <thead>\n",
       "    <tr style=\"text-align: right;\">\n",
       "      <th></th>\n",
       "      <th>user_id</th>\n",
       "      <th>score</th>\n",
       "      <th>city</th>\n",
       "      <th>gender</th>\n",
       "      <th>age</th>\n",
       "      <th>equity</th>\n",
       "      <th>balance</th>\n",
       "      <th>products</th>\n",
       "      <th>credit_card</th>\n",
       "      <th>last_activity</th>\n",
       "      <th>est_salary</th>\n",
       "      <th>churn</th>\n",
       "    </tr>\n",
       "  </thead>\n",
       "  <tbody>\n",
       "    <tr>\n",
       "      <th>36</th>\n",
       "      <td>199614</td>\n",
       "      <td>822</td>\n",
       "      <td>Ярославль</td>\n",
       "      <td>1</td>\n",
       "      <td>60</td>\n",
       "      <td>5</td>\n",
       "      <td>1472483.77</td>\n",
       "      <td>1</td>\n",
       "      <td>1</td>\n",
       "      <td>1</td>\n",
       "      <td>89132.67</td>\n",
       "      <td>0</td>\n",
       "    </tr>\n",
       "    <tr>\n",
       "      <th>45</th>\n",
       "      <td>118849</td>\n",
       "      <td>826</td>\n",
       "      <td>Ярославль</td>\n",
       "      <td>1</td>\n",
       "      <td>31</td>\n",
       "      <td>4</td>\n",
       "      <td>333330.99</td>\n",
       "      <td>1</td>\n",
       "      <td>1</td>\n",
       "      <td>1</td>\n",
       "      <td>46981.53</td>\n",
       "      <td>0</td>\n",
       "    </tr>\n",
       "    <tr>\n",
       "      <th>68</th>\n",
       "      <td>216960</td>\n",
       "      <td>933</td>\n",
       "      <td>Ярославль</td>\n",
       "      <td>1</td>\n",
       "      <td>49</td>\n",
       "      <td>1</td>\n",
       "      <td>0.00</td>\n",
       "      <td>1</td>\n",
       "      <td>1</td>\n",
       "      <td>1</td>\n",
       "      <td>130281.88</td>\n",
       "      <td>0</td>\n",
       "    </tr>\n",
       "    <tr>\n",
       "      <th>77</th>\n",
       "      <td>191976</td>\n",
       "      <td>937</td>\n",
       "      <td>Ярославль</td>\n",
       "      <td>1</td>\n",
       "      <td>33</td>\n",
       "      <td>5</td>\n",
       "      <td>2061152.96</td>\n",
       "      <td>2</td>\n",
       "      <td>1</td>\n",
       "      <td>1</td>\n",
       "      <td>280670.62</td>\n",
       "      <td>1</td>\n",
       "    </tr>\n",
       "    <tr>\n",
       "      <th>88</th>\n",
       "      <td>210088</td>\n",
       "      <td>894</td>\n",
       "      <td>Ярославль</td>\n",
       "      <td>1</td>\n",
       "      <td>29</td>\n",
       "      <td>3</td>\n",
       "      <td>786911.18</td>\n",
       "      <td>2</td>\n",
       "      <td>1</td>\n",
       "      <td>1</td>\n",
       "      <td>99022.74</td>\n",
       "      <td>1</td>\n",
       "    </tr>\n",
       "    <tr>\n",
       "      <th>...</th>\n",
       "      <td>...</td>\n",
       "      <td>...</td>\n",
       "      <td>...</td>\n",
       "      <td>...</td>\n",
       "      <td>...</td>\n",
       "      <td>...</td>\n",
       "      <td>...</td>\n",
       "      <td>...</td>\n",
       "      <td>...</td>\n",
       "      <td>...</td>\n",
       "      <td>...</td>\n",
       "      <td>...</td>\n",
       "    </tr>\n",
       "    <tr>\n",
       "      <th>9887</th>\n",
       "      <td>167524</td>\n",
       "      <td>856</td>\n",
       "      <td>Ярославль</td>\n",
       "      <td>1</td>\n",
       "      <td>50</td>\n",
       "      <td>3</td>\n",
       "      <td>265390.36</td>\n",
       "      <td>2</td>\n",
       "      <td>1</td>\n",
       "      <td>1</td>\n",
       "      <td>154039.56</td>\n",
       "      <td>1</td>\n",
       "    </tr>\n",
       "    <tr>\n",
       "      <th>9888</th>\n",
       "      <td>216904</td>\n",
       "      <td>900</td>\n",
       "      <td>Ярославль</td>\n",
       "      <td>1</td>\n",
       "      <td>31</td>\n",
       "      <td>0</td>\n",
       "      <td>0.00</td>\n",
       "      <td>1</td>\n",
       "      <td>0</td>\n",
       "      <td>1</td>\n",
       "      <td>125161.36</td>\n",
       "      <td>0</td>\n",
       "    </tr>\n",
       "    <tr>\n",
       "      <th>9978</th>\n",
       "      <td>218170</td>\n",
       "      <td>841</td>\n",
       "      <td>Ярославль</td>\n",
       "      <td>1</td>\n",
       "      <td>29</td>\n",
       "      <td>2</td>\n",
       "      <td>235287.10</td>\n",
       "      <td>2</td>\n",
       "      <td>1</td>\n",
       "      <td>1</td>\n",
       "      <td>137494.06</td>\n",
       "      <td>1</td>\n",
       "    </tr>\n",
       "    <tr>\n",
       "      <th>9986</th>\n",
       "      <td>152986</td>\n",
       "      <td>822</td>\n",
       "      <td>Ярославль</td>\n",
       "      <td>1</td>\n",
       "      <td>58</td>\n",
       "      <td>5</td>\n",
       "      <td>1434857.91</td>\n",
       "      <td>2</td>\n",
       "      <td>0</td>\n",
       "      <td>1</td>\n",
       "      <td>83442.41</td>\n",
       "      <td>1</td>\n",
       "    </tr>\n",
       "    <tr>\n",
       "      <th>9990</th>\n",
       "      <td>162357</td>\n",
       "      <td>822</td>\n",
       "      <td>Ярославль</td>\n",
       "      <td>1</td>\n",
       "      <td>31</td>\n",
       "      <td>3</td>\n",
       "      <td>646575.17</td>\n",
       "      <td>1</td>\n",
       "      <td>1</td>\n",
       "      <td>1</td>\n",
       "      <td>88297.63</td>\n",
       "      <td>0</td>\n",
       "    </tr>\n",
       "  </tbody>\n",
       "</table>\n",
       "<p>459 rows × 12 columns</p>\n",
       "</div>"
      ],
      "text/plain": [
       "      user_id  score       city  gender  age  equity     balance  products  \\\n",
       "36     199614    822  Ярославль       1   60       5  1472483.77         1   \n",
       "45     118849    826  Ярославль       1   31       4   333330.99         1   \n",
       "68     216960    933  Ярославль       1   49       1        0.00         1   \n",
       "77     191976    937  Ярославль       1   33       5  2061152.96         2   \n",
       "88     210088    894  Ярославль       1   29       3   786911.18         2   \n",
       "...       ...    ...        ...     ...  ...     ...         ...       ...   \n",
       "9887   167524    856  Ярославль       1   50       3   265390.36         2   \n",
       "9888   216904    900  Ярославль       1   31       0        0.00         1   \n",
       "9978   218170    841  Ярославль       1   29       2   235287.10         2   \n",
       "9986   152986    822  Ярославль       1   58       5  1434857.91         2   \n",
       "9990   162357    822  Ярославль       1   31       3   646575.17         1   \n",
       "\n",
       "      credit_card  last_activity  est_salary  churn  \n",
       "36              1              1    89132.67      0  \n",
       "45              1              1    46981.53      0  \n",
       "68              1              1   130281.88      0  \n",
       "77              1              1   280670.62      1  \n",
       "88              1              1    99022.74      1  \n",
       "...           ...            ...         ...    ...  \n",
       "9887            1              1   154039.56      1  \n",
       "9888            0              1   125161.36      0  \n",
       "9978            1              1   137494.06      1  \n",
       "9986            0              1    83442.41      1  \n",
       "9990            1              1    88297.63      0  \n",
       "\n",
       "[459 rows x 12 columns]"
      ]
     },
     "execution_count": 40,
     "metadata": {},
     "output_type": "execute_result"
    }
   ],
   "source": [
    "portrait_2 = data[\n",
    "    (\n",
    "    (data['score'] >= 820) & (data['score'] <= 940) &\n",
    "    (data['city'] == \"Ярославль\") & (data['gender'] == 1) &\n",
    "    ((data['age'] >= 25) & (data['age'] <= 34) | \n",
    "    (data['age'] >= 49) & (data['age'] <= 60)) &\n",
    "    (data['last_activity'] == 1)\n",
    "    )      \n",
    "]\n",
    "portrait_2"
   ]
  },
  {
   "cell_type": "code",
   "execution_count": 41,
   "metadata": {},
   "outputs": [
    {
     "name": "stdout",
     "output_type": "stream",
     "text": [
      "Количество клиентов в группе: 459\n",
      "Количество ушедших клиентов: 227\n",
      "Процент оттока клиентов: 49.5\n"
     ]
    }
   ],
   "source": [
    "print('Количество клиентов в группе:', portrait_2['churn'].count())\n",
    "print('Количество ушедших клиентов:', portrait_2['churn'].sum())\n",
    "print('Процент оттока клиентов:', portrait_2['churn'].mean().round(3) * 100)"
   ]
  },
  {
   "cell_type": "markdown",
   "metadata": {},
   "source": [
    "**Портрет №2:**\n",
    "\n",
    "- Баллы кредитного скоринга от 820 до 940,\n",
    "- город - Ярославль,\n",
    "- пол - мужской,\n",
    "- возраст от 20 до 23 или 25 до 34 лет,\n",
    "- количество баллов собственности - любое,\n",
    "- количество продуктов, которыми пользуется клиент - любое,\n",
    "- есть ли кредитная карта - не важно,\n",
    "- активный клиент - да,\n",
    "- оценочный доход клиента - любой.\n",
    "\n",
    "*Количество клиентов в группе:* **459**\n",
    "*Количество ушедших клиентов:* **227**\n",
    "*Процент оттока клиентов:* **49.5%**"
   ]
  },
  {
   "cell_type": "markdown",
   "metadata": {},
   "source": [
    "<div class=\"alert alert-success\">\n",
    "<b>👍 Успех:</b> Все верно!\n",
    "</div>"
   ]
  },
  {
   "cell_type": "code",
   "execution_count": 42,
   "metadata": {},
   "outputs": [
    {
     "data": {
      "text/html": [
       "<div>\n",
       "<style scoped>\n",
       "    .dataframe tbody tr th:only-of-type {\n",
       "        vertical-align: middle;\n",
       "    }\n",
       "\n",
       "    .dataframe tbody tr th {\n",
       "        vertical-align: top;\n",
       "    }\n",
       "\n",
       "    .dataframe thead th {\n",
       "        text-align: right;\n",
       "    }\n",
       "</style>\n",
       "<table border=\"1\" class=\"dataframe\">\n",
       "  <thead>\n",
       "    <tr style=\"text-align: right;\">\n",
       "      <th></th>\n",
       "      <th>user_id</th>\n",
       "      <th>score</th>\n",
       "      <th>city</th>\n",
       "      <th>gender</th>\n",
       "      <th>age</th>\n",
       "      <th>equity</th>\n",
       "      <th>balance</th>\n",
       "      <th>products</th>\n",
       "      <th>credit_card</th>\n",
       "      <th>last_activity</th>\n",
       "      <th>est_salary</th>\n",
       "      <th>churn</th>\n",
       "    </tr>\n",
       "  </thead>\n",
       "  <tbody>\n",
       "    <tr>\n",
       "      <th>3</th>\n",
       "      <td>225363</td>\n",
       "      <td>866</td>\n",
       "      <td>Ярославль</td>\n",
       "      <td>0</td>\n",
       "      <td>51</td>\n",
       "      <td>5</td>\n",
       "      <td>1524746.26</td>\n",
       "      <td>2</td>\n",
       "      <td>0</td>\n",
       "      <td>1</td>\n",
       "      <td>174423.53</td>\n",
       "      <td>1</td>\n",
       "    </tr>\n",
       "    <tr>\n",
       "      <th>12</th>\n",
       "      <td>132970</td>\n",
       "      <td>845</td>\n",
       "      <td>Ярославль</td>\n",
       "      <td>0</td>\n",
       "      <td>31</td>\n",
       "      <td>3</td>\n",
       "      <td>591928.52</td>\n",
       "      <td>2</td>\n",
       "      <td>1</td>\n",
       "      <td>1</td>\n",
       "      <td>112697.16</td>\n",
       "      <td>1</td>\n",
       "    </tr>\n",
       "    <tr>\n",
       "      <th>122</th>\n",
       "      <td>201526</td>\n",
       "      <td>894</td>\n",
       "      <td>Ярославль</td>\n",
       "      <td>0</td>\n",
       "      <td>32</td>\n",
       "      <td>4</td>\n",
       "      <td>1319552.08</td>\n",
       "      <td>2</td>\n",
       "      <td>0</td>\n",
       "      <td>1</td>\n",
       "      <td>140952.99</td>\n",
       "      <td>1</td>\n",
       "    </tr>\n",
       "    <tr>\n",
       "      <th>146</th>\n",
       "      <td>189685</td>\n",
       "      <td>850</td>\n",
       "      <td>Ярославль</td>\n",
       "      <td>0</td>\n",
       "      <td>59</td>\n",
       "      <td>4</td>\n",
       "      <td>832950.19</td>\n",
       "      <td>2</td>\n",
       "      <td>1</td>\n",
       "      <td>1</td>\n",
       "      <td>61821.42</td>\n",
       "      <td>1</td>\n",
       "    </tr>\n",
       "    <tr>\n",
       "      <th>151</th>\n",
       "      <td>119177</td>\n",
       "      <td>845</td>\n",
       "      <td>Ярославль</td>\n",
       "      <td>0</td>\n",
       "      <td>29</td>\n",
       "      <td>4</td>\n",
       "      <td>755670.79</td>\n",
       "      <td>3</td>\n",
       "      <td>0</td>\n",
       "      <td>1</td>\n",
       "      <td>112289.50</td>\n",
       "      <td>0</td>\n",
       "    </tr>\n",
       "    <tr>\n",
       "      <th>...</th>\n",
       "      <td>...</td>\n",
       "      <td>...</td>\n",
       "      <td>...</td>\n",
       "      <td>...</td>\n",
       "      <td>...</td>\n",
       "      <td>...</td>\n",
       "      <td>...</td>\n",
       "      <td>...</td>\n",
       "      <td>...</td>\n",
       "      <td>...</td>\n",
       "      <td>...</td>\n",
       "      <td>...</td>\n",
       "    </tr>\n",
       "    <tr>\n",
       "      <th>9674</th>\n",
       "      <td>208874</td>\n",
       "      <td>869</td>\n",
       "      <td>Ярославль</td>\n",
       "      <td>0</td>\n",
       "      <td>59</td>\n",
       "      <td>3</td>\n",
       "      <td>321062.11</td>\n",
       "      <td>4</td>\n",
       "      <td>0</td>\n",
       "      <td>1</td>\n",
       "      <td>46527.66</td>\n",
       "      <td>0</td>\n",
       "    </tr>\n",
       "    <tr>\n",
       "      <th>9761</th>\n",
       "      <td>153252</td>\n",
       "      <td>828</td>\n",
       "      <td>Ярославль</td>\n",
       "      <td>0</td>\n",
       "      <td>51</td>\n",
       "      <td>4</td>\n",
       "      <td>464260.73</td>\n",
       "      <td>1</td>\n",
       "      <td>1</td>\n",
       "      <td>1</td>\n",
       "      <td>67909.68</td>\n",
       "      <td>0</td>\n",
       "    </tr>\n",
       "    <tr>\n",
       "      <th>9861</th>\n",
       "      <td>179288</td>\n",
       "      <td>908</td>\n",
       "      <td>Ярославль</td>\n",
       "      <td>0</td>\n",
       "      <td>55</td>\n",
       "      <td>5</td>\n",
       "      <td>2036988.28</td>\n",
       "      <td>4</td>\n",
       "      <td>1</td>\n",
       "      <td>1</td>\n",
       "      <td>122581.49</td>\n",
       "      <td>1</td>\n",
       "    </tr>\n",
       "    <tr>\n",
       "      <th>9899</th>\n",
       "      <td>140117</td>\n",
       "      <td>939</td>\n",
       "      <td>Ярославль</td>\n",
       "      <td>0</td>\n",
       "      <td>32</td>\n",
       "      <td>0</td>\n",
       "      <td>0.00</td>\n",
       "      <td>1</td>\n",
       "      <td>1</td>\n",
       "      <td>1</td>\n",
       "      <td>64241.52</td>\n",
       "      <td>0</td>\n",
       "    </tr>\n",
       "    <tr>\n",
       "      <th>9962</th>\n",
       "      <td>217489</td>\n",
       "      <td>893</td>\n",
       "      <td>Ярославль</td>\n",
       "      <td>0</td>\n",
       "      <td>49</td>\n",
       "      <td>5</td>\n",
       "      <td>1571192.11</td>\n",
       "      <td>4</td>\n",
       "      <td>1</td>\n",
       "      <td>1</td>\n",
       "      <td>151217.99</td>\n",
       "      <td>1</td>\n",
       "    </tr>\n",
       "  </tbody>\n",
       "</table>\n",
       "<p>406 rows × 12 columns</p>\n",
       "</div>"
      ],
      "text/plain": [
       "      user_id  score       city  gender  age  equity     balance  products  \\\n",
       "3      225363    866  Ярославль       0   51       5  1524746.26         2   \n",
       "12     132970    845  Ярославль       0   31       3   591928.52         2   \n",
       "122    201526    894  Ярославль       0   32       4  1319552.08         2   \n",
       "146    189685    850  Ярославль       0   59       4   832950.19         2   \n",
       "151    119177    845  Ярославль       0   29       4   755670.79         3   \n",
       "...       ...    ...        ...     ...  ...     ...         ...       ...   \n",
       "9674   208874    869  Ярославль       0   59       3   321062.11         4   \n",
       "9761   153252    828  Ярославль       0   51       4   464260.73         1   \n",
       "9861   179288    908  Ярославль       0   55       5  2036988.28         4   \n",
       "9899   140117    939  Ярославль       0   32       0        0.00         1   \n",
       "9962   217489    893  Ярославль       0   49       5  1571192.11         4   \n",
       "\n",
       "      credit_card  last_activity  est_salary  churn  \n",
       "3               0              1   174423.53      1  \n",
       "12              1              1   112697.16      1  \n",
       "122             0              1   140952.99      1  \n",
       "146             1              1    61821.42      1  \n",
       "151             0              1   112289.50      0  \n",
       "...           ...            ...         ...    ...  \n",
       "9674            0              1    46527.66      0  \n",
       "9761            1              1    67909.68      0  \n",
       "9861            1              1   122581.49      1  \n",
       "9899            1              1    64241.52      0  \n",
       "9962            1              1   151217.99      1  \n",
       "\n",
       "[406 rows x 12 columns]"
      ]
     },
     "execution_count": 42,
     "metadata": {},
     "output_type": "execute_result"
    }
   ],
   "source": [
    "portrait_3 = data[\n",
    "    (\n",
    "    (data['score'] >= 820) & (data['score'] <= 940) &\n",
    "    (data['city'] == \"Ярославль\") & (data['gender'] == 0) &\n",
    "    ((data['age'] >= 25) & (data['age'] <= 34) | \n",
    "    (data['age'] >= 49) & (data['age'] <= 60)) &\n",
    "    (data['last_activity'] == 1)\n",
    "    )      \n",
    "]\n",
    "portrait_3"
   ]
  },
  {
   "cell_type": "code",
   "execution_count": 43,
   "metadata": {},
   "outputs": [
    {
     "name": "stdout",
     "output_type": "stream",
     "text": [
      "Количество клиентов в группе: 406\n",
      "Количество ушедших клиентов: 184\n",
      "Процент оттока клиентов: 45.0\n"
     ]
    }
   ],
   "source": [
    "print('Количество клиентов в группе:', portrait_3['churn'].count())\n",
    "print('Количество ушедших клиентов:', portrait_3['churn'].sum())\n",
    "print('Процент оттока клиентов:', portrait_3['churn'].mean().round(2) * 100)"
   ]
  },
  {
   "cell_type": "markdown",
   "metadata": {},
   "source": [
    "**Портрет №3:**\n",
    "\n",
    "- Баллы кредитного скоринга от 820 до 940,\n",
    "- город - Ярославль,\n",
    "- пол - женский,\n",
    "- возраст от 20 до 23 или 25 до 34 лет,\n",
    "- количество баллов собственности - любое,\n",
    "- количество продуктов, которыми пользуется клиент - любое,\n",
    "- есть ли кредитная карта - не важно,\n",
    "- активный клиент - да,\n",
    "- оценочный доход клиента - любой.\n",
    "\n",
    "*Количество клиентов в группе:* **408**\n",
    "*Количество ушедших клиентов:* **184**\n",
    "*Процент оттока клиентов:* **45%**"
   ]
  },
  {
   "cell_type": "markdown",
   "metadata": {},
   "source": [
    "<div class=\"alert alert-success\">\n",
    "<b>👍 Успех:</b> Все верно!\n",
    "</div>"
   ]
  },
  {
   "cell_type": "code",
   "execution_count": 44,
   "metadata": {},
   "outputs": [
    {
     "data": {
      "text/html": [
       "<div>\n",
       "<style scoped>\n",
       "    .dataframe tbody tr th:only-of-type {\n",
       "        vertical-align: middle;\n",
       "    }\n",
       "\n",
       "    .dataframe tbody tr th {\n",
       "        vertical-align: top;\n",
       "    }\n",
       "\n",
       "    .dataframe thead th {\n",
       "        text-align: right;\n",
       "    }\n",
       "</style>\n",
       "<table border=\"1\" class=\"dataframe\">\n",
       "  <thead>\n",
       "    <tr style=\"text-align: right;\">\n",
       "      <th></th>\n",
       "      <th>user_id</th>\n",
       "      <th>score</th>\n",
       "      <th>city</th>\n",
       "      <th>gender</th>\n",
       "      <th>age</th>\n",
       "      <th>equity</th>\n",
       "      <th>balance</th>\n",
       "      <th>products</th>\n",
       "      <th>credit_card</th>\n",
       "      <th>last_activity</th>\n",
       "      <th>est_salary</th>\n",
       "      <th>churn</th>\n",
       "    </tr>\n",
       "  </thead>\n",
       "  <tbody>\n",
       "    <tr>\n",
       "      <th>73</th>\n",
       "      <td>155403</td>\n",
       "      <td>859</td>\n",
       "      <td>Рыбинск</td>\n",
       "      <td>1</td>\n",
       "      <td>56</td>\n",
       "      <td>5</td>\n",
       "      <td>652553.80</td>\n",
       "      <td>2</td>\n",
       "      <td>1</td>\n",
       "      <td>1</td>\n",
       "      <td>60791.77</td>\n",
       "      <td>1</td>\n",
       "    </tr>\n",
       "    <tr>\n",
       "      <th>77</th>\n",
       "      <td>191976</td>\n",
       "      <td>937</td>\n",
       "      <td>Ярославль</td>\n",
       "      <td>1</td>\n",
       "      <td>33</td>\n",
       "      <td>5</td>\n",
       "      <td>2061152.96</td>\n",
       "      <td>2</td>\n",
       "      <td>1</td>\n",
       "      <td>1</td>\n",
       "      <td>280670.62</td>\n",
       "      <td>1</td>\n",
       "    </tr>\n",
       "    <tr>\n",
       "      <th>81</th>\n",
       "      <td>223978</td>\n",
       "      <td>850</td>\n",
       "      <td>Рыбинск</td>\n",
       "      <td>1</td>\n",
       "      <td>34</td>\n",
       "      <td>5</td>\n",
       "      <td>351583.16</td>\n",
       "      <td>4</td>\n",
       "      <td>0</td>\n",
       "      <td>1</td>\n",
       "      <td>115354.97</td>\n",
       "      <td>1</td>\n",
       "    </tr>\n",
       "    <tr>\n",
       "      <th>88</th>\n",
       "      <td>210088</td>\n",
       "      <td>894</td>\n",
       "      <td>Ярославль</td>\n",
       "      <td>1</td>\n",
       "      <td>29</td>\n",
       "      <td>3</td>\n",
       "      <td>786911.18</td>\n",
       "      <td>2</td>\n",
       "      <td>1</td>\n",
       "      <td>1</td>\n",
       "      <td>99022.74</td>\n",
       "      <td>1</td>\n",
       "    </tr>\n",
       "    <tr>\n",
       "      <th>103</th>\n",
       "      <td>128618</td>\n",
       "      <td>841</td>\n",
       "      <td>Ростов</td>\n",
       "      <td>1</td>\n",
       "      <td>29</td>\n",
       "      <td>1</td>\n",
       "      <td>175505.11</td>\n",
       "      <td>4</td>\n",
       "      <td>1</td>\n",
       "      <td>1</td>\n",
       "      <td>48188.69</td>\n",
       "      <td>0</td>\n",
       "    </tr>\n",
       "    <tr>\n",
       "      <th>...</th>\n",
       "      <td>...</td>\n",
       "      <td>...</td>\n",
       "      <td>...</td>\n",
       "      <td>...</td>\n",
       "      <td>...</td>\n",
       "      <td>...</td>\n",
       "      <td>...</td>\n",
       "      <td>...</td>\n",
       "      <td>...</td>\n",
       "      <td>...</td>\n",
       "      <td>...</td>\n",
       "      <td>...</td>\n",
       "    </tr>\n",
       "    <tr>\n",
       "      <th>9835</th>\n",
       "      <td>227667</td>\n",
       "      <td>896</td>\n",
       "      <td>Ярославль</td>\n",
       "      <td>1</td>\n",
       "      <td>31</td>\n",
       "      <td>5</td>\n",
       "      <td>1639486.50</td>\n",
       "      <td>2</td>\n",
       "      <td>0</td>\n",
       "      <td>1</td>\n",
       "      <td>150627.46</td>\n",
       "      <td>1</td>\n",
       "    </tr>\n",
       "    <tr>\n",
       "      <th>9887</th>\n",
       "      <td>167524</td>\n",
       "      <td>856</td>\n",
       "      <td>Ярославль</td>\n",
       "      <td>1</td>\n",
       "      <td>50</td>\n",
       "      <td>3</td>\n",
       "      <td>265390.36</td>\n",
       "      <td>2</td>\n",
       "      <td>1</td>\n",
       "      <td>1</td>\n",
       "      <td>154039.56</td>\n",
       "      <td>1</td>\n",
       "    </tr>\n",
       "    <tr>\n",
       "      <th>9972</th>\n",
       "      <td>150126</td>\n",
       "      <td>834</td>\n",
       "      <td>Ростов</td>\n",
       "      <td>1</td>\n",
       "      <td>27</td>\n",
       "      <td>4</td>\n",
       "      <td>192776.27</td>\n",
       "      <td>2</td>\n",
       "      <td>0</td>\n",
       "      <td>1</td>\n",
       "      <td>26570.39</td>\n",
       "      <td>0</td>\n",
       "    </tr>\n",
       "    <tr>\n",
       "      <th>9978</th>\n",
       "      <td>218170</td>\n",
       "      <td>841</td>\n",
       "      <td>Ярославль</td>\n",
       "      <td>1</td>\n",
       "      <td>29</td>\n",
       "      <td>2</td>\n",
       "      <td>235287.10</td>\n",
       "      <td>2</td>\n",
       "      <td>1</td>\n",
       "      <td>1</td>\n",
       "      <td>137494.06</td>\n",
       "      <td>1</td>\n",
       "    </tr>\n",
       "    <tr>\n",
       "      <th>9986</th>\n",
       "      <td>152986</td>\n",
       "      <td>822</td>\n",
       "      <td>Ярославль</td>\n",
       "      <td>1</td>\n",
       "      <td>58</td>\n",
       "      <td>5</td>\n",
       "      <td>1434857.91</td>\n",
       "      <td>2</td>\n",
       "      <td>0</td>\n",
       "      <td>1</td>\n",
       "      <td>83442.41</td>\n",
       "      <td>1</td>\n",
       "    </tr>\n",
       "  </tbody>\n",
       "</table>\n",
       "<p>515 rows × 12 columns</p>\n",
       "</div>"
      ],
      "text/plain": [
       "      user_id  score       city  gender  age  equity     balance  products  \\\n",
       "73     155403    859    Рыбинск       1   56       5   652553.80         2   \n",
       "77     191976    937  Ярославль       1   33       5  2061152.96         2   \n",
       "81     223978    850    Рыбинск       1   34       5   351583.16         4   \n",
       "88     210088    894  Ярославль       1   29       3   786911.18         2   \n",
       "103    128618    841     Ростов       1   29       1   175505.11         4   \n",
       "...       ...    ...        ...     ...  ...     ...         ...       ...   \n",
       "9835   227667    896  Ярославль       1   31       5  1639486.50         2   \n",
       "9887   167524    856  Ярославль       1   50       3   265390.36         2   \n",
       "9972   150126    834     Ростов       1   27       4   192776.27         2   \n",
       "9978   218170    841  Ярославль       1   29       2   235287.10         2   \n",
       "9986   152986    822  Ярославль       1   58       5  1434857.91         2   \n",
       "\n",
       "      credit_card  last_activity  est_salary  churn  \n",
       "73              1              1    60791.77      1  \n",
       "77              1              1   280670.62      1  \n",
       "81              0              1   115354.97      1  \n",
       "88              1              1    99022.74      1  \n",
       "103             1              1    48188.69      0  \n",
       "...           ...            ...         ...    ...  \n",
       "9835            0              1   150627.46      1  \n",
       "9887            1              1   154039.56      1  \n",
       "9972            0              1    26570.39      0  \n",
       "9978            1              1   137494.06      1  \n",
       "9986            0              1    83442.41      1  \n",
       "\n",
       "[515 rows x 12 columns]"
      ]
     },
     "execution_count": 44,
     "metadata": {},
     "output_type": "execute_result"
    }
   ],
   "source": [
    "portrait_4 = data[\n",
    "    (\n",
    "    (data['score'] >= 820) & (data['score'] <= 940) &\n",
    "    (data['gender'] == 1) &\n",
    "    ((data['age'] >= 25) & (data['age'] <= 34) | \n",
    "    (data['age'] >= 49) & (data['age'] <= 60)) &\n",
    "    (data['products'] > 1) & (data['last_activity'] == 1)\n",
    "    )       \n",
    "]\n",
    "portrait_4"
   ]
  },
  {
   "cell_type": "code",
   "execution_count": 45,
   "metadata": {},
   "outputs": [
    {
     "name": "stdout",
     "output_type": "stream",
     "text": [
      "Количество клиентов в группе: 515\n",
      "Количество ушедших клиентов: 331\n",
      "Процент оттока клиентов: 64.3\n"
     ]
    }
   ],
   "source": [
    "print('Количество клиентов в группе:', portrait_4['churn'].count())\n",
    "print('Количество ушедших клиентов:', portrait_4['churn'].sum())\n",
    "print('Процент оттока клиентов:', portrait_4['churn'].mean().round(3) * 100)"
   ]
  },
  {
   "cell_type": "markdown",
   "metadata": {},
   "source": [
    "**Портрет №4:**\n",
    "\n",
    "- Баллы кредитного скоринга от 820 до 940,\n",
    "- город - любой,\n",
    "- пол - мужской,\n",
    "- возраст от 20 до 23 или 25 до 34 лет,\n",
    "- количество баллов собственности - любое,\n",
    "- количество продуктов, которыми пользуется клиент - больше 1,\n",
    "- есть ли кредитная карта - не важно,\n",
    "- активный клиент - да,\n",
    "- оценочный доход клиента - любой.\n",
    "\n",
    "*Количество клиентов в группе:* **515**\n",
    "*Количество ушедших клиентов:* **331**\n",
    "*Процент оттока клиентов:* **64.3%**"
   ]
  },
  {
   "cell_type": "markdown",
   "metadata": {},
   "source": [
    "<div class=\"alert alert-success\">\n",
    "<b>👍 Успех:</b> Все верно!\n",
    "</div>"
   ]
  },
  {
   "cell_type": "code",
   "execution_count": 46,
   "metadata": {},
   "outputs": [
    {
     "data": {
      "text/html": [
       "<div>\n",
       "<style scoped>\n",
       "    .dataframe tbody tr th:only-of-type {\n",
       "        vertical-align: middle;\n",
       "    }\n",
       "\n",
       "    .dataframe tbody tr th {\n",
       "        vertical-align: top;\n",
       "    }\n",
       "\n",
       "    .dataframe thead th {\n",
       "        text-align: right;\n",
       "    }\n",
       "</style>\n",
       "<table border=\"1\" class=\"dataframe\">\n",
       "  <thead>\n",
       "    <tr style=\"text-align: right;\">\n",
       "      <th></th>\n",
       "      <th>user_id</th>\n",
       "      <th>score</th>\n",
       "      <th>city</th>\n",
       "      <th>gender</th>\n",
       "      <th>age</th>\n",
       "      <th>equity</th>\n",
       "      <th>balance</th>\n",
       "      <th>products</th>\n",
       "      <th>credit_card</th>\n",
       "      <th>last_activity</th>\n",
       "      <th>est_salary</th>\n",
       "      <th>churn</th>\n",
       "    </tr>\n",
       "  </thead>\n",
       "  <tbody>\n",
       "    <tr>\n",
       "      <th>0</th>\n",
       "      <td>183012</td>\n",
       "      <td>850</td>\n",
       "      <td>Рыбинск</td>\n",
       "      <td>0</td>\n",
       "      <td>25</td>\n",
       "      <td>1</td>\n",
       "      <td>59214.82</td>\n",
       "      <td>2</td>\n",
       "      <td>0</td>\n",
       "      <td>1</td>\n",
       "      <td>75719.14</td>\n",
       "      <td>1</td>\n",
       "    </tr>\n",
       "    <tr>\n",
       "      <th>3</th>\n",
       "      <td>225363</td>\n",
       "      <td>866</td>\n",
       "      <td>Ярославль</td>\n",
       "      <td>0</td>\n",
       "      <td>51</td>\n",
       "      <td>5</td>\n",
       "      <td>1524746.26</td>\n",
       "      <td>2</td>\n",
       "      <td>0</td>\n",
       "      <td>1</td>\n",
       "      <td>174423.53</td>\n",
       "      <td>1</td>\n",
       "    </tr>\n",
       "    <tr>\n",
       "      <th>12</th>\n",
       "      <td>132970</td>\n",
       "      <td>845</td>\n",
       "      <td>Ярославль</td>\n",
       "      <td>0</td>\n",
       "      <td>31</td>\n",
       "      <td>3</td>\n",
       "      <td>591928.52</td>\n",
       "      <td>2</td>\n",
       "      <td>1</td>\n",
       "      <td>1</td>\n",
       "      <td>112697.16</td>\n",
       "      <td>1</td>\n",
       "    </tr>\n",
       "    <tr>\n",
       "      <th>13</th>\n",
       "      <td>166357</td>\n",
       "      <td>837</td>\n",
       "      <td>Рыбинск</td>\n",
       "      <td>0</td>\n",
       "      <td>28</td>\n",
       "      <td>4</td>\n",
       "      <td>302249.22</td>\n",
       "      <td>2</td>\n",
       "      <td>0</td>\n",
       "      <td>1</td>\n",
       "      <td>30950.94</td>\n",
       "      <td>0</td>\n",
       "    </tr>\n",
       "    <tr>\n",
       "      <th>92</th>\n",
       "      <td>184891</td>\n",
       "      <td>826</td>\n",
       "      <td>Ростов</td>\n",
       "      <td>0</td>\n",
       "      <td>31</td>\n",
       "      <td>2</td>\n",
       "      <td>286655.30</td>\n",
       "      <td>2</td>\n",
       "      <td>1</td>\n",
       "      <td>1</td>\n",
       "      <td>75349.94</td>\n",
       "      <td>0</td>\n",
       "    </tr>\n",
       "    <tr>\n",
       "      <th>...</th>\n",
       "      <td>...</td>\n",
       "      <td>...</td>\n",
       "      <td>...</td>\n",
       "      <td>...</td>\n",
       "      <td>...</td>\n",
       "      <td>...</td>\n",
       "      <td>...</td>\n",
       "      <td>...</td>\n",
       "      <td>...</td>\n",
       "      <td>...</td>\n",
       "      <td>...</td>\n",
       "      <td>...</td>\n",
       "    </tr>\n",
       "    <tr>\n",
       "      <th>9861</th>\n",
       "      <td>179288</td>\n",
       "      <td>908</td>\n",
       "      <td>Ярославль</td>\n",
       "      <td>0</td>\n",
       "      <td>55</td>\n",
       "      <td>5</td>\n",
       "      <td>2036988.28</td>\n",
       "      <td>4</td>\n",
       "      <td>1</td>\n",
       "      <td>1</td>\n",
       "      <td>122581.49</td>\n",
       "      <td>1</td>\n",
       "    </tr>\n",
       "    <tr>\n",
       "      <th>9912</th>\n",
       "      <td>149773</td>\n",
       "      <td>900</td>\n",
       "      <td>Ростов</td>\n",
       "      <td>0</td>\n",
       "      <td>34</td>\n",
       "      <td>2</td>\n",
       "      <td>410240.77</td>\n",
       "      <td>2</td>\n",
       "      <td>0</td>\n",
       "      <td>1</td>\n",
       "      <td>171986.36</td>\n",
       "      <td>1</td>\n",
       "    </tr>\n",
       "    <tr>\n",
       "      <th>9962</th>\n",
       "      <td>217489</td>\n",
       "      <td>893</td>\n",
       "      <td>Ярославль</td>\n",
       "      <td>0</td>\n",
       "      <td>49</td>\n",
       "      <td>5</td>\n",
       "      <td>1571192.11</td>\n",
       "      <td>4</td>\n",
       "      <td>1</td>\n",
       "      <td>1</td>\n",
       "      <td>151217.99</td>\n",
       "      <td>1</td>\n",
       "    </tr>\n",
       "    <tr>\n",
       "      <th>9975</th>\n",
       "      <td>212027</td>\n",
       "      <td>918</td>\n",
       "      <td>Рыбинск</td>\n",
       "      <td>0</td>\n",
       "      <td>34</td>\n",
       "      <td>1</td>\n",
       "      <td>226375.21</td>\n",
       "      <td>2</td>\n",
       "      <td>1</td>\n",
       "      <td>1</td>\n",
       "      <td>208353.35</td>\n",
       "      <td>0</td>\n",
       "    </tr>\n",
       "    <tr>\n",
       "      <th>9999</th>\n",
       "      <td>96267</td>\n",
       "      <td>828</td>\n",
       "      <td>Рыбинск</td>\n",
       "      <td>0</td>\n",
       "      <td>58</td>\n",
       "      <td>3</td>\n",
       "      <td>1180886.70</td>\n",
       "      <td>4</td>\n",
       "      <td>0</td>\n",
       "      <td>1</td>\n",
       "      <td>21422.37</td>\n",
       "      <td>0</td>\n",
       "    </tr>\n",
       "  </tbody>\n",
       "</table>\n",
       "<p>529 rows × 12 columns</p>\n",
       "</div>"
      ],
      "text/plain": [
       "      user_id  score       city  gender  age  equity     balance  products  \\\n",
       "0      183012    850    Рыбинск       0   25       1    59214.82         2   \n",
       "3      225363    866  Ярославль       0   51       5  1524746.26         2   \n",
       "12     132970    845  Ярославль       0   31       3   591928.52         2   \n",
       "13     166357    837    Рыбинск       0   28       4   302249.22         2   \n",
       "92     184891    826     Ростов       0   31       2   286655.30         2   \n",
       "...       ...    ...        ...     ...  ...     ...         ...       ...   \n",
       "9861   179288    908  Ярославль       0   55       5  2036988.28         4   \n",
       "9912   149773    900     Ростов       0   34       2   410240.77         2   \n",
       "9962   217489    893  Ярославль       0   49       5  1571192.11         4   \n",
       "9975   212027    918    Рыбинск       0   34       1   226375.21         2   \n",
       "9999    96267    828    Рыбинск       0   58       3  1180886.70         4   \n",
       "\n",
       "      credit_card  last_activity  est_salary  churn  \n",
       "0               0              1    75719.14      1  \n",
       "3               0              1   174423.53      1  \n",
       "12              1              1   112697.16      1  \n",
       "13              0              1    30950.94      0  \n",
       "92              1              1    75349.94      0  \n",
       "...           ...            ...         ...    ...  \n",
       "9861            1              1   122581.49      1  \n",
       "9912            0              1   171986.36      1  \n",
       "9962            1              1   151217.99      1  \n",
       "9975            1              1   208353.35      0  \n",
       "9999            0              1    21422.37      0  \n",
       "\n",
       "[529 rows x 12 columns]"
      ]
     },
     "execution_count": 46,
     "metadata": {},
     "output_type": "execute_result"
    }
   ],
   "source": [
    "portrait_5 = data[\n",
    "    (\n",
    "    (data['score'] >= 820) & (data['score'] <= 940) &\n",
    "    (data['gender'] == 0) &\n",
    "    ((data['age'] >= 25) & (data['age'] <= 34) | \n",
    "    (data['age'] >= 49) & (data['age'] <= 60)) &\n",
    "    (data['products'] > 1) & (data['last_activity'] == 1)\n",
    "    )       \n",
    "]\n",
    "portrait_5"
   ]
  },
  {
   "cell_type": "code",
   "execution_count": 47,
   "metadata": {},
   "outputs": [
    {
     "name": "stdout",
     "output_type": "stream",
     "text": [
      "Количество клиентов в группе: 529\n",
      "Количество ушедших клиентов: 257\n",
      "Процент оттока клиентов: 48.6\n"
     ]
    }
   ],
   "source": [
    "print('Количество клиентов в группе:', portrait_5['churn'].count())\n",
    "print('Количество ушедших клиентов:', portrait_5['churn'].sum())\n",
    "print('Процент оттока клиентов:', portrait_5['churn'].mean().round(3) * 100)"
   ]
  },
  {
   "cell_type": "markdown",
   "metadata": {},
   "source": [
    "**Портрет №5:**\n",
    "\n",
    "- Баллы кредитного скоринга от 820 до 940,\n",
    "- город - любой,\n",
    "- пол - женский,\n",
    "- возраст от 20 до 23 или 25 до 34 лет,\n",
    "- количество баллов собственности - любое,\n",
    "- количество продуктов, которыми пользуется клиент - больше 1,\n",
    "- есть ли кредитная карта - не важно,\n",
    "- активный клиент - да,\n",
    "- оценочный доход клиента - любой.\n",
    "\n",
    "*Количество клиентов в группе:* **529**\n",
    "*Количество ушедших клиентов:* **257**\n",
    "*Процент оттока клиентов:* **48.6%**"
   ]
  },
  {
   "cell_type": "markdown",
   "metadata": {},
   "source": [
    "<div class=\"alert alert-success\">\n",
    "<b>👍 Успех:</b> Все верно!\n",
    "</div>"
   ]
  },
  {
   "cell_type": "code",
   "execution_count": 48,
   "metadata": {},
   "outputs": [
    {
     "data": {
      "text/html": [
       "<div>\n",
       "<style scoped>\n",
       "    .dataframe tbody tr th:only-of-type {\n",
       "        vertical-align: middle;\n",
       "    }\n",
       "\n",
       "    .dataframe tbody tr th {\n",
       "        vertical-align: top;\n",
       "    }\n",
       "\n",
       "    .dataframe thead th {\n",
       "        text-align: right;\n",
       "    }\n",
       "</style>\n",
       "<table border=\"1\" class=\"dataframe\">\n",
       "  <thead>\n",
       "    <tr style=\"text-align: right;\">\n",
       "      <th></th>\n",
       "      <th>user_id</th>\n",
       "      <th>score</th>\n",
       "      <th>city</th>\n",
       "      <th>gender</th>\n",
       "      <th>age</th>\n",
       "      <th>equity</th>\n",
       "      <th>balance</th>\n",
       "      <th>products</th>\n",
       "      <th>credit_card</th>\n",
       "      <th>last_activity</th>\n",
       "      <th>est_salary</th>\n",
       "      <th>churn</th>\n",
       "    </tr>\n",
       "  </thead>\n",
       "  <tbody>\n",
       "    <tr>\n",
       "      <th>10</th>\n",
       "      <td>148929</td>\n",
       "      <td>927</td>\n",
       "      <td>Ростов</td>\n",
       "      <td>1</td>\n",
       "      <td>52</td>\n",
       "      <td>0</td>\n",
       "      <td>0.00</td>\n",
       "      <td>1</td>\n",
       "      <td>1</td>\n",
       "      <td>1</td>\n",
       "      <td>196820.07</td>\n",
       "      <td>0</td>\n",
       "    </tr>\n",
       "    <tr>\n",
       "      <th>11</th>\n",
       "      <td>172184</td>\n",
       "      <td>921</td>\n",
       "      <td>Ростов</td>\n",
       "      <td>1</td>\n",
       "      <td>41</td>\n",
       "      <td>0</td>\n",
       "      <td>0.00</td>\n",
       "      <td>1</td>\n",
       "      <td>1</td>\n",
       "      <td>1</td>\n",
       "      <td>217469.48</td>\n",
       "      <td>0</td>\n",
       "    </tr>\n",
       "    <tr>\n",
       "      <th>35</th>\n",
       "      <td>221927</td>\n",
       "      <td>863</td>\n",
       "      <td>Ростов</td>\n",
       "      <td>1</td>\n",
       "      <td>39</td>\n",
       "      <td>5</td>\n",
       "      <td>1461423.33</td>\n",
       "      <td>1</td>\n",
       "      <td>0</td>\n",
       "      <td>1</td>\n",
       "      <td>221699.52</td>\n",
       "      <td>0</td>\n",
       "    </tr>\n",
       "    <tr>\n",
       "      <th>92</th>\n",
       "      <td>184891</td>\n",
       "      <td>826</td>\n",
       "      <td>Ростов</td>\n",
       "      <td>0</td>\n",
       "      <td>31</td>\n",
       "      <td>2</td>\n",
       "      <td>286655.30</td>\n",
       "      <td>2</td>\n",
       "      <td>1</td>\n",
       "      <td>1</td>\n",
       "      <td>75349.94</td>\n",
       "      <td>0</td>\n",
       "    </tr>\n",
       "    <tr>\n",
       "      <th>94</th>\n",
       "      <td>191870</td>\n",
       "      <td>821</td>\n",
       "      <td>Ростов</td>\n",
       "      <td>0</td>\n",
       "      <td>30</td>\n",
       "      <td>3</td>\n",
       "      <td>157677.78</td>\n",
       "      <td>4</td>\n",
       "      <td>0</td>\n",
       "      <td>1</td>\n",
       "      <td>36397.02</td>\n",
       "      <td>0</td>\n",
       "    </tr>\n",
       "    <tr>\n",
       "      <th>...</th>\n",
       "      <td>...</td>\n",
       "      <td>...</td>\n",
       "      <td>...</td>\n",
       "      <td>...</td>\n",
       "      <td>...</td>\n",
       "      <td>...</td>\n",
       "      <td>...</td>\n",
       "      <td>...</td>\n",
       "      <td>...</td>\n",
       "      <td>...</td>\n",
       "      <td>...</td>\n",
       "      <td>...</td>\n",
       "    </tr>\n",
       "    <tr>\n",
       "      <th>9903</th>\n",
       "      <td>203506</td>\n",
       "      <td>894</td>\n",
       "      <td>Ростов</td>\n",
       "      <td>0</td>\n",
       "      <td>68</td>\n",
       "      <td>0</td>\n",
       "      <td>0.00</td>\n",
       "      <td>1</td>\n",
       "      <td>1</td>\n",
       "      <td>1</td>\n",
       "      <td>174767.17</td>\n",
       "      <td>0</td>\n",
       "    </tr>\n",
       "    <tr>\n",
       "      <th>9912</th>\n",
       "      <td>149773</td>\n",
       "      <td>900</td>\n",
       "      <td>Ростов</td>\n",
       "      <td>0</td>\n",
       "      <td>34</td>\n",
       "      <td>2</td>\n",
       "      <td>410240.77</td>\n",
       "      <td>2</td>\n",
       "      <td>0</td>\n",
       "      <td>1</td>\n",
       "      <td>171986.36</td>\n",
       "      <td>1</td>\n",
       "    </tr>\n",
       "    <tr>\n",
       "      <th>9941</th>\n",
       "      <td>223285</td>\n",
       "      <td>862</td>\n",
       "      <td>Ростов</td>\n",
       "      <td>1</td>\n",
       "      <td>46</td>\n",
       "      <td>3</td>\n",
       "      <td>1784723.84</td>\n",
       "      <td>4</td>\n",
       "      <td>1</td>\n",
       "      <td>1</td>\n",
       "      <td>202524.28</td>\n",
       "      <td>1</td>\n",
       "    </tr>\n",
       "    <tr>\n",
       "      <th>9947</th>\n",
       "      <td>140864</td>\n",
       "      <td>830</td>\n",
       "      <td>Ростов</td>\n",
       "      <td>0</td>\n",
       "      <td>61</td>\n",
       "      <td>5</td>\n",
       "      <td>464724.86</td>\n",
       "      <td>2</td>\n",
       "      <td>1</td>\n",
       "      <td>1</td>\n",
       "      <td>124495.55</td>\n",
       "      <td>0</td>\n",
       "    </tr>\n",
       "    <tr>\n",
       "      <th>9972</th>\n",
       "      <td>150126</td>\n",
       "      <td>834</td>\n",
       "      <td>Ростов</td>\n",
       "      <td>1</td>\n",
       "      <td>27</td>\n",
       "      <td>4</td>\n",
       "      <td>192776.27</td>\n",
       "      <td>2</td>\n",
       "      <td>0</td>\n",
       "      <td>1</td>\n",
       "      <td>26570.39</td>\n",
       "      <td>0</td>\n",
       "    </tr>\n",
       "  </tbody>\n",
       "</table>\n",
       "<p>414 rows × 12 columns</p>\n",
       "</div>"
      ],
      "text/plain": [
       "      user_id  score    city  gender  age  equity     balance  products  \\\n",
       "10     148929    927  Ростов       1   52       0        0.00         1   \n",
       "11     172184    921  Ростов       1   41       0        0.00         1   \n",
       "35     221927    863  Ростов       1   39       5  1461423.33         1   \n",
       "92     184891    826  Ростов       0   31       2   286655.30         2   \n",
       "94     191870    821  Ростов       0   30       3   157677.78         4   \n",
       "...       ...    ...     ...     ...  ...     ...         ...       ...   \n",
       "9903   203506    894  Ростов       0   68       0        0.00         1   \n",
       "9912   149773    900  Ростов       0   34       2   410240.77         2   \n",
       "9941   223285    862  Ростов       1   46       3  1784723.84         4   \n",
       "9947   140864    830  Ростов       0   61       5   464724.86         2   \n",
       "9972   150126    834  Ростов       1   27       4   192776.27         2   \n",
       "\n",
       "      credit_card  last_activity  est_salary  churn  \n",
       "10              1              1   196820.07      0  \n",
       "11              1              1   217469.48      0  \n",
       "35              0              1   221699.52      0  \n",
       "92              1              1    75349.94      0  \n",
       "94              0              1    36397.02      0  \n",
       "...           ...            ...         ...    ...  \n",
       "9903            1              1   174767.17      0  \n",
       "9912            0              1   171986.36      1  \n",
       "9941            1              1   202524.28      1  \n",
       "9947            1              1   124495.55      0  \n",
       "9972            0              1    26570.39      0  \n",
       "\n",
       "[414 rows x 12 columns]"
      ]
     },
     "execution_count": 48,
     "metadata": {},
     "output_type": "execute_result"
    }
   ],
   "source": [
    "portrait_6 = data[\n",
    "    (\n",
    "    (data['score'] >= 820) & (data['score'] <= 940) &\n",
    "    (data['city'] == \"Ростов\") &\n",
    "    (data['last_activity'] == 1)\n",
    "    )      \n",
    "]\n",
    "portrait_6"
   ]
  },
  {
   "cell_type": "code",
   "execution_count": 49,
   "metadata": {},
   "outputs": [
    {
     "name": "stdout",
     "output_type": "stream",
     "text": [
      "Количество клиентов в группе: 414\n",
      "Количество ушедших клиентов: 133\n",
      "Процент оттока клиентов: 32.1\n"
     ]
    }
   ],
   "source": [
    "print('Количество клиентов в группе:', portrait_6['churn'].count())\n",
    "print('Количество ушедших клиентов:', portrait_6['churn'].sum())\n",
    "print('Процент оттока клиентов:', portrait_6['churn'].mean().round(3) * 100)"
   ]
  },
  {
   "cell_type": "markdown",
   "metadata": {},
   "source": [
    "**Портрет №6:**\n",
    "\n",
    "- Баллы кредитного скоринга от 820 до 940,\n",
    "- город - Ростов,\n",
    "- пол - любой,\n",
    "- возраст - любой,\n",
    "- количество баллов собственности - любое,\n",
    "- количество продуктов, которыми пользуется клиент - любое,\n",
    "- есть ли кредитная карта - не важно,\n",
    "- активный клиент - да,\n",
    "- оценочный доход клиента - любой.\n",
    "\n",
    "*Количество клиентов в группе:* **414**\n",
    "*Количество ушедших клиентов:* **133**\n",
    "*Процент оттока клиентов:* **32.1%**"
   ]
  },
  {
   "cell_type": "markdown",
   "metadata": {},
   "source": [
    "<div class=\"alert alert-success\">\n",
    "<b>👍 Успех:</b> Все верно!\n",
    "</div>"
   ]
  },
  {
   "cell_type": "code",
   "execution_count": 50,
   "metadata": {},
   "outputs": [
    {
     "data": {
      "text/html": [
       "<div>\n",
       "<style scoped>\n",
       "    .dataframe tbody tr th:only-of-type {\n",
       "        vertical-align: middle;\n",
       "    }\n",
       "\n",
       "    .dataframe tbody tr th {\n",
       "        vertical-align: top;\n",
       "    }\n",
       "\n",
       "    .dataframe thead th {\n",
       "        text-align: right;\n",
       "    }\n",
       "</style>\n",
       "<table border=\"1\" class=\"dataframe\">\n",
       "  <thead>\n",
       "    <tr style=\"text-align: right;\">\n",
       "      <th></th>\n",
       "      <th>user_id</th>\n",
       "      <th>score</th>\n",
       "      <th>city</th>\n",
       "      <th>gender</th>\n",
       "      <th>age</th>\n",
       "      <th>equity</th>\n",
       "      <th>balance</th>\n",
       "      <th>products</th>\n",
       "      <th>credit_card</th>\n",
       "      <th>last_activity</th>\n",
       "      <th>est_salary</th>\n",
       "      <th>churn</th>\n",
       "    </tr>\n",
       "  </thead>\n",
       "  <tbody>\n",
       "    <tr>\n",
       "      <th>10</th>\n",
       "      <td>148929</td>\n",
       "      <td>927</td>\n",
       "      <td>Ростов</td>\n",
       "      <td>1</td>\n",
       "      <td>52</td>\n",
       "      <td>0</td>\n",
       "      <td>0.00</td>\n",
       "      <td>1</td>\n",
       "      <td>1</td>\n",
       "      <td>1</td>\n",
       "      <td>196820.07</td>\n",
       "      <td>0</td>\n",
       "    </tr>\n",
       "    <tr>\n",
       "      <th>33</th>\n",
       "      <td>125478</td>\n",
       "      <td>786</td>\n",
       "      <td>Ростов</td>\n",
       "      <td>0</td>\n",
       "      <td>27</td>\n",
       "      <td>3</td>\n",
       "      <td>448062.52</td>\n",
       "      <td>3</td>\n",
       "      <td>1</td>\n",
       "      <td>1</td>\n",
       "      <td>37607.67</td>\n",
       "      <td>0</td>\n",
       "    </tr>\n",
       "    <tr>\n",
       "      <th>38</th>\n",
       "      <td>220711</td>\n",
       "      <td>794</td>\n",
       "      <td>Ростов</td>\n",
       "      <td>0</td>\n",
       "      <td>26</td>\n",
       "      <td>2</td>\n",
       "      <td>147487.39</td>\n",
       "      <td>2</td>\n",
       "      <td>0</td>\n",
       "      <td>1</td>\n",
       "      <td>24912.88</td>\n",
       "      <td>0</td>\n",
       "    </tr>\n",
       "    <tr>\n",
       "      <th>92</th>\n",
       "      <td>184891</td>\n",
       "      <td>826</td>\n",
       "      <td>Ростов</td>\n",
       "      <td>0</td>\n",
       "      <td>31</td>\n",
       "      <td>2</td>\n",
       "      <td>286655.30</td>\n",
       "      <td>2</td>\n",
       "      <td>1</td>\n",
       "      <td>1</td>\n",
       "      <td>75349.94</td>\n",
       "      <td>0</td>\n",
       "    </tr>\n",
       "    <tr>\n",
       "      <th>94</th>\n",
       "      <td>191870</td>\n",
       "      <td>821</td>\n",
       "      <td>Ростов</td>\n",
       "      <td>0</td>\n",
       "      <td>30</td>\n",
       "      <td>3</td>\n",
       "      <td>157677.78</td>\n",
       "      <td>4</td>\n",
       "      <td>0</td>\n",
       "      <td>1</td>\n",
       "      <td>36397.02</td>\n",
       "      <td>0</td>\n",
       "    </tr>\n",
       "    <tr>\n",
       "      <th>...</th>\n",
       "      <td>...</td>\n",
       "      <td>...</td>\n",
       "      <td>...</td>\n",
       "      <td>...</td>\n",
       "      <td>...</td>\n",
       "      <td>...</td>\n",
       "      <td>...</td>\n",
       "      <td>...</td>\n",
       "      <td>...</td>\n",
       "      <td>...</td>\n",
       "      <td>...</td>\n",
       "      <td>...</td>\n",
       "    </tr>\n",
       "    <tr>\n",
       "      <th>9894</th>\n",
       "      <td>157510</td>\n",
       "      <td>775</td>\n",
       "      <td>Ростов</td>\n",
       "      <td>0</td>\n",
       "      <td>34</td>\n",
       "      <td>5</td>\n",
       "      <td>1483350.04</td>\n",
       "      <td>3</td>\n",
       "      <td>1</td>\n",
       "      <td>1</td>\n",
       "      <td>94062.42</td>\n",
       "      <td>0</td>\n",
       "    </tr>\n",
       "    <tr>\n",
       "      <th>9912</th>\n",
       "      <td>149773</td>\n",
       "      <td>900</td>\n",
       "      <td>Ростов</td>\n",
       "      <td>0</td>\n",
       "      <td>34</td>\n",
       "      <td>2</td>\n",
       "      <td>410240.77</td>\n",
       "      <td>2</td>\n",
       "      <td>0</td>\n",
       "      <td>1</td>\n",
       "      <td>171986.36</td>\n",
       "      <td>1</td>\n",
       "    </tr>\n",
       "    <tr>\n",
       "      <th>9950</th>\n",
       "      <td>140903</td>\n",
       "      <td>815</td>\n",
       "      <td>Ростов</td>\n",
       "      <td>0</td>\n",
       "      <td>32</td>\n",
       "      <td>2</td>\n",
       "      <td>357710.22</td>\n",
       "      <td>2</td>\n",
       "      <td>0</td>\n",
       "      <td>1</td>\n",
       "      <td>109905.85</td>\n",
       "      <td>0</td>\n",
       "    </tr>\n",
       "    <tr>\n",
       "      <th>9955</th>\n",
       "      <td>135762</td>\n",
       "      <td>813</td>\n",
       "      <td>Ростов</td>\n",
       "      <td>0</td>\n",
       "      <td>25</td>\n",
       "      <td>3</td>\n",
       "      <td>76080.91</td>\n",
       "      <td>1</td>\n",
       "      <td>1</td>\n",
       "      <td>1</td>\n",
       "      <td>22538.93</td>\n",
       "      <td>0</td>\n",
       "    </tr>\n",
       "    <tr>\n",
       "      <th>9972</th>\n",
       "      <td>150126</td>\n",
       "      <td>834</td>\n",
       "      <td>Ростов</td>\n",
       "      <td>1</td>\n",
       "      <td>27</td>\n",
       "      <td>4</td>\n",
       "      <td>192776.27</td>\n",
       "      <td>2</td>\n",
       "      <td>0</td>\n",
       "      <td>1</td>\n",
       "      <td>26570.39</td>\n",
       "      <td>0</td>\n",
       "    </tr>\n",
       "  </tbody>\n",
       "</table>\n",
       "<p>351 rows × 12 columns</p>\n",
       "</div>"
      ],
      "text/plain": [
       "      user_id  score    city  gender  age  equity     balance  products  \\\n",
       "10     148929    927  Ростов       1   52       0        0.00         1   \n",
       "33     125478    786  Ростов       0   27       3   448062.52         3   \n",
       "38     220711    794  Ростов       0   26       2   147487.39         2   \n",
       "92     184891    826  Ростов       0   31       2   286655.30         2   \n",
       "94     191870    821  Ростов       0   30       3   157677.78         4   \n",
       "...       ...    ...     ...     ...  ...     ...         ...       ...   \n",
       "9894   157510    775  Ростов       0   34       5  1483350.04         3   \n",
       "9912   149773    900  Ростов       0   34       2   410240.77         2   \n",
       "9950   140903    815  Ростов       0   32       2   357710.22         2   \n",
       "9955   135762    813  Ростов       0   25       3    76080.91         1   \n",
       "9972   150126    834  Ростов       1   27       4   192776.27         2   \n",
       "\n",
       "      credit_card  last_activity  est_salary  churn  \n",
       "10              1              1   196820.07      0  \n",
       "33              1              1    37607.67      0  \n",
       "38              0              1    24912.88      0  \n",
       "92              1              1    75349.94      0  \n",
       "94              0              1    36397.02      0  \n",
       "...           ...            ...         ...    ...  \n",
       "9894            1              1    94062.42      0  \n",
       "9912            0              1   171986.36      1  \n",
       "9950            0              1   109905.85      0  \n",
       "9955            1              1    22538.93      0  \n",
       "9972            0              1    26570.39      0  \n",
       "\n",
       "[351 rows x 12 columns]"
      ]
     },
     "execution_count": 50,
     "metadata": {},
     "output_type": "execute_result"
    }
   ],
   "source": [
    "portrait_7 = data[\n",
    " (\n",
    "    (data['city'] == \"Ростов\") &\n",
    "    ((data['age'] >= 25) & (data['age'] <= 34) | \n",
    "    (data['age'] >= 49) & (data['age'] <= 60)) &\n",
    "    (data['last_activity'] == 1)\n",
    "    )      \n",
    "]\n",
    "portrait_7"
   ]
  },
  {
   "cell_type": "code",
   "execution_count": 51,
   "metadata": {},
   "outputs": [
    {
     "name": "stdout",
     "output_type": "stream",
     "text": [
      "Количество клиентов в группе: 351\n",
      "Количество ушедших клиентов: 98\n",
      "Процент оттока клиентов: 30.0\n"
     ]
    }
   ],
   "source": [
    "print('Количество клиентов в группе:', portrait_7['churn'].count())\n",
    "print('Количество ушедших клиентов:', portrait_7['churn'].sum())\n",
    "print('Процент оттока клиентов:', portrait_7['churn'].mean().round(1) * 100)"
   ]
  },
  {
   "cell_type": "markdown",
   "metadata": {},
   "source": [
    "**Портрет №7:**\n",
    "\n",
    "- Баллы кредитного скоринга - не важно,\n",
    "- город - Ростов,\n",
    "- пол - любой,\n",
    "- возраст от 25 до 34 или 49 до 60 лет,\n",
    "- количество баллов собственности - любое,\n",
    "- количество продуктов, которыми пользуется клиент - любое,\n",
    "- есть ли кредитная карта - не важно,\n",
    "- активный клиент - да,\n",
    "- оценочный доход клиента - любой.\n",
    "\n",
    "*Количество клиентов в группе:* **351**\n",
    "*Количество ушедших клиентов:* **98**\n",
    "*Процент оттока клиентов:* **30%**"
   ]
  },
  {
   "cell_type": "markdown",
   "metadata": {},
   "source": [
    "<div class=\"alert alert-success\">\n",
    "<b>👍 Успех:</b> Все верно!\n",
    "</div>"
   ]
  },
  {
   "cell_type": "code",
   "execution_count": 52,
   "metadata": {},
   "outputs": [
    {
     "data": {
      "text/html": [
       "<div>\n",
       "<style scoped>\n",
       "    .dataframe tbody tr th:only-of-type {\n",
       "        vertical-align: middle;\n",
       "    }\n",
       "\n",
       "    .dataframe tbody tr th {\n",
       "        vertical-align: top;\n",
       "    }\n",
       "\n",
       "    .dataframe thead th {\n",
       "        text-align: right;\n",
       "    }\n",
       "</style>\n",
       "<table border=\"1\" class=\"dataframe\">\n",
       "  <thead>\n",
       "    <tr style=\"text-align: right;\">\n",
       "      <th></th>\n",
       "      <th>user_id</th>\n",
       "      <th>score</th>\n",
       "      <th>city</th>\n",
       "      <th>gender</th>\n",
       "      <th>age</th>\n",
       "      <th>equity</th>\n",
       "      <th>balance</th>\n",
       "      <th>products</th>\n",
       "      <th>credit_card</th>\n",
       "      <th>last_activity</th>\n",
       "      <th>est_salary</th>\n",
       "      <th>churn</th>\n",
       "    </tr>\n",
       "  </thead>\n",
       "  <tbody>\n",
       "    <tr>\n",
       "      <th>3</th>\n",
       "      <td>225363</td>\n",
       "      <td>866</td>\n",
       "      <td>Ярославль</td>\n",
       "      <td>0</td>\n",
       "      <td>51</td>\n",
       "      <td>5</td>\n",
       "      <td>1524746.26</td>\n",
       "      <td>2</td>\n",
       "      <td>0</td>\n",
       "      <td>1</td>\n",
       "      <td>174423.53</td>\n",
       "      <td>1</td>\n",
       "    </tr>\n",
       "    <tr>\n",
       "      <th>13</th>\n",
       "      <td>166357</td>\n",
       "      <td>837</td>\n",
       "      <td>Рыбинск</td>\n",
       "      <td>0</td>\n",
       "      <td>28</td>\n",
       "      <td>4</td>\n",
       "      <td>302249.22</td>\n",
       "      <td>2</td>\n",
       "      <td>0</td>\n",
       "      <td>1</td>\n",
       "      <td>30950.94</td>\n",
       "      <td>0</td>\n",
       "    </tr>\n",
       "    <tr>\n",
       "      <th>61</th>\n",
       "      <td>136096</td>\n",
       "      <td>896</td>\n",
       "      <td>Ярославль</td>\n",
       "      <td>0</td>\n",
       "      <td>39</td>\n",
       "      <td>5</td>\n",
       "      <td>657597.09</td>\n",
       "      <td>2</td>\n",
       "      <td>0</td>\n",
       "      <td>1</td>\n",
       "      <td>266033.98</td>\n",
       "      <td>1</td>\n",
       "    </tr>\n",
       "    <tr>\n",
       "      <th>71</th>\n",
       "      <td>141119</td>\n",
       "      <td>792</td>\n",
       "      <td>Ростов</td>\n",
       "      <td>0</td>\n",
       "      <td>48</td>\n",
       "      <td>5</td>\n",
       "      <td>552231.35</td>\n",
       "      <td>2</td>\n",
       "      <td>0</td>\n",
       "      <td>1</td>\n",
       "      <td>116971.72</td>\n",
       "      <td>0</td>\n",
       "    </tr>\n",
       "    <tr>\n",
       "      <th>76</th>\n",
       "      <td>213688</td>\n",
       "      <td>922</td>\n",
       "      <td>Ярославль</td>\n",
       "      <td>0</td>\n",
       "      <td>37</td>\n",
       "      <td>5</td>\n",
       "      <td>1214707.38</td>\n",
       "      <td>4</td>\n",
       "      <td>0</td>\n",
       "      <td>1</td>\n",
       "      <td>85121.07</td>\n",
       "      <td>0</td>\n",
       "    </tr>\n",
       "    <tr>\n",
       "      <th>...</th>\n",
       "      <td>...</td>\n",
       "      <td>...</td>\n",
       "      <td>...</td>\n",
       "      <td>...</td>\n",
       "      <td>...</td>\n",
       "      <td>...</td>\n",
       "      <td>...</td>\n",
       "      <td>...</td>\n",
       "      <td>...</td>\n",
       "      <td>...</td>\n",
       "      <td>...</td>\n",
       "      <td>...</td>\n",
       "    </tr>\n",
       "    <tr>\n",
       "      <th>9778</th>\n",
       "      <td>192405</td>\n",
       "      <td>777</td>\n",
       "      <td>Ростов</td>\n",
       "      <td>0</td>\n",
       "      <td>63</td>\n",
       "      <td>5</td>\n",
       "      <td>1470087.29</td>\n",
       "      <td>3</td>\n",
       "      <td>0</td>\n",
       "      <td>1</td>\n",
       "      <td>41727.85</td>\n",
       "      <td>0</td>\n",
       "    </tr>\n",
       "    <tr>\n",
       "      <th>9889</th>\n",
       "      <td>198329</td>\n",
       "      <td>823</td>\n",
       "      <td>Ростов</td>\n",
       "      <td>0</td>\n",
       "      <td>48</td>\n",
       "      <td>4</td>\n",
       "      <td>550575.09</td>\n",
       "      <td>4</td>\n",
       "      <td>0</td>\n",
       "      <td>1</td>\n",
       "      <td>86181.06</td>\n",
       "      <td>0</td>\n",
       "    </tr>\n",
       "    <tr>\n",
       "      <th>9893</th>\n",
       "      <td>164037</td>\n",
       "      <td>870</td>\n",
       "      <td>Ростов</td>\n",
       "      <td>0</td>\n",
       "      <td>64</td>\n",
       "      <td>5</td>\n",
       "      <td>940510.00</td>\n",
       "      <td>2</td>\n",
       "      <td>0</td>\n",
       "      <td>1</td>\n",
       "      <td>91551.07</td>\n",
       "      <td>0</td>\n",
       "    </tr>\n",
       "    <tr>\n",
       "      <th>9929</th>\n",
       "      <td>123664</td>\n",
       "      <td>819</td>\n",
       "      <td>Ярославль</td>\n",
       "      <td>0</td>\n",
       "      <td>36</td>\n",
       "      <td>4</td>\n",
       "      <td>331403.71</td>\n",
       "      <td>3</td>\n",
       "      <td>0</td>\n",
       "      <td>1</td>\n",
       "      <td>229367.86</td>\n",
       "      <td>0</td>\n",
       "    </tr>\n",
       "    <tr>\n",
       "      <th>9980</th>\n",
       "      <td>117291</td>\n",
       "      <td>779</td>\n",
       "      <td>Ростов</td>\n",
       "      <td>0</td>\n",
       "      <td>44</td>\n",
       "      <td>4</td>\n",
       "      <td>380025.17</td>\n",
       "      <td>2</td>\n",
       "      <td>0</td>\n",
       "      <td>1</td>\n",
       "      <td>155887.84</td>\n",
       "      <td>0</td>\n",
       "    </tr>\n",
       "  </tbody>\n",
       "</table>\n",
       "<p>489 rows × 12 columns</p>\n",
       "</div>"
      ],
      "text/plain": [
       "      user_id  score       city  gender  age  equity     balance  products  \\\n",
       "3      225363    866  Ярославль       0   51       5  1524746.26         2   \n",
       "13     166357    837    Рыбинск       0   28       4   302249.22         2   \n",
       "61     136096    896  Ярославль       0   39       5   657597.09         2   \n",
       "71     141119    792     Ростов       0   48       5   552231.35         2   \n",
       "76     213688    922  Ярославль       0   37       5  1214707.38         4   \n",
       "...       ...    ...        ...     ...  ...     ...         ...       ...   \n",
       "9778   192405    777     Ростов       0   63       5  1470087.29         3   \n",
       "9889   198329    823     Ростов       0   48       4   550575.09         4   \n",
       "9893   164037    870     Ростов       0   64       5   940510.00         2   \n",
       "9929   123664    819  Ярославль       0   36       4   331403.71         3   \n",
       "9980   117291    779     Ростов       0   44       4   380025.17         2   \n",
       "\n",
       "      credit_card  last_activity  est_salary  churn  \n",
       "3               0              1   174423.53      1  \n",
       "13              0              1    30950.94      0  \n",
       "61              0              1   266033.98      1  \n",
       "71              0              1   116971.72      0  \n",
       "76              0              1    85121.07      0  \n",
       "...           ...            ...         ...    ...  \n",
       "9778            0              1    41727.85      0  \n",
       "9889            0              1    86181.06      0  \n",
       "9893            0              1    91551.07      0  \n",
       "9929            0              1   229367.86      0  \n",
       "9980            0              1   155887.84      0  \n",
       "\n",
       "[489 rows x 12 columns]"
      ]
     },
     "execution_count": 52,
     "metadata": {},
     "output_type": "execute_result"
    }
   ],
   "source": [
    "portrait_8 = data[\n",
    "   (\n",
    "    (data['gender'] == 0) &\n",
    "    (data['products'] > 1) & (data['equity'] > 3) &\n",
    "    (data['credit_card'] == 0) & (data['last_activity'] == 1)\n",
    "    )         \n",
    "]\n",
    "portrait_8"
   ]
  },
  {
   "cell_type": "code",
   "execution_count": 53,
   "metadata": {},
   "outputs": [
    {
     "name": "stdout",
     "output_type": "stream",
     "text": [
      "Количество клиентов в группе: 489\n",
      "Количество ушедших клиентов: 204\n",
      "Процент оттока клиентов: 42.0\n"
     ]
    }
   ],
   "source": [
    "print('Количество клиентов в группе:', portrait_8['churn'].count())\n",
    "print('Количество ушедших клиентов:', portrait_8['churn'].sum())\n",
    "print('Процент оттока клиентов:', portrait_8['churn'].mean().round(2) * 100)"
   ]
  },
  {
   "cell_type": "markdown",
   "metadata": {},
   "source": [
    "**Портрет №8:**\n",
    "\n",
    "- Баллы кредитного скоринга - не важно,\n",
    "- город - любой,\n",
    "- пол - женский,\n",
    "- возраст - не важно,\n",
    "- количество баллов собственности больше 3,\n",
    "- количество продуктов, которыми пользуется клиент больше 1,\n",
    "- есть ли кредитная карта - нет,\n",
    "- активный клиент - да,\n",
    "- оценочный доход клиента - любой.\n",
    "\n",
    "*Количество клиентов в группе:* **489**\n",
    "*Количество ушедших клиентов:* **204**\n",
    "*Процент оттока клиентов:* **42%**"
   ]
  },
  {
   "cell_type": "markdown",
   "metadata": {},
   "source": [
    "<div class=\"alert alert-success\">\n",
    "<b>👍 Успех:</b> Все верно!\n",
    "</div>"
   ]
  },
  {
   "cell_type": "code",
   "execution_count": 54,
   "metadata": {},
   "outputs": [
    {
     "data": {
      "text/html": [
       "<div>\n",
       "<style scoped>\n",
       "    .dataframe tbody tr th:only-of-type {\n",
       "        vertical-align: middle;\n",
       "    }\n",
       "\n",
       "    .dataframe tbody tr th {\n",
       "        vertical-align: top;\n",
       "    }\n",
       "\n",
       "    .dataframe thead th {\n",
       "        text-align: right;\n",
       "    }\n",
       "</style>\n",
       "<table border=\"1\" class=\"dataframe\">\n",
       "  <thead>\n",
       "    <tr style=\"text-align: right;\">\n",
       "      <th></th>\n",
       "      <th>user_id</th>\n",
       "      <th>score</th>\n",
       "      <th>city</th>\n",
       "      <th>gender</th>\n",
       "      <th>age</th>\n",
       "      <th>equity</th>\n",
       "      <th>balance</th>\n",
       "      <th>products</th>\n",
       "      <th>credit_card</th>\n",
       "      <th>last_activity</th>\n",
       "      <th>est_salary</th>\n",
       "      <th>churn</th>\n",
       "    </tr>\n",
       "  </thead>\n",
       "  <tbody>\n",
       "    <tr>\n",
       "      <th>3</th>\n",
       "      <td>225363</td>\n",
       "      <td>866</td>\n",
       "      <td>Ярославль</td>\n",
       "      <td>0</td>\n",
       "      <td>51</td>\n",
       "      <td>5</td>\n",
       "      <td>1524746.26</td>\n",
       "      <td>2</td>\n",
       "      <td>0</td>\n",
       "      <td>1</td>\n",
       "      <td>174423.53</td>\n",
       "      <td>1</td>\n",
       "    </tr>\n",
       "    <tr>\n",
       "      <th>12</th>\n",
       "      <td>132970</td>\n",
       "      <td>845</td>\n",
       "      <td>Ярославль</td>\n",
       "      <td>0</td>\n",
       "      <td>31</td>\n",
       "      <td>3</td>\n",
       "      <td>591928.52</td>\n",
       "      <td>2</td>\n",
       "      <td>1</td>\n",
       "      <td>1</td>\n",
       "      <td>112697.16</td>\n",
       "      <td>1</td>\n",
       "    </tr>\n",
       "    <tr>\n",
       "      <th>13</th>\n",
       "      <td>166357</td>\n",
       "      <td>837</td>\n",
       "      <td>Рыбинск</td>\n",
       "      <td>0</td>\n",
       "      <td>28</td>\n",
       "      <td>4</td>\n",
       "      <td>302249.22</td>\n",
       "      <td>2</td>\n",
       "      <td>0</td>\n",
       "      <td>1</td>\n",
       "      <td>30950.94</td>\n",
       "      <td>0</td>\n",
       "    </tr>\n",
       "    <tr>\n",
       "      <th>73</th>\n",
       "      <td>155403</td>\n",
       "      <td>859</td>\n",
       "      <td>Рыбинск</td>\n",
       "      <td>1</td>\n",
       "      <td>56</td>\n",
       "      <td>5</td>\n",
       "      <td>652553.80</td>\n",
       "      <td>2</td>\n",
       "      <td>1</td>\n",
       "      <td>1</td>\n",
       "      <td>60791.77</td>\n",
       "      <td>1</td>\n",
       "    </tr>\n",
       "    <tr>\n",
       "      <th>77</th>\n",
       "      <td>191976</td>\n",
       "      <td>937</td>\n",
       "      <td>Ярославль</td>\n",
       "      <td>1</td>\n",
       "      <td>33</td>\n",
       "      <td>5</td>\n",
       "      <td>2061152.96</td>\n",
       "      <td>2</td>\n",
       "      <td>1</td>\n",
       "      <td>1</td>\n",
       "      <td>280670.62</td>\n",
       "      <td>1</td>\n",
       "    </tr>\n",
       "    <tr>\n",
       "      <th>...</th>\n",
       "      <td>...</td>\n",
       "      <td>...</td>\n",
       "      <td>...</td>\n",
       "      <td>...</td>\n",
       "      <td>...</td>\n",
       "      <td>...</td>\n",
       "      <td>...</td>\n",
       "      <td>...</td>\n",
       "      <td>...</td>\n",
       "      <td>...</td>\n",
       "      <td>...</td>\n",
       "      <td>...</td>\n",
       "    </tr>\n",
       "    <tr>\n",
       "      <th>9887</th>\n",
       "      <td>167524</td>\n",
       "      <td>856</td>\n",
       "      <td>Ярославль</td>\n",
       "      <td>1</td>\n",
       "      <td>50</td>\n",
       "      <td>3</td>\n",
       "      <td>265390.36</td>\n",
       "      <td>2</td>\n",
       "      <td>1</td>\n",
       "      <td>1</td>\n",
       "      <td>154039.56</td>\n",
       "      <td>1</td>\n",
       "    </tr>\n",
       "    <tr>\n",
       "      <th>9962</th>\n",
       "      <td>217489</td>\n",
       "      <td>893</td>\n",
       "      <td>Ярославль</td>\n",
       "      <td>0</td>\n",
       "      <td>49</td>\n",
       "      <td>5</td>\n",
       "      <td>1571192.11</td>\n",
       "      <td>4</td>\n",
       "      <td>1</td>\n",
       "      <td>1</td>\n",
       "      <td>151217.99</td>\n",
       "      <td>1</td>\n",
       "    </tr>\n",
       "    <tr>\n",
       "      <th>9972</th>\n",
       "      <td>150126</td>\n",
       "      <td>834</td>\n",
       "      <td>Ростов</td>\n",
       "      <td>1</td>\n",
       "      <td>27</td>\n",
       "      <td>4</td>\n",
       "      <td>192776.27</td>\n",
       "      <td>2</td>\n",
       "      <td>0</td>\n",
       "      <td>1</td>\n",
       "      <td>26570.39</td>\n",
       "      <td>0</td>\n",
       "    </tr>\n",
       "    <tr>\n",
       "      <th>9986</th>\n",
       "      <td>152986</td>\n",
       "      <td>822</td>\n",
       "      <td>Ярославль</td>\n",
       "      <td>1</td>\n",
       "      <td>58</td>\n",
       "      <td>5</td>\n",
       "      <td>1434857.91</td>\n",
       "      <td>2</td>\n",
       "      <td>0</td>\n",
       "      <td>1</td>\n",
       "      <td>83442.41</td>\n",
       "      <td>1</td>\n",
       "    </tr>\n",
       "    <tr>\n",
       "      <th>9999</th>\n",
       "      <td>96267</td>\n",
       "      <td>828</td>\n",
       "      <td>Рыбинск</td>\n",
       "      <td>0</td>\n",
       "      <td>58</td>\n",
       "      <td>3</td>\n",
       "      <td>1180886.70</td>\n",
       "      <td>4</td>\n",
       "      <td>0</td>\n",
       "      <td>1</td>\n",
       "      <td>21422.37</td>\n",
       "      <td>0</td>\n",
       "    </tr>\n",
       "  </tbody>\n",
       "</table>\n",
       "<p>846 rows × 12 columns</p>\n",
       "</div>"
      ],
      "text/plain": [
       "      user_id  score       city  gender  age  equity     balance  products  \\\n",
       "3      225363    866  Ярославль       0   51       5  1524746.26         2   \n",
       "12     132970    845  Ярославль       0   31       3   591928.52         2   \n",
       "13     166357    837    Рыбинск       0   28       4   302249.22         2   \n",
       "73     155403    859    Рыбинск       1   56       5   652553.80         2   \n",
       "77     191976    937  Ярославль       1   33       5  2061152.96         2   \n",
       "...       ...    ...        ...     ...  ...     ...         ...       ...   \n",
       "9887   167524    856  Ярославль       1   50       3   265390.36         2   \n",
       "9962   217489    893  Ярославль       0   49       5  1571192.11         4   \n",
       "9972   150126    834     Ростов       1   27       4   192776.27         2   \n",
       "9986   152986    822  Ярославль       1   58       5  1434857.91         2   \n",
       "9999    96267    828    Рыбинск       0   58       3  1180886.70         4   \n",
       "\n",
       "      credit_card  last_activity  est_salary  churn  \n",
       "3               0              1   174423.53      1  \n",
       "12              1              1   112697.16      1  \n",
       "13              0              1    30950.94      0  \n",
       "73              1              1    60791.77      1  \n",
       "77              1              1   280670.62      1  \n",
       "...           ...            ...         ...    ...  \n",
       "9887            1              1   154039.56      1  \n",
       "9962            1              1   151217.99      1  \n",
       "9972            0              1    26570.39      0  \n",
       "9986            0              1    83442.41      1  \n",
       "9999            0              1    21422.37      0  \n",
       "\n",
       "[846 rows x 12 columns]"
      ]
     },
     "execution_count": 54,
     "metadata": {},
     "output_type": "execute_result"
    }
   ],
   "source": [
    "portrait_9 = data[\n",
    "    (\n",
    "    (data['score'] >= 820) & (data['score'] <= 940) &\n",
    "    ((data['age'] >= 25) & (data['age'] <= 34) | \n",
    "    (data['age'] >= 49) & (data['age'] <= 60)) &\n",
    "    (data['equity'] >= 3) & (data['products'] > 1) &\n",
    "    (data['last_activity'] == 1)\n",
    "    )       \n",
    "]\n",
    "portrait_9"
   ]
  },
  {
   "cell_type": "code",
   "execution_count": 55,
   "metadata": {},
   "outputs": [
    {
     "name": "stdout",
     "output_type": "stream",
     "text": [
      "Количество клиентов в группе: 846\n",
      "Количество ушедших клиентов: 516\n",
      "Процент оттока клиентов: 61.0\n"
     ]
    }
   ],
   "source": [
    "print('Количество клиентов в группе:', portrait_9['churn'].count())\n",
    "print('Количество ушедших клиентов:', portrait_9['churn'].sum())\n",
    "print('Процент оттока клиентов:', portrait_9['churn'].mean().round(2) * 100)"
   ]
  },
  {
   "cell_type": "markdown",
   "metadata": {},
   "source": [
    "**Портрет №9:**\n",
    "\n",
    "- Баллы кредитного скоринга от 820 до 940,\n",
    "- город - любой,\n",
    "- пол - любой,\n",
    "- возраст от 25 до 34 или 49 до 60 лет,\n",
    "- количество баллов собственности больше 3,\n",
    "- количество продуктов, которыми пользуется клиент больше 1,\n",
    "- есть ли кредитная карта - нет,\n",
    "- активный клиент - да,\n",
    "- оценочный доход клиента - любой.\n",
    "\n",
    "*Количество клиентов в группе:* **846**\n",
    "*Количество ушедших клиентов:* **516**\n",
    "*Процент оттока клиентов:* **61%**"
   ]
  },
  {
   "cell_type": "markdown",
   "metadata": {},
   "source": [
    "<div class=\"alert alert-success\">\n",
    "<b>👍 Успех:</b> Все верно!\n",
    "</div>"
   ]
  },
  {
   "cell_type": "code",
   "execution_count": 56,
   "metadata": {},
   "outputs": [
    {
     "data": {
      "text/html": [
       "<div>\n",
       "<style scoped>\n",
       "    .dataframe tbody tr th:only-of-type {\n",
       "        vertical-align: middle;\n",
       "    }\n",
       "\n",
       "    .dataframe tbody tr th {\n",
       "        vertical-align: top;\n",
       "    }\n",
       "\n",
       "    .dataframe thead th {\n",
       "        text-align: right;\n",
       "    }\n",
       "</style>\n",
       "<table border=\"1\" class=\"dataframe\">\n",
       "  <thead>\n",
       "    <tr style=\"text-align: right;\">\n",
       "      <th></th>\n",
       "      <th>user_id</th>\n",
       "      <th>score</th>\n",
       "      <th>city</th>\n",
       "      <th>gender</th>\n",
       "      <th>age</th>\n",
       "      <th>equity</th>\n",
       "      <th>balance</th>\n",
       "      <th>products</th>\n",
       "      <th>credit_card</th>\n",
       "      <th>last_activity</th>\n",
       "      <th>est_salary</th>\n",
       "      <th>churn</th>\n",
       "    </tr>\n",
       "  </thead>\n",
       "  <tbody>\n",
       "    <tr>\n",
       "      <th>3</th>\n",
       "      <td>225363</td>\n",
       "      <td>866</td>\n",
       "      <td>Ярославль</td>\n",
       "      <td>0</td>\n",
       "      <td>51</td>\n",
       "      <td>5</td>\n",
       "      <td>1524746.26</td>\n",
       "      <td>2</td>\n",
       "      <td>0</td>\n",
       "      <td>1</td>\n",
       "      <td>174423.53</td>\n",
       "      <td>1</td>\n",
       "    </tr>\n",
       "    <tr>\n",
       "      <th>6</th>\n",
       "      <td>177259</td>\n",
       "      <td>807</td>\n",
       "      <td>Ярославль</td>\n",
       "      <td>0</td>\n",
       "      <td>39</td>\n",
       "      <td>3</td>\n",
       "      <td>405042.44</td>\n",
       "      <td>3</td>\n",
       "      <td>0</td>\n",
       "      <td>1</td>\n",
       "      <td>103838.32</td>\n",
       "      <td>0</td>\n",
       "    </tr>\n",
       "    <tr>\n",
       "      <th>13</th>\n",
       "      <td>166357</td>\n",
       "      <td>837</td>\n",
       "      <td>Рыбинск</td>\n",
       "      <td>0</td>\n",
       "      <td>28</td>\n",
       "      <td>4</td>\n",
       "      <td>302249.22</td>\n",
       "      <td>2</td>\n",
       "      <td>0</td>\n",
       "      <td>1</td>\n",
       "      <td>30950.94</td>\n",
       "      <td>0</td>\n",
       "    </tr>\n",
       "    <tr>\n",
       "      <th>26</th>\n",
       "      <td>174396</td>\n",
       "      <td>898</td>\n",
       "      <td>Ярославль</td>\n",
       "      <td>0</td>\n",
       "      <td>62</td>\n",
       "      <td>3</td>\n",
       "      <td>364049.27</td>\n",
       "      <td>3</td>\n",
       "      <td>0</td>\n",
       "      <td>1</td>\n",
       "      <td>50661.84</td>\n",
       "      <td>0</td>\n",
       "    </tr>\n",
       "    <tr>\n",
       "      <th>61</th>\n",
       "      <td>136096</td>\n",
       "      <td>896</td>\n",
       "      <td>Ярославль</td>\n",
       "      <td>0</td>\n",
       "      <td>39</td>\n",
       "      <td>5</td>\n",
       "      <td>657597.09</td>\n",
       "      <td>2</td>\n",
       "      <td>0</td>\n",
       "      <td>1</td>\n",
       "      <td>266033.98</td>\n",
       "      <td>1</td>\n",
       "    </tr>\n",
       "    <tr>\n",
       "      <th>...</th>\n",
       "      <td>...</td>\n",
       "      <td>...</td>\n",
       "      <td>...</td>\n",
       "      <td>...</td>\n",
       "      <td>...</td>\n",
       "      <td>...</td>\n",
       "      <td>...</td>\n",
       "      <td>...</td>\n",
       "      <td>...</td>\n",
       "      <td>...</td>\n",
       "      <td>...</td>\n",
       "      <td>...</td>\n",
       "    </tr>\n",
       "    <tr>\n",
       "      <th>9980</th>\n",
       "      <td>117291</td>\n",
       "      <td>779</td>\n",
       "      <td>Ростов</td>\n",
       "      <td>0</td>\n",
       "      <td>44</td>\n",
       "      <td>4</td>\n",
       "      <td>380025.17</td>\n",
       "      <td>2</td>\n",
       "      <td>0</td>\n",
       "      <td>1</td>\n",
       "      <td>155887.84</td>\n",
       "      <td>0</td>\n",
       "    </tr>\n",
       "    <tr>\n",
       "      <th>9981</th>\n",
       "      <td>154871</td>\n",
       "      <td>892</td>\n",
       "      <td>Рыбинск</td>\n",
       "      <td>1</td>\n",
       "      <td>39</td>\n",
       "      <td>5</td>\n",
       "      <td>636287.72</td>\n",
       "      <td>2</td>\n",
       "      <td>0</td>\n",
       "      <td>1</td>\n",
       "      <td>227288.27</td>\n",
       "      <td>1</td>\n",
       "    </tr>\n",
       "    <tr>\n",
       "      <th>9986</th>\n",
       "      <td>152986</td>\n",
       "      <td>822</td>\n",
       "      <td>Ярославль</td>\n",
       "      <td>1</td>\n",
       "      <td>58</td>\n",
       "      <td>5</td>\n",
       "      <td>1434857.91</td>\n",
       "      <td>2</td>\n",
       "      <td>0</td>\n",
       "      <td>1</td>\n",
       "      <td>83442.41</td>\n",
       "      <td>1</td>\n",
       "    </tr>\n",
       "    <tr>\n",
       "      <th>9998</th>\n",
       "      <td>148700</td>\n",
       "      <td>777</td>\n",
       "      <td>Ярославль</td>\n",
       "      <td>0</td>\n",
       "      <td>68</td>\n",
       "      <td>3</td>\n",
       "      <td>865457.97</td>\n",
       "      <td>3</td>\n",
       "      <td>0</td>\n",
       "      <td>1</td>\n",
       "      <td>86874.90</td>\n",
       "      <td>0</td>\n",
       "    </tr>\n",
       "    <tr>\n",
       "      <th>9999</th>\n",
       "      <td>96267</td>\n",
       "      <td>828</td>\n",
       "      <td>Рыбинск</td>\n",
       "      <td>0</td>\n",
       "      <td>58</td>\n",
       "      <td>3</td>\n",
       "      <td>1180886.70</td>\n",
       "      <td>4</td>\n",
       "      <td>0</td>\n",
       "      <td>1</td>\n",
       "      <td>21422.37</td>\n",
       "      <td>0</td>\n",
       "    </tr>\n",
       "  </tbody>\n",
       "</table>\n",
       "<p>1163 rows × 12 columns</p>\n",
       "</div>"
      ],
      "text/plain": [
       "      user_id  score       city  gender  age  equity     balance  products  \\\n",
       "3      225363    866  Ярославль       0   51       5  1524746.26         2   \n",
       "6      177259    807  Ярославль       0   39       3   405042.44         3   \n",
       "13     166357    837    Рыбинск       0   28       4   302249.22         2   \n",
       "26     174396    898  Ярославль       0   62       3   364049.27         3   \n",
       "61     136096    896  Ярославль       0   39       5   657597.09         2   \n",
       "...       ...    ...        ...     ...  ...     ...         ...       ...   \n",
       "9980   117291    779     Ростов       0   44       4   380025.17         2   \n",
       "9981   154871    892    Рыбинск       1   39       5   636287.72         2   \n",
       "9986   152986    822  Ярославль       1   58       5  1434857.91         2   \n",
       "9998   148700    777  Ярославль       0   68       3   865457.97         3   \n",
       "9999    96267    828    Рыбинск       0   58       3  1180886.70         4   \n",
       "\n",
       "      credit_card  last_activity  est_salary  churn  \n",
       "3               0              1   174423.53      1  \n",
       "6               0              1   103838.32      0  \n",
       "13              0              1    30950.94      0  \n",
       "26              0              1    50661.84      0  \n",
       "61              0              1   266033.98      1  \n",
       "...           ...            ...         ...    ...  \n",
       "9980            0              1   155887.84      0  \n",
       "9981            0              1   227288.27      1  \n",
       "9986            0              1    83442.41      1  \n",
       "9998            0              1    86874.90      0  \n",
       "9999            0              1    21422.37      0  \n",
       "\n",
       "[1163 rows x 12 columns]"
      ]
     },
     "execution_count": 56,
     "metadata": {},
     "output_type": "execute_result"
    }
   ],
   "source": [
    "portrait_10 = data[\n",
    "  (\n",
    "    (data['equity'] >= 3) & (data['products'] > 1) &\n",
    "    (data['credit_card'] == 0) & (data['last_activity'] == 1)\n",
    "  )         \n",
    "]\n",
    "portrait_10"
   ]
  },
  {
   "cell_type": "code",
   "execution_count": 57,
   "metadata": {},
   "outputs": [
    {
     "name": "stdout",
     "output_type": "stream",
     "text": [
      "Количество клиентов в группе: 1163\n",
      "Количество ушедших клиентов: 535\n",
      "Процент оттока клиентов: 46.0\n"
     ]
    }
   ],
   "source": [
    "print('Количество клиентов в группе:', portrait_10['churn'].count())\n",
    "print('Количество ушедших клиентов:', portrait_10['churn'].sum())\n",
    "print('Процент оттока клиентов:', portrait_10['churn'].mean().round(2) * 100)"
   ]
  },
  {
   "cell_type": "markdown",
   "metadata": {},
   "source": [
    "**Портрет №10:**\n",
    "\n",
    "- Баллы кредитного скоринга - любые,\n",
    "- город - любой,\n",
    "- пол - любой,\n",
    "- возраст - любой,\n",
    "- количество баллов собственности - больше 3,\n",
    "- количество продуктов, которыми пользуется клиент - больше 1,\n",
    "- есть ли кредитная карта - нет,\n",
    "- активный клиент - да,\n",
    "- оценочный доход клиента - любой.\n",
    "\n",
    "*Количество клиентов в группе:* **1163**\n",
    "*Количество ушедших клиентов:* **535**\n",
    "*Процент оттока клиентов:* **46%**"
   ]
  },
  {
   "cell_type": "markdown",
   "metadata": {},
   "source": [
    "<div class=\"alert alert-success\">\n",
    "<b>👍 Успех:</b> Все верно!\n",
    "</div>"
   ]
  },
  {
   "cell_type": "markdown",
   "metadata": {},
   "source": [
    "***Составленные 10 групп клиентов находятся в зоне риска оттока, так как процент оттока в каждой группе выше общего процента оттока по банку.***"
   ]
  },
  {
   "cell_type": "markdown",
   "metadata": {},
   "source": [
    "#### Выделение трех групп клиентов из выделенных сегментов, которые чаще всего уходят"
   ]
  },
  {
   "cell_type": "markdown",
   "metadata": {},
   "source": [
    "*На данном этапе выделим три группы с самым большим процентом оттока из собранных.*"
   ]
  },
  {
   "cell_type": "markdown",
   "metadata": {},
   "source": [
    "*Самый большой отток клиентов в группе `Портрет №4` - 64,3%*\n",
    "\n",
    "**Портрет №4:**\n",
    "\n",
    "- Баллы кредитного скоринга от 820 до 940,\n",
    "- город - любой,\n",
    "- пол - мужской,\n",
    "- возраст от 20 до 23 или 25 до 34 лет,\n",
    "- количество баллов собственности - любое,\n",
    "- количество продуктов, которыми пользуется клиент - больше 1,\n",
    "- есть ли кредитная карта - не важно,\n",
    "- активный клиент - да,\n",
    "- оценочный доход клиента - любой."
   ]
  },
  {
   "cell_type": "markdown",
   "metadata": {},
   "source": [
    "*Следующая группа `Портрет №9` с процентом оттока клиентов - 61%*\n",
    "\n",
    "**Портрет №9:**\n",
    "\n",
    "- Баллы кредитного скоринга от 820 до 940,\n",
    "- город - любой,\n",
    "- пол - любой,\n",
    "- возраст от 25 до 34 или 49 до 60 лет,\n",
    "- количество баллов собственности больше 3,\n",
    "- количество продуктов, которыми пользуется клиент больше 1,\n",
    "- есть ли кредитная карта - нет,\n",
    "- активный клиент - да,\n",
    "- оценочный доход клиента - любой."
   ]
  },
  {
   "cell_type": "markdown",
   "metadata": {},
   "source": [
    "*Группа `Портрет №1` тоже имеет высокий процент оттока клиентов - 58,8%*\n",
    "\n",
    "**Портрет №1:**\n",
    "\n",
    "- Баллы кредитного скоринга от 820 до 940,\n",
    "- город - любой,\n",
    "- пол - любой,\n",
    "- возраст от 20 до 23 или 25 до 34 лет,\n",
    "- количество баллов собственности - любое,\n",
    "- количество продуктов, которыми пользуется клиент - любое,\n",
    "- есть ли кредитная карта - нет,\n",
    "- активный клиент - да,\n",
    "- оценочный доход клиента - любой."
   ]
  },
  {
   "cell_type": "markdown",
   "metadata": {},
   "source": [
    "***На данном шаге мы увидели с помощью гистограмм какой процент оттока клиентов по отношению к оставшимся. Выделили сегменты клиентов, которые склонны к уходу из банка, сформировали 10 портретов клиентов, на которых стоит обратить внимание! Из этих 10 групп выделили 3 группы: `Портрет №1`, `Портрет №4`, `Портрет №9` которые больше всего в группе риска ухода из банка.***"
   ]
  },
  {
   "cell_type": "markdown",
   "metadata": {},
   "source": [
    "<div class=\"alert alert-danger\">\n",
    "<s><b>😔 Необходимо исправить:</b> Процент оттока я не увидела ни в одном сегменты. Нужно для каждого сегмента его рассчитать</s>\n",
    "</div>"
   ]
  },
  {
   "cell_type": "markdown",
   "metadata": {},
   "source": [
    "<div class=\"alert alert-info\"> <b>🎓 Комментарий студента:</b> Немного изменил 4.2 и 4.3, добавил данные по количеству и проценту оттока. Изменил вывод и поменял слайды в презентации.</div>"
   ]
  },
  {
   "cell_type": "markdown",
   "metadata": {},
   "source": [
    "<div class=\"alert alert-success\">\n",
    "<b>👍 Успех:</b> Отлично получилось, молодец!\n",
    "</div>"
   ]
  },
  {
   "cell_type": "markdown",
   "metadata": {},
   "source": [
    "### Проверка гипотез"
   ]
  },
  {
   "cell_type": "markdown",
   "metadata": {},
   "source": [
    "#### Формулирование и проверка гипотезы №1"
   ]
  },
  {
   "cell_type": "markdown",
   "metadata": {},
   "source": [
    "***Проверить гипотезу есть ли различия дохода между теми клиентами, которые ушли и теми, которые остались***"
   ]
  },
  {
   "cell_type": "markdown",
   "metadata": {},
   "source": [
    "*Нулевая гипотеза: Средние доходы оставшихся и ушедших клиентов равны. Альтернативная гипотеза: Средние доходы оставшихся и ушедших клиентов разные. Уровень статистической значимости выберем 0,05.*"
   ]
  },
  {
   "cell_type": "code",
   "execution_count": 58,
   "metadata": {},
   "outputs": [
    {
     "name": "stdout",
     "output_type": "stream",
     "text": [
      "0.8354803526840116\n",
      "Не получилось отвергнуть нулевую гипотезу\n"
     ]
    }
   ],
   "source": [
    "# для проверки гипотезы проведем t-test:\n",
    "\n",
    "# results = вызов метода для проверки гипотезы\n",
    "\n",
    "results = st.ttest_ind (\n",
    "    data[data['churn']==0]['est_salary'],\n",
    "    data[data['churn']==1]['est_salary'], equal_var = False)\n",
    "\n",
    "alpha = 0.05\n",
    "\n",
    "# вывод значения p-value на экран \n",
    "print (results.pvalue) \n",
    "\n",
    "# условный оператор с выводом строки с ответом\n",
    "if results.pvalue < alpha:\n",
    "    print ('Отвергаем нулевую гипотезу')\n",
    "else:\n",
    "    print ('Не получилось отвергнуть нулевую гипотезу')"
   ]
  },
  {
   "cell_type": "markdown",
   "metadata": {},
   "source": [
    "***Полученное значение p-value больше заданного уровня значимости, поэтому нулевую гипотезу мы не отвергаем. Средние доходы оставшихся и ушедших клиентов равны.***"
   ]
  },
  {
   "cell_type": "markdown",
   "metadata": {},
   "source": [
    "#### Формулирование и проверка гипотезы №2"
   ]
  },
  {
   "cell_type": "markdown",
   "metadata": {},
   "source": [
    "***Проверить гипотезу есть ли различия в среднем возрасте между теми клиентами, которые ушли и теми, которые остались***"
   ]
  },
  {
   "cell_type": "markdown",
   "metadata": {},
   "source": [
    "*Нулевая гипотеза: Средний возвраст оставшихся и ушедших клиентов равен. Альтернативная гипотеза: Средний возвраст оставшихся и ушедших клиентов разный. Уровень статистической значимости выберем 0,05.*"
   ]
  },
  {
   "cell_type": "code",
   "execution_count": 59,
   "metadata": {},
   "outputs": [
    {
     "name": "stdout",
     "output_type": "stream",
     "text": [
      "7.536127357312234e-08\n",
      "Отвергаем нулевую гипотезу\n"
     ]
    }
   ],
   "source": [
    "# для проверки гипотезы проведем t-test:\n",
    "\n",
    "# results = вызов метода для проверки гипотезы\n",
    "\n",
    "results = st.ttest_ind (\n",
    "    data[data['churn']==0]['age'],\n",
    "    data[data['churn']==1]['age'], equal_var = False)\n",
    "\n",
    "alpha = 0.05\n",
    "\n",
    "# вывод значения p-value на экран \n",
    "print (results.pvalue) \n",
    "\n",
    "# условный оператор с выводом строки с ответом\n",
    "if results.pvalue < alpha:\n",
    "    print ('Отвергаем нулевую гипотезу')\n",
    "else:\n",
    "    print ('Не получилось отвергнуть нулевую гипотезу')"
   ]
  },
  {
   "cell_type": "markdown",
   "metadata": {},
   "source": [
    "***Полученное значение p-value меньше заданного уровня значимости, поэтому нулевую гипотезу отвергаем. Средний возвраст оставшихся и ушедших клиентов разный.***"
   ]
  },
  {
   "cell_type": "markdown",
   "metadata": {},
   "source": [
    "#### Формулирование и проверка гипотезы №3"
   ]
  },
  {
   "cell_type": "markdown",
   "metadata": {},
   "source": [
    "***Проверить гипотезу среднее количество банковских продуктов разное у оставшихся и ушедших клиентов.***"
   ]
  },
  {
   "cell_type": "markdown",
   "metadata": {},
   "source": [
    "*Нулевая гипотеза: Среднее количество используемых банковских продуктов оставшихся и ушедших клиентов равны. Альтернативная гипотеза: Среднее количество используемых банковских продуктов оставшихся и ушедших клиентов  разное. Уровень статистической значимости выберем 0,05.*"
   ]
  },
  {
   "cell_type": "code",
   "execution_count": 60,
   "metadata": {},
   "outputs": [
    {
     "name": "stdout",
     "output_type": "stream",
     "text": [
      "1.2671065900765871e-138\n",
      "Отвергаем нулевую гипотезу\n"
     ]
    }
   ],
   "source": [
    "# для проверки гипотезы проведем t-test:\n",
    "\n",
    "# results = вызов метода для проверки гипотезы\n",
    "\n",
    "results = st.ttest_ind (\n",
    "    data[data['churn']==0]['products'],\n",
    "    data[data['churn']==1]['products'], equal_var = False)\n",
    "\n",
    "alpha = 0.05\n",
    "\n",
    "# вывод значения p-value на экран \n",
    "print (results.pvalue) \n",
    "\n",
    "# условный оператор с выводом строки с ответом\n",
    "if results.pvalue < alpha:\n",
    "    print ('Отвергаем нулевую гипотезу')\n",
    "else:\n",
    "    print ('Не получилось отвергнуть нулевую гипотезу')"
   ]
  },
  {
   "cell_type": "markdown",
   "metadata": {},
   "source": [
    "***Полученное значение p-value меньше заданного уровня значимости, поэтому нулевую гипотезу отвергаем. Среднее количество используемых банковских продуктов оставшихся и ушедших клиентов разное.***"
   ]
  },
  {
   "cell_type": "markdown",
   "metadata": {},
   "source": [
    "***На данном шаге было сформулировано три гипотезы две из которых были отвергнуты, а одну мы не смогли отвергнуть.***\n",
    "\n",
    "- *Средние доходы оставшихся и ушедших клиентов равны*\n",
    "- *Средний возвраст оставшихся и ушедших клиентов разный*\n",
    "- *Среднее количество используемых банковских продуктов оставшихся и ушедших клиентов разное*"
   ]
  },
  {
   "cell_type": "markdown",
   "metadata": {},
   "source": [
    "<div class=\"alert alert-success\">\n",
    "<b>👍 Успех:</b> Гипотезы сформулированы и проверены!\n",
    "</div>"
   ]
  },
  {
   "cell_type": "markdown",
   "metadata": {},
   "source": [
    "### Общий вывод и рекомендации"
   ]
  },
  {
   "cell_type": "markdown",
   "metadata": {},
   "source": [
    "***Анализ показал, что из почти 10000 клиентов общий отток у банка 18,2%. По городам он распределен следующим образом: Ярославль - 19%, Ростов - 18.7% и Рыбинск - 16.3%. Сформирован средний портрет клиента: Клиент мужчина или женщина от 39 до 43 лет со средней активностью, средний доход от 100 до 160 тыс руб., с открытой кредитной картой, пользуется в среднем двумя продуктами банкаи имеет около 850 баллов кредитного скоринга. Так же анализ показал, что нет зависимости между наличием кредитной карты, полом и активностью клиентов, которые ушли или остались.***\n",
    "\n",
    "***При планировании дальнейшей работы с клиентами отделу маркетинга можно опираться на сформированные 10 портретов клиентов, которые больше всего подвержены оттоку, а так же для начала проработать всех клиентов попадающих под данные описания:*** \n",
    "\n",
    "**`Портрет №4`:**\n",
    "\n",
    "- Баллы кредитного скоринга от 820 до 940,\n",
    "- город - любой,\n",
    "- пол - мужской,\n",
    "- возраст от 20 до 23 или 25 до 34 лет,\n",
    "- количество баллов собственности - любое,\n",
    "- количество продуктов, которыми пользуется клиент - больше 1,\n",
    "- есть ли кредитная карта - не важно,\n",
    "- активный клиент - да,\n",
    "- оценочный доход клиента - любой.\n",
    "\n",
    "*Количество клиентов в группе:* **515**\n",
    "*Количество ушедших клиентов:* **331**\n",
    "*Процент оттока клиентов:* **64.3%**\n",
    "\n",
    "**`Портрет №9`:**\n",
    "\n",
    "- Баллы кредитного скоринга от 820 до 940,\n",
    "- город - любой,\n",
    "- пол - любой,\n",
    "- возраст от 25 до 34 или 49 до 60 лет,\n",
    "- количество баллов собственности больше 3,\n",
    "- количество продуктов, которыми пользуется клиент больше 1,\n",
    "- есть ли кредитная карта - нет,\n",
    "- активный клиент - да,\n",
    "- оценочный доход клиента - любой.\n",
    "\n",
    "*Количество клиентов в группе:* **846**\n",
    "*Количество ушедших клиентов:* **516**\n",
    "*Процент оттока клиентов:* **61%**\n",
    "\n",
    "**`Портрет №1`:**\n",
    "\n",
    "- Баллы кредитного скоринга от 820 до 940,\n",
    "- город - любой,\n",
    "- пол - любой,\n",
    "- возраст от 20 до 23 или 25 до 34 лет,\n",
    "- количество баллов собственности - любое,\n",
    "- количество продуктов, которыми пользуется клиент - любое,\n",
    "- есть ли кредитная карта - нет,\n",
    "- активный клиент - да,\n",
    "- оценочный доход клиента - любой.\n",
    "\n",
    "*Количество клиентов в группе:* **604**\n",
    "*Количество ушедших клиентов:* **355**\n",
    "*Процент оттока клиентов:* **58,8%**\n",
    "\n",
    "\n",
    "***Данным клиентам можно предложить:***\n",
    "\n",
    "- оформить кредитную карту;\n",
    "- дополнительные продукты банка со скидкой;\n",
    "- льготные условия для перевода заработной платы в наш банк;\n",
    "- специальные условия на оформление страхования собственности;\n",
    "- повышенный кэшбек для определенных групп товаров\n",
    "\n",
    "**ПРОИНФОРМИРОВАТЬ ВСЕХ КЛИЕНТОВ О НОВЫХ ПРОДУКТАХ БАНКА УДОБНЫМИ ДЛЯ НИХ СПОСОБАМИ.**\n"
   ]
  },
  {
   "cell_type": "markdown",
   "metadata": {},
   "source": [
    "### Презентация"
   ]
  },
  {
   "cell_type": "markdown",
   "metadata": {},
   "source": [
    "https://disk.yandex.ru/i/aj30t_Kb4v_4RA"
   ]
  },
  {
   "cell_type": "markdown",
   "metadata": {},
   "source": [
    "<div class=\"alert alert-success\">\n",
    "<b>👍 Успех:</b> Хорошая работа, молодец! Все данные исследованы, много визуализации, сделаны выводы по всем разделам, достаточное количество рассуждений и комментариев, в презентации соблюден баланс текстовой и графической информации\n",
    "</div>"
   ]
  },
  {
   "cell_type": "code",
   "execution_count": null,
   "metadata": {},
   "outputs": [],
   "source": []
  }
 ],
 "metadata": {
  "ExecuteTimeLog": [
   {
    "duration": 1455,
    "start_time": "2024-08-25T03:06:13.470Z"
   },
   {
    "duration": 4,
    "start_time": "2024-08-25T03:06:26.340Z"
   },
   {
    "duration": 99,
    "start_time": "2024-08-25T03:06:46.616Z"
   },
   {
    "duration": 38,
    "start_time": "2024-08-25T03:06:56.198Z"
   },
   {
    "duration": 44,
    "start_time": "2024-08-25T03:07:08.907Z"
   },
   {
    "duration": 5,
    "start_time": "2024-08-25T03:07:58.915Z"
   },
   {
    "duration": 5,
    "start_time": "2024-08-25T03:08:28.266Z"
   },
   {
    "duration": 9,
    "start_time": "2024-08-25T03:08:36.137Z"
   },
   {
    "duration": 5,
    "start_time": "2024-08-25T03:09:08.171Z"
   },
   {
    "duration": 13,
    "start_time": "2024-08-25T03:09:15.388Z"
   },
   {
    "duration": 3,
    "start_time": "2024-08-25T03:09:25.503Z"
   },
   {
    "duration": 8,
    "start_time": "2024-08-25T03:09:32.339Z"
   },
   {
    "duration": 12,
    "start_time": "2024-08-25T03:10:00.541Z"
   },
   {
    "duration": 5,
    "start_time": "2024-08-25T03:10:12.706Z"
   },
   {
    "duration": 22,
    "start_time": "2024-08-25T03:10:19.595Z"
   },
   {
    "duration": 5,
    "start_time": "2024-08-25T03:10:33.727Z"
   },
   {
    "duration": 140,
    "start_time": "2024-08-25T03:11:08.827Z"
   },
   {
    "duration": 122,
    "start_time": "2024-08-25T03:11:39.762Z"
   },
   {
    "duration": 7,
    "start_time": "2024-08-25T03:12:08.211Z"
   },
   {
    "duration": 7,
    "start_time": "2024-08-25T03:12:50.777Z"
   },
   {
    "duration": 14,
    "start_time": "2024-08-25T03:12:58.002Z"
   },
   {
    "duration": 8,
    "start_time": "2024-08-25T03:13:25.676Z"
   },
   {
    "duration": 11,
    "start_time": "2024-08-25T03:13:40.128Z"
   },
   {
    "duration": 9,
    "start_time": "2024-08-25T03:25:24.164Z"
   },
   {
    "duration": 7,
    "start_time": "2024-08-25T03:38:57.061Z"
   },
   {
    "duration": 36,
    "start_time": "2024-08-25T04:05:05.009Z"
   },
   {
    "duration": 6,
    "start_time": "2024-08-25T04:05:23.702Z"
   },
   {
    "duration": 6,
    "start_time": "2024-08-25T04:05:55.858Z"
   },
   {
    "duration": 6,
    "start_time": "2024-08-25T04:06:03.533Z"
   },
   {
    "duration": 10,
    "start_time": "2024-08-25T04:06:38.693Z"
   },
   {
    "duration": 113,
    "start_time": "2024-08-25T04:07:11.780Z"
   },
   {
    "duration": 13,
    "start_time": "2024-08-25T04:07:26.110Z"
   },
   {
    "duration": 12,
    "start_time": "2024-08-25T04:07:31.920Z"
   },
   {
    "duration": 13,
    "start_time": "2024-08-25T04:07:59.674Z"
   },
   {
    "duration": 9,
    "start_time": "2024-08-25T04:08:21.344Z"
   },
   {
    "duration": 9,
    "start_time": "2024-08-25T04:08:29.307Z"
   },
   {
    "duration": 9,
    "start_time": "2024-08-25T04:08:48.153Z"
   },
   {
    "duration": 9,
    "start_time": "2024-08-25T04:11:28.792Z"
   },
   {
    "duration": 6,
    "start_time": "2024-08-25T04:11:56.478Z"
   },
   {
    "duration": 6,
    "start_time": "2024-08-25T04:12:02.861Z"
   },
   {
    "duration": 8,
    "start_time": "2024-08-25T04:12:15.001Z"
   },
   {
    "duration": 7,
    "start_time": "2024-08-25T04:13:00.197Z"
   },
   {
    "duration": 7,
    "start_time": "2024-08-25T04:13:05.783Z"
   },
   {
    "duration": 7,
    "start_time": "2024-08-25T04:13:09.302Z"
   },
   {
    "duration": 7,
    "start_time": "2024-08-25T04:13:13.920Z"
   },
   {
    "duration": 8,
    "start_time": "2024-08-25T04:16:33.561Z"
   },
   {
    "duration": 7,
    "start_time": "2024-08-25T04:16:46.676Z"
   },
   {
    "duration": 7,
    "start_time": "2024-08-25T04:17:04.567Z"
   },
   {
    "duration": 4,
    "start_time": "2024-08-25T04:18:01.661Z"
   },
   {
    "duration": 4,
    "start_time": "2024-08-25T04:18:12.315Z"
   },
   {
    "duration": 11,
    "start_time": "2024-08-25T04:18:55.412Z"
   },
   {
    "duration": 29,
    "start_time": "2024-08-25T04:19:36.381Z"
   },
   {
    "duration": 27,
    "start_time": "2024-08-25T04:19:54.628Z"
   },
   {
    "duration": 7,
    "start_time": "2024-08-25T04:20:10.877Z"
   },
   {
    "duration": 7,
    "start_time": "2024-08-25T04:20:34.537Z"
   },
   {
    "duration": 7,
    "start_time": "2024-08-25T04:21:10.433Z"
   },
   {
    "duration": 7,
    "start_time": "2024-08-25T04:21:57.935Z"
   },
   {
    "duration": 10,
    "start_time": "2024-08-25T04:22:15.087Z"
   },
   {
    "duration": 19,
    "start_time": "2024-08-25T04:22:25.486Z"
   },
   {
    "duration": 7,
    "start_time": "2024-08-25T04:22:55.389Z"
   },
   {
    "duration": 7,
    "start_time": "2024-08-25T04:23:04.942Z"
   },
   {
    "duration": 8,
    "start_time": "2024-08-25T04:24:00.609Z"
   },
   {
    "duration": 7,
    "start_time": "2024-08-25T04:24:13.470Z"
   },
   {
    "duration": 4,
    "start_time": "2024-08-25T04:24:32.743Z"
   },
   {
    "duration": 4,
    "start_time": "2024-08-25T04:24:51.175Z"
   },
   {
    "duration": 8,
    "start_time": "2024-08-25T04:25:18.748Z"
   },
   {
    "duration": 7,
    "start_time": "2024-08-25T04:25:25.224Z"
   },
   {
    "duration": 7,
    "start_time": "2024-08-25T04:25:33.737Z"
   },
   {
    "duration": 5,
    "start_time": "2024-08-25T04:25:51.907Z"
   },
   {
    "duration": 4,
    "start_time": "2024-08-25T04:25:55.919Z"
   },
   {
    "duration": 7,
    "start_time": "2024-08-25T04:26:05.223Z"
   },
   {
    "duration": 7,
    "start_time": "2024-08-25T04:26:09.950Z"
   },
   {
    "duration": 8,
    "start_time": "2024-08-25T04:26:13.983Z"
   },
   {
    "duration": 65,
    "start_time": "2024-08-25T04:28:06.474Z"
   },
   {
    "duration": 153,
    "start_time": "2024-08-25T04:28:16.935Z"
   },
   {
    "duration": 153,
    "start_time": "2024-08-25T04:29:57.847Z"
   },
   {
    "duration": 154,
    "start_time": "2024-08-25T04:31:17.274Z"
   },
   {
    "duration": 4,
    "start_time": "2024-08-25T04:34:04.502Z"
   },
   {
    "duration": 58,
    "start_time": "2024-08-25T04:35:25.906Z"
   },
   {
    "duration": 7,
    "start_time": "2024-08-25T04:35:34.593Z"
   },
   {
    "duration": 7,
    "start_time": "2024-08-25T04:35:36.758Z"
   },
   {
    "duration": 7,
    "start_time": "2024-08-25T04:35:44.494Z"
   },
   {
    "duration": 61167,
    "start_time": "2024-08-25T04:38:07.899Z"
   },
   {
    "duration": 79,
    "start_time": "2024-08-25T04:40:58.424Z"
   },
   {
    "duration": 17,
    "start_time": "2024-08-25T04:41:14.071Z"
   },
   {
    "duration": 11,
    "start_time": "2024-08-25T04:41:44.591Z"
   },
   {
    "duration": 60442,
    "start_time": "2024-08-25T04:41:59.106Z"
   },
   {
    "duration": 16,
    "start_time": "2024-08-25T04:45:39.262Z"
   },
   {
    "duration": 155,
    "start_time": "2024-08-25T04:45:53.742Z"
   },
   {
    "duration": 155,
    "start_time": "2024-08-25T04:48:06.655Z"
   },
   {
    "duration": 152,
    "start_time": "2024-08-25T04:49:03.065Z"
   },
   {
    "duration": 129,
    "start_time": "2024-08-25T04:49:13.263Z"
   },
   {
    "duration": 154,
    "start_time": "2024-08-25T04:49:21.458Z"
   },
   {
    "duration": 153,
    "start_time": "2024-08-25T04:49:29.677Z"
   },
   {
    "duration": 146,
    "start_time": "2024-08-25T04:49:48.839Z"
   },
   {
    "duration": 166,
    "start_time": "2024-08-25T04:50:52.777Z"
   },
   {
    "duration": 14,
    "start_time": "2024-08-25T04:57:29.035Z"
   },
   {
    "duration": 41,
    "start_time": "2024-08-25T06:07:15.989Z"
   },
   {
    "duration": 46,
    "start_time": "2024-08-25T06:07:26.389Z"
   },
   {
    "duration": 44,
    "start_time": "2024-08-25T06:07:44.626Z"
   },
   {
    "duration": 45,
    "start_time": "2024-08-25T06:07:49.894Z"
   },
   {
    "duration": 48,
    "start_time": "2024-08-25T06:08:49.682Z"
   },
   {
    "duration": 160,
    "start_time": "2024-08-25T06:11:47.478Z"
   },
   {
    "duration": 52,
    "start_time": "2024-08-25T06:29:01.565Z"
   },
   {
    "duration": 45,
    "start_time": "2024-08-25T06:29:03.348Z"
   },
   {
    "duration": 58,
    "start_time": "2024-08-25T06:47:10.272Z"
   },
   {
    "duration": 59,
    "start_time": "2024-08-25T06:47:46.585Z"
   },
   {
    "duration": 12,
    "start_time": "2024-08-25T06:47:57.996Z"
   },
   {
    "duration": 48,
    "start_time": "2024-08-25T06:48:27.992Z"
   },
   {
    "duration": 5,
    "start_time": "2024-08-25T06:49:11.136Z"
   },
   {
    "duration": 4,
    "start_time": "2024-08-25T06:49:12.526Z"
   },
   {
    "duration": 5,
    "start_time": "2024-08-25T06:49:39.043Z"
   },
   {
    "duration": 6,
    "start_time": "2024-08-25T06:55:08.544Z"
   },
   {
    "duration": 10,
    "start_time": "2024-08-25T06:58:29.384Z"
   },
   {
    "duration": 11,
    "start_time": "2024-08-25T06:59:47.842Z"
   },
   {
    "duration": 12,
    "start_time": "2024-08-25T07:01:36.155Z"
   },
   {
    "duration": 11,
    "start_time": "2024-08-25T07:18:28.631Z"
   },
   {
    "duration": 9,
    "start_time": "2024-08-25T07:18:44.683Z"
   },
   {
    "duration": 107,
    "start_time": "2024-08-25T07:23:53.648Z"
   },
   {
    "duration": 181,
    "start_time": "2024-08-25T07:28:39.379Z"
   },
   {
    "duration": 169,
    "start_time": "2024-08-25T07:29:34.820Z"
   },
   {
    "duration": 174,
    "start_time": "2024-08-25T07:30:30.810Z"
   },
   {
    "duration": 6,
    "start_time": "2024-08-25T07:34:10.154Z"
   },
   {
    "duration": 2373,
    "start_time": "2024-08-25T07:34:35.250Z"
   },
   {
    "duration": 6,
    "start_time": "2024-08-25T07:35:22.874Z"
   },
   {
    "duration": 9674,
    "start_time": "2024-08-25T07:35:24.451Z"
   },
   {
    "duration": 6,
    "start_time": "2024-08-25T07:35:50.138Z"
   },
   {
    "duration": 10668,
    "start_time": "2024-08-25T07:36:09.762Z"
   },
   {
    "duration": 6,
    "start_time": "2024-08-25T07:36:40.884Z"
   },
   {
    "duration": 11638,
    "start_time": "2024-08-25T07:36:42.343Z"
   },
   {
    "duration": 181,
    "start_time": "2024-08-25T07:44:37.544Z"
   },
   {
    "duration": 170,
    "start_time": "2024-08-25T07:44:56.157Z"
   },
   {
    "duration": 157,
    "start_time": "2024-08-25T07:46:10.579Z"
   },
   {
    "duration": 178,
    "start_time": "2024-08-25T07:46:25.660Z"
   },
   {
    "duration": 162,
    "start_time": "2024-08-25T07:47:18.532Z"
   },
   {
    "duration": 8,
    "start_time": "2024-08-25T07:47:40.767Z"
   },
   {
    "duration": 218,
    "start_time": "2024-08-25T07:48:29.997Z"
   },
   {
    "duration": 9,
    "start_time": "2024-08-25T07:52:15.225Z"
   },
   {
    "duration": 335,
    "start_time": "2024-08-25T07:52:25.796Z"
   },
   {
    "duration": 58,
    "start_time": "2024-08-25T07:55:40.814Z"
   },
   {
    "duration": 444,
    "start_time": "2024-08-25T07:55:48.515Z"
   },
   {
    "duration": 471,
    "start_time": "2024-08-25T07:56:12.383Z"
   },
   {
    "duration": 366,
    "start_time": "2024-08-25T08:02:53.651Z"
   },
   {
    "duration": 400,
    "start_time": "2024-08-25T08:03:44.899Z"
   },
   {
    "duration": 448,
    "start_time": "2024-08-25T08:05:18.317Z"
   },
   {
    "duration": 421,
    "start_time": "2024-08-25T08:07:28.455Z"
   },
   {
    "duration": 406,
    "start_time": "2024-08-25T08:08:43.059Z"
   },
   {
    "duration": 430,
    "start_time": "2024-08-25T08:11:36.749Z"
   },
   {
    "duration": 335,
    "start_time": "2024-08-25T08:11:47.751Z"
   },
   {
    "duration": 446,
    "start_time": "2024-08-25T08:12:11.739Z"
   },
   {
    "duration": 472,
    "start_time": "2024-08-25T08:12:21.971Z"
   },
   {
    "duration": 439,
    "start_time": "2024-08-25T08:13:32.139Z"
   },
   {
    "duration": 455,
    "start_time": "2024-08-25T08:18:19.351Z"
   },
   {
    "duration": 438,
    "start_time": "2024-08-25T08:18:41.265Z"
   },
   {
    "duration": 455,
    "start_time": "2024-08-25T08:19:01.783Z"
   },
   {
    "duration": 235,
    "start_time": "2024-08-25T08:20:17.988Z"
   },
   {
    "duration": 233,
    "start_time": "2024-08-25T08:20:40.043Z"
   },
   {
    "duration": 231,
    "start_time": "2024-08-25T08:20:54.256Z"
   },
   {
    "duration": 214,
    "start_time": "2024-08-25T08:21:14.064Z"
   },
   {
    "duration": 245,
    "start_time": "2024-08-25T08:21:20.980Z"
   },
   {
    "duration": 433,
    "start_time": "2024-08-25T08:21:42.839Z"
   },
   {
    "duration": 420,
    "start_time": "2024-08-25T08:23:33.030Z"
   },
   {
    "duration": 6108,
    "start_time": "2024-08-25T08:24:47.190Z"
   },
   {
    "duration": 463,
    "start_time": "2024-08-25T08:26:18.751Z"
   },
   {
    "duration": 238,
    "start_time": "2024-08-25T08:27:16.013Z"
   },
   {
    "duration": 232,
    "start_time": "2024-08-25T08:27:43.101Z"
   },
   {
    "duration": 255,
    "start_time": "2024-08-25T08:28:04.861Z"
   },
   {
    "duration": 864,
    "start_time": "2024-08-25T08:29:15.263Z"
   },
   {
    "duration": 879,
    "start_time": "2024-08-25T08:30:05.183Z"
   },
   {
    "duration": 454,
    "start_time": "2024-08-25T08:59:46.436Z"
   },
   {
    "duration": 244,
    "start_time": "2024-08-25T09:02:55.762Z"
   },
   {
    "duration": 438,
    "start_time": "2024-08-25T09:03:18.754Z"
   },
   {
    "duration": 391,
    "start_time": "2024-08-25T09:03:38.578Z"
   },
   {
    "duration": 424,
    "start_time": "2024-08-25T09:04:12.632Z"
   },
   {
    "duration": 464,
    "start_time": "2024-08-25T09:04:17.140Z"
   },
   {
    "duration": 243,
    "start_time": "2024-08-25T09:04:46.237Z"
   },
   {
    "duration": 248,
    "start_time": "2024-08-25T09:05:01.010Z"
   },
   {
    "duration": 853,
    "start_time": "2024-08-25T09:05:43.695Z"
   },
   {
    "duration": 68,
    "start_time": "2024-08-25T09:15:23.614Z"
   },
   {
    "duration": 67,
    "start_time": "2024-08-25T09:16:23.472Z"
   },
   {
    "duration": 475,
    "start_time": "2024-08-25T09:18:16.810Z"
   },
   {
    "duration": 439,
    "start_time": "2024-08-25T09:18:27.770Z"
   },
   {
    "duration": 256,
    "start_time": "2024-08-25T09:19:39.396Z"
   },
   {
    "duration": 492,
    "start_time": "2024-08-25T09:20:01.511Z"
   },
   {
    "duration": 219,
    "start_time": "2024-08-25T09:20:13.402Z"
   },
   {
    "duration": 210,
    "start_time": "2024-08-25T09:20:22.505Z"
   },
   {
    "duration": 249,
    "start_time": "2024-08-25T09:20:32.879Z"
   },
   {
    "duration": 242,
    "start_time": "2024-08-25T09:20:49.191Z"
   },
   {
    "duration": 214,
    "start_time": "2024-08-25T09:20:59.868Z"
   },
   {
    "duration": 236,
    "start_time": "2024-08-25T09:21:20.631Z"
   },
   {
    "duration": 234,
    "start_time": "2024-08-25T09:21:28.648Z"
   },
   {
    "duration": 455,
    "start_time": "2024-08-25T09:21:35.744Z"
   },
   {
    "duration": 425,
    "start_time": "2024-08-25T09:23:38.301Z"
   },
   {
    "duration": 452,
    "start_time": "2024-08-25T09:25:49.649Z"
   },
   {
    "duration": 228,
    "start_time": "2024-08-25T09:27:15.716Z"
   },
   {
    "duration": 233,
    "start_time": "2024-08-25T09:27:21.854Z"
   },
   {
    "duration": 3673,
    "start_time": "2024-08-25T09:27:27.840Z"
   },
   {
    "duration": 929,
    "start_time": "2024-08-25T09:31:08.074Z"
   },
   {
    "duration": 14,
    "start_time": "2024-08-25T09:43:02.466Z"
   },
   {
    "duration": 10,
    "start_time": "2024-08-25T09:43:15.253Z"
   },
   {
    "duration": 13,
    "start_time": "2024-08-25T09:47:28.745Z"
   },
   {
    "duration": 14,
    "start_time": "2024-08-25T09:47:50.776Z"
   },
   {
    "duration": 11,
    "start_time": "2024-08-25T09:48:24.569Z"
   },
   {
    "duration": 23,
    "start_time": "2024-08-25T09:48:38.487Z"
   },
   {
    "duration": 23,
    "start_time": "2024-08-25T09:49:55.982Z"
   },
   {
    "duration": 20,
    "start_time": "2024-08-25T09:51:23.864Z"
   },
   {
    "duration": 22,
    "start_time": "2024-08-25T09:51:49.498Z"
   },
   {
    "duration": 21,
    "start_time": "2024-08-25T09:55:02.452Z"
   },
   {
    "duration": 16,
    "start_time": "2024-08-25T09:57:46.564Z"
   },
   {
    "duration": 12,
    "start_time": "2024-08-25T09:58:06.561Z"
   },
   {
    "duration": 21,
    "start_time": "2024-08-25T09:58:22.409Z"
   },
   {
    "duration": 27,
    "start_time": "2024-08-25T09:59:21.854Z"
   },
   {
    "duration": 5,
    "start_time": "2024-08-25T10:00:51.736Z"
   },
   {
    "duration": 22,
    "start_time": "2024-08-25T10:01:15.773Z"
   },
   {
    "duration": 22,
    "start_time": "2024-08-25T10:05:38.075Z"
   },
   {
    "duration": 22,
    "start_time": "2024-08-25T10:07:13.160Z"
   },
   {
    "duration": 22,
    "start_time": "2024-08-25T10:07:36.463Z"
   },
   {
    "duration": 22,
    "start_time": "2024-08-25T10:08:25.541Z"
   },
   {
    "duration": 23,
    "start_time": "2024-08-25T10:09:01.688Z"
   },
   {
    "duration": 22,
    "start_time": "2024-08-25T10:09:20.144Z"
   },
   {
    "duration": 22,
    "start_time": "2024-08-25T10:10:06.792Z"
   },
   {
    "duration": 16,
    "start_time": "2024-08-25T10:10:35.062Z"
   },
   {
    "duration": 21,
    "start_time": "2024-08-25T10:10:51.506Z"
   },
   {
    "duration": 32,
    "start_time": "2024-08-25T10:15:30.390Z"
   },
   {
    "duration": 23,
    "start_time": "2024-08-25T10:22:33.743Z"
   },
   {
    "duration": 23,
    "start_time": "2024-08-25T10:23:25.902Z"
   },
   {
    "duration": 33,
    "start_time": "2024-08-25T10:33:23.790Z"
   },
   {
    "duration": 22,
    "start_time": "2024-08-25T10:33:35.650Z"
   },
   {
    "duration": 21,
    "start_time": "2024-08-25T10:36:41.373Z"
   },
   {
    "duration": 32,
    "start_time": "2024-08-25T10:37:04.975Z"
   },
   {
    "duration": 25,
    "start_time": "2024-08-25T10:37:43.028Z"
   },
   {
    "duration": 458,
    "start_time": "2024-08-25T10:39:02.847Z"
   },
   {
    "duration": 481,
    "start_time": "2024-08-25T10:39:09.503Z"
   },
   {
    "duration": 24,
    "start_time": "2024-08-25T10:40:21.991Z"
   },
   {
    "duration": 5,
    "start_time": "2024-08-25T10:41:27.110Z"
   },
   {
    "duration": 26,
    "start_time": "2024-08-25T10:41:35.760Z"
   },
   {
    "duration": 23,
    "start_time": "2024-08-25T10:43:50.143Z"
   },
   {
    "duration": 21,
    "start_time": "2024-08-25T10:44:24.007Z"
   },
   {
    "duration": 22,
    "start_time": "2024-08-25T10:45:53.896Z"
   },
   {
    "duration": 22,
    "start_time": "2024-08-25T10:46:02.864Z"
   },
   {
    "duration": 28,
    "start_time": "2024-08-25T10:52:28.467Z"
   },
   {
    "duration": 29,
    "start_time": "2024-08-25T10:56:00.285Z"
   },
   {
    "duration": 24,
    "start_time": "2024-08-25T11:00:30.535Z"
   },
   {
    "duration": 55,
    "start_time": "2024-08-25T11:00:34.156Z"
   },
   {
    "duration": 23,
    "start_time": "2024-08-25T11:01:11.346Z"
   },
   {
    "duration": 22,
    "start_time": "2024-08-25T11:01:53.497Z"
   },
   {
    "duration": 22,
    "start_time": "2024-08-25T11:03:17.207Z"
   },
   {
    "duration": 21,
    "start_time": "2024-08-25T11:03:31.461Z"
   },
   {
    "duration": 21,
    "start_time": "2024-08-25T11:03:51.967Z"
   },
   {
    "duration": 86,
    "start_time": "2024-08-25T11:05:12.490Z"
   },
   {
    "duration": 29,
    "start_time": "2024-08-25T11:06:28.397Z"
   },
   {
    "duration": 23,
    "start_time": "2024-08-25T11:08:58.620Z"
   },
   {
    "duration": 22,
    "start_time": "2024-08-25T11:10:36.548Z"
   },
   {
    "duration": 20,
    "start_time": "2024-08-25T11:11:57.113Z"
   },
   {
    "duration": 30,
    "start_time": "2024-08-25T11:12:35.313Z"
   },
   {
    "duration": 23,
    "start_time": "2024-08-25T11:12:40.281Z"
   },
   {
    "duration": 10,
    "start_time": "2024-08-25T11:12:50.316Z"
   },
   {
    "duration": 31,
    "start_time": "2024-08-25T11:12:54.085Z"
   },
   {
    "duration": 11,
    "start_time": "2024-08-25T11:21:24.998Z"
   },
   {
    "duration": 26,
    "start_time": "2024-08-25T11:30:54.973Z"
   },
   {
    "duration": 24,
    "start_time": "2024-08-25T11:31:18.879Z"
   },
   {
    "duration": 23,
    "start_time": "2024-08-25T11:32:06.067Z"
   },
   {
    "duration": 24,
    "start_time": "2024-08-25T11:32:16.784Z"
   },
   {
    "duration": 8,
    "start_time": "2024-08-25T11:39:11.253Z"
   },
   {
    "duration": 8,
    "start_time": "2024-08-25T11:45:24.633Z"
   },
   {
    "duration": 24,
    "start_time": "2024-08-25T11:50:29.638Z"
   },
   {
    "duration": 22,
    "start_time": "2024-08-25T11:50:47.971Z"
   },
   {
    "duration": 24,
    "start_time": "2024-08-25T11:51:15.840Z"
   },
   {
    "duration": 22,
    "start_time": "2024-08-25T11:53:52.963Z"
   },
   {
    "duration": 27,
    "start_time": "2024-08-25T11:54:37.678Z"
   },
   {
    "duration": 23,
    "start_time": "2024-08-25T11:54:48.187Z"
   },
   {
    "duration": 23,
    "start_time": "2024-08-25T11:56:15.159Z"
   },
   {
    "duration": 23,
    "start_time": "2024-08-25T11:57:40.212Z"
   },
   {
    "duration": 21,
    "start_time": "2024-08-25T11:59:09.986Z"
   },
   {
    "duration": 21,
    "start_time": "2024-08-25T12:36:58.760Z"
   },
   {
    "duration": 27,
    "start_time": "2024-08-25T12:37:09.246Z"
   },
   {
    "duration": 21,
    "start_time": "2024-08-25T12:38:16.792Z"
   },
   {
    "duration": 1265,
    "start_time": "2024-08-25T13:26:47.035Z"
   },
   {
    "duration": 4,
    "start_time": "2024-08-25T13:26:48.302Z"
   },
   {
    "duration": 48,
    "start_time": "2024-08-25T13:26:48.308Z"
   },
   {
    "duration": 48,
    "start_time": "2024-08-25T13:26:48.358Z"
   },
   {
    "duration": 58,
    "start_time": "2024-08-25T13:26:48.410Z"
   },
   {
    "duration": 5,
    "start_time": "2024-08-25T13:26:48.470Z"
   },
   {
    "duration": 23,
    "start_time": "2024-08-25T13:26:48.476Z"
   },
   {
    "duration": 10,
    "start_time": "2024-08-25T13:26:48.501Z"
   },
   {
    "duration": 5,
    "start_time": "2024-08-25T13:26:48.513Z"
   },
   {
    "duration": 25,
    "start_time": "2024-08-25T13:26:48.519Z"
   },
   {
    "duration": 5,
    "start_time": "2024-08-25T13:26:48.546Z"
   },
   {
    "duration": 8,
    "start_time": "2024-08-25T13:26:48.553Z"
   },
   {
    "duration": 37,
    "start_time": "2024-08-25T13:26:48.563Z"
   },
   {
    "duration": 5,
    "start_time": "2024-08-25T13:26:48.604Z"
   },
   {
    "duration": 148,
    "start_time": "2024-08-25T13:26:48.610Z"
   },
   {
    "duration": 132,
    "start_time": "2024-08-25T13:26:48.759Z"
   },
   {
    "duration": 7,
    "start_time": "2024-08-25T13:26:48.893Z"
   },
   {
    "duration": 4,
    "start_time": "2024-08-25T13:26:48.902Z"
   },
   {
    "duration": 13,
    "start_time": "2024-08-25T13:26:48.907Z"
   },
   {
    "duration": 14,
    "start_time": "2024-08-25T13:26:48.922Z"
   },
   {
    "duration": 10,
    "start_time": "2024-08-25T13:26:48.937Z"
   },
   {
    "duration": 20,
    "start_time": "2024-08-25T13:26:48.949Z"
   },
   {
    "duration": 4,
    "start_time": "2024-08-25T13:26:48.970Z"
   },
   {
    "duration": 167,
    "start_time": "2024-08-25T13:26:48.975Z"
   },
   {
    "duration": 20,
    "start_time": "2024-08-25T13:26:49.144Z"
   },
   {
    "duration": 65,
    "start_time": "2024-08-25T13:26:49.167Z"
   },
   {
    "duration": 0,
    "start_time": "2024-08-25T13:26:49.234Z"
   },
   {
    "duration": 0,
    "start_time": "2024-08-25T13:26:49.236Z"
   },
   {
    "duration": 0,
    "start_time": "2024-08-25T13:26:49.238Z"
   },
   {
    "duration": 0,
    "start_time": "2024-08-25T13:26:49.239Z"
   },
   {
    "duration": 0,
    "start_time": "2024-08-25T13:26:49.240Z"
   },
   {
    "duration": 0,
    "start_time": "2024-08-25T13:26:49.244Z"
   },
   {
    "duration": 0,
    "start_time": "2024-08-25T13:26:49.247Z"
   },
   {
    "duration": 0,
    "start_time": "2024-08-25T13:26:49.248Z"
   },
   {
    "duration": 0,
    "start_time": "2024-08-25T13:26:49.249Z"
   },
   {
    "duration": 1,
    "start_time": "2024-08-25T13:26:49.251Z"
   },
   {
    "duration": 0,
    "start_time": "2024-08-25T13:26:49.253Z"
   },
   {
    "duration": 0,
    "start_time": "2024-08-25T13:26:49.254Z"
   },
   {
    "duration": 0,
    "start_time": "2024-08-25T13:26:49.255Z"
   },
   {
    "duration": 0,
    "start_time": "2024-08-25T13:26:49.257Z"
   },
   {
    "duration": 0,
    "start_time": "2024-08-25T13:26:49.259Z"
   },
   {
    "duration": 0,
    "start_time": "2024-08-25T13:26:49.260Z"
   },
   {
    "duration": 0,
    "start_time": "2024-08-25T13:26:49.261Z"
   },
   {
    "duration": 0,
    "start_time": "2024-08-25T13:26:49.262Z"
   },
   {
    "duration": 0,
    "start_time": "2024-08-25T13:26:49.264Z"
   },
   {
    "duration": 0,
    "start_time": "2024-08-25T13:26:49.265Z"
   },
   {
    "duration": 0,
    "start_time": "2024-08-25T13:26:49.266Z"
   },
   {
    "duration": 0,
    "start_time": "2024-08-25T13:26:49.267Z"
   },
   {
    "duration": 0,
    "start_time": "2024-08-25T13:26:49.268Z"
   },
   {
    "duration": 0,
    "start_time": "2024-08-25T13:26:49.269Z"
   },
   {
    "duration": 0,
    "start_time": "2024-08-25T13:26:49.270Z"
   },
   {
    "duration": 161,
    "start_time": "2024-08-25T13:27:29.803Z"
   },
   {
    "duration": 50,
    "start_time": "2024-08-25T13:27:42.494Z"
   },
   {
    "duration": 76,
    "start_time": "2024-08-25T13:27:42.547Z"
   },
   {
    "duration": 75,
    "start_time": "2024-08-25T13:27:42.625Z"
   },
   {
    "duration": 10,
    "start_time": "2024-08-25T13:27:42.702Z"
   },
   {
    "duration": 618,
    "start_time": "2024-08-25T13:27:42.714Z"
   },
   {
    "duration": 0,
    "start_time": "2024-08-25T13:27:43.334Z"
   },
   {
    "duration": 0,
    "start_time": "2024-08-25T13:27:43.335Z"
   },
   {
    "duration": 0,
    "start_time": "2024-08-25T13:27:43.337Z"
   },
   {
    "duration": 0,
    "start_time": "2024-08-25T13:27:43.338Z"
   },
   {
    "duration": 0,
    "start_time": "2024-08-25T13:27:43.339Z"
   },
   {
    "duration": 0,
    "start_time": "2024-08-25T13:27:43.340Z"
   },
   {
    "duration": 0,
    "start_time": "2024-08-25T13:27:43.341Z"
   },
   {
    "duration": 0,
    "start_time": "2024-08-25T13:27:43.342Z"
   },
   {
    "duration": 0,
    "start_time": "2024-08-25T13:27:43.343Z"
   },
   {
    "duration": 0,
    "start_time": "2024-08-25T13:27:43.344Z"
   },
   {
    "duration": 0,
    "start_time": "2024-08-25T13:27:43.345Z"
   },
   {
    "duration": 0,
    "start_time": "2024-08-25T13:27:43.346Z"
   },
   {
    "duration": 0,
    "start_time": "2024-08-25T13:27:43.347Z"
   },
   {
    "duration": 0,
    "start_time": "2024-08-25T13:27:43.348Z"
   },
   {
    "duration": 0,
    "start_time": "2024-08-25T13:27:43.349Z"
   },
   {
    "duration": 0,
    "start_time": "2024-08-25T13:27:43.350Z"
   },
   {
    "duration": 0,
    "start_time": "2024-08-25T13:27:43.351Z"
   },
   {
    "duration": 0,
    "start_time": "2024-08-25T13:27:43.352Z"
   },
   {
    "duration": 0,
    "start_time": "2024-08-25T13:27:43.353Z"
   },
   {
    "duration": 0,
    "start_time": "2024-08-25T13:27:43.354Z"
   },
   {
    "duration": 231,
    "start_time": "2024-08-25T13:28:48.447Z"
   },
   {
    "duration": 535,
    "start_time": "2024-08-25T13:29:21.200Z"
   },
   {
    "duration": 215,
    "start_time": "2024-08-25T13:29:29.333Z"
   },
   {
    "duration": 471,
    "start_time": "2024-08-25T13:29:34.310Z"
   },
   {
    "duration": 423,
    "start_time": "2024-08-25T13:29:46.545Z"
   },
   {
    "duration": 501,
    "start_time": "2024-08-25T13:29:51.639Z"
   },
   {
    "duration": 230,
    "start_time": "2024-08-25T13:29:57.754Z"
   },
   {
    "duration": 223,
    "start_time": "2024-08-25T13:30:03.736Z"
   },
   {
    "duration": 4,
    "start_time": "2024-08-25T13:30:08.843Z"
   },
   {
    "duration": 4,
    "start_time": "2024-08-25T13:30:39.449Z"
   },
   {
    "duration": 5,
    "start_time": "2024-08-25T13:30:47.955Z"
   },
   {
    "duration": 26,
    "start_time": "2024-08-25T13:30:52.097Z"
   },
   {
    "duration": 21,
    "start_time": "2024-08-25T13:31:16.717Z"
   },
   {
    "duration": 106,
    "start_time": "2024-08-25T13:31:21.916Z"
   },
   {
    "duration": 21,
    "start_time": "2024-08-25T13:31:25.461Z"
   },
   {
    "duration": 22,
    "start_time": "2024-08-25T13:31:29.235Z"
   },
   {
    "duration": 20,
    "start_time": "2024-08-25T13:31:32.046Z"
   },
   {
    "duration": 19,
    "start_time": "2024-08-25T13:31:36.378Z"
   },
   {
    "duration": 20,
    "start_time": "2024-08-25T13:31:39.889Z"
   },
   {
    "duration": 22,
    "start_time": "2024-08-25T13:31:45.864Z"
   },
   {
    "duration": 23,
    "start_time": "2024-08-25T13:31:49.830Z"
   },
   {
    "duration": 19,
    "start_time": "2024-08-25T13:31:53.295Z"
   },
   {
    "duration": 8,
    "start_time": "2024-08-25T13:31:58.678Z"
   },
   {
    "duration": 8,
    "start_time": "2024-08-25T13:32:01.824Z"
   },
   {
    "duration": 14,
    "start_time": "2024-08-25T13:32:08.410Z"
   },
   {
    "duration": 1310,
    "start_time": "2024-08-26T13:23:21.022Z"
   },
   {
    "duration": 4,
    "start_time": "2024-08-26T13:23:22.334Z"
   },
   {
    "duration": 163,
    "start_time": "2024-08-26T13:23:22.347Z"
   },
   {
    "duration": 41,
    "start_time": "2024-08-26T13:23:22.513Z"
   },
   {
    "duration": 41,
    "start_time": "2024-08-26T13:23:22.556Z"
   },
   {
    "duration": 5,
    "start_time": "2024-08-26T13:23:22.599Z"
   },
   {
    "duration": 7,
    "start_time": "2024-08-26T13:23:22.606Z"
   },
   {
    "duration": 36,
    "start_time": "2024-08-26T13:23:22.614Z"
   },
   {
    "duration": 6,
    "start_time": "2024-08-26T13:23:22.652Z"
   },
   {
    "duration": 15,
    "start_time": "2024-08-26T13:23:22.661Z"
   },
   {
    "duration": 5,
    "start_time": "2024-08-26T13:23:22.677Z"
   },
   {
    "duration": 21,
    "start_time": "2024-08-26T13:23:22.683Z"
   },
   {
    "duration": 12,
    "start_time": "2024-08-26T13:23:22.706Z"
   },
   {
    "duration": 28,
    "start_time": "2024-08-26T13:23:22.720Z"
   },
   {
    "duration": 143,
    "start_time": "2024-08-26T13:23:22.750Z"
   },
   {
    "duration": 137,
    "start_time": "2024-08-26T13:23:22.894Z"
   },
   {
    "duration": 15,
    "start_time": "2024-08-26T13:23:23.033Z"
   },
   {
    "duration": 74,
    "start_time": "2024-08-26T13:23:23.050Z"
   },
   {
    "duration": 10,
    "start_time": "2024-08-26T13:23:23.126Z"
   },
   {
    "duration": 10,
    "start_time": "2024-08-26T13:23:23.137Z"
   },
   {
    "duration": 8,
    "start_time": "2024-08-26T13:23:23.149Z"
   },
   {
    "duration": 19,
    "start_time": "2024-08-26T13:23:23.158Z"
   },
   {
    "duration": 43,
    "start_time": "2024-08-26T13:23:23.178Z"
   },
   {
    "duration": 164,
    "start_time": "2024-08-26T13:23:23.223Z"
   },
   {
    "duration": 14,
    "start_time": "2024-08-26T13:23:23.389Z"
   },
   {
    "duration": 165,
    "start_time": "2024-08-26T13:23:23.404Z"
   },
   {
    "duration": 42,
    "start_time": "2024-08-26T13:23:23.571Z"
   },
   {
    "duration": 58,
    "start_time": "2024-08-26T13:23:23.617Z"
   },
   {
    "duration": 40,
    "start_time": "2024-08-26T13:23:23.677Z"
   },
   {
    "duration": 28,
    "start_time": "2024-08-26T13:23:23.719Z"
   },
   {
    "duration": 449,
    "start_time": "2024-08-26T13:23:23.749Z"
   },
   {
    "duration": 227,
    "start_time": "2024-08-26T13:23:24.200Z"
   },
   {
    "duration": 522,
    "start_time": "2024-08-26T13:23:24.429Z"
   },
   {
    "duration": 451,
    "start_time": "2024-08-26T13:23:24.953Z"
   },
   {
    "duration": 456,
    "start_time": "2024-08-26T13:23:25.406Z"
   },
   {
    "duration": 216,
    "start_time": "2024-08-26T13:23:25.864Z"
   },
   {
    "duration": 233,
    "start_time": "2024-08-26T13:23:26.082Z"
   },
   {
    "duration": 20,
    "start_time": "2024-08-26T13:23:26.317Z"
   },
   {
    "duration": 28,
    "start_time": "2024-08-26T13:23:26.347Z"
   },
   {
    "duration": 21,
    "start_time": "2024-08-26T13:23:26.376Z"
   },
   {
    "duration": 21,
    "start_time": "2024-08-26T13:23:26.399Z"
   },
   {
    "duration": 43,
    "start_time": "2024-08-26T13:23:26.421Z"
   },
   {
    "duration": 17,
    "start_time": "2024-08-26T13:23:26.466Z"
   },
   {
    "duration": 19,
    "start_time": "2024-08-26T13:23:26.486Z"
   },
   {
    "duration": 51,
    "start_time": "2024-08-26T13:23:26.506Z"
   },
   {
    "duration": 33,
    "start_time": "2024-08-26T13:23:26.559Z"
   },
   {
    "duration": 24,
    "start_time": "2024-08-26T13:23:26.594Z"
   },
   {
    "duration": 36,
    "start_time": "2024-08-26T13:23:26.619Z"
   },
   {
    "duration": 8,
    "start_time": "2024-08-26T13:23:26.656Z"
   },
   {
    "duration": 8,
    "start_time": "2024-08-26T13:23:26.665Z"
   },
   {
    "duration": 19,
    "start_time": "2024-08-26T13:23:26.675Z"
   },
   {
    "duration": 48,
    "start_time": "2024-08-26T14:07:30.208Z"
   },
   {
    "duration": 1397,
    "start_time": "2024-08-26T14:07:41.219Z"
   },
   {
    "duration": 4,
    "start_time": "2024-08-26T14:07:42.618Z"
   },
   {
    "duration": 100,
    "start_time": "2024-08-26T14:07:42.623Z"
   },
   {
    "duration": 38,
    "start_time": "2024-08-26T14:07:42.725Z"
   },
   {
    "duration": 40,
    "start_time": "2024-08-26T14:07:42.765Z"
   },
   {
    "duration": 5,
    "start_time": "2024-08-26T14:07:42.806Z"
   },
   {
    "duration": 8,
    "start_time": "2024-08-26T14:07:42.812Z"
   },
   {
    "duration": 33,
    "start_time": "2024-08-26T14:07:42.822Z"
   },
   {
    "duration": 5,
    "start_time": "2024-08-26T14:07:42.857Z"
   },
   {
    "duration": 15,
    "start_time": "2024-08-26T14:07:42.863Z"
   },
   {
    "duration": 9,
    "start_time": "2024-08-26T14:07:42.880Z"
   },
   {
    "duration": 18,
    "start_time": "2024-08-26T14:07:42.891Z"
   },
   {
    "duration": 16,
    "start_time": "2024-08-26T14:07:42.910Z"
   },
   {
    "duration": 4,
    "start_time": "2024-08-26T14:07:42.929Z"
   },
   {
    "duration": 141,
    "start_time": "2024-08-26T14:07:42.935Z"
   },
   {
    "duration": 124,
    "start_time": "2024-08-26T14:07:43.078Z"
   },
   {
    "duration": 7,
    "start_time": "2024-08-26T14:07:43.206Z"
   },
   {
    "duration": 8,
    "start_time": "2024-08-26T14:07:43.214Z"
   },
   {
    "duration": 22,
    "start_time": "2024-08-26T14:07:43.223Z"
   },
   {
    "duration": 6,
    "start_time": "2024-08-26T14:07:43.247Z"
   },
   {
    "duration": 7,
    "start_time": "2024-08-26T14:07:43.255Z"
   },
   {
    "duration": 12,
    "start_time": "2024-08-26T14:07:43.263Z"
   },
   {
    "duration": 4,
    "start_time": "2024-08-26T14:07:43.277Z"
   },
   {
    "duration": 161,
    "start_time": "2024-08-26T14:07:43.283Z"
   },
   {
    "duration": 13,
    "start_time": "2024-08-26T14:07:43.445Z"
   },
   {
    "duration": 170,
    "start_time": "2024-08-26T14:07:43.460Z"
   },
   {
    "duration": 44,
    "start_time": "2024-08-26T14:07:43.631Z"
   },
   {
    "duration": 57,
    "start_time": "2024-08-26T14:07:43.677Z"
   },
   {
    "duration": 41,
    "start_time": "2024-08-26T14:07:43.735Z"
   },
   {
    "duration": 11,
    "start_time": "2024-08-26T14:07:43.777Z"
   },
   {
    "duration": 513,
    "start_time": "2024-08-26T14:07:43.808Z"
   },
   {
    "duration": 220,
    "start_time": "2024-08-26T14:07:44.323Z"
   },
   {
    "duration": 529,
    "start_time": "2024-08-26T14:07:44.545Z"
   },
   {
    "duration": 390,
    "start_time": "2024-08-26T14:07:45.076Z"
   },
   {
    "duration": 433,
    "start_time": "2024-08-26T14:07:45.467Z"
   },
   {
    "duration": 228,
    "start_time": "2024-08-26T14:07:45.901Z"
   },
   {
    "duration": 231,
    "start_time": "2024-08-26T14:07:46.131Z"
   },
   {
    "duration": 20,
    "start_time": "2024-08-26T14:07:46.364Z"
   },
   {
    "duration": 4,
    "start_time": "2024-08-26T14:07:46.385Z"
   },
   {
    "duration": 35,
    "start_time": "2024-08-26T14:07:46.390Z"
   },
   {
    "duration": 21,
    "start_time": "2024-08-26T14:07:46.428Z"
   },
   {
    "duration": 26,
    "start_time": "2024-08-26T14:07:46.450Z"
   },
   {
    "duration": 42,
    "start_time": "2024-08-26T14:07:46.478Z"
   },
   {
    "duration": 19,
    "start_time": "2024-08-26T14:07:46.522Z"
   },
   {
    "duration": 20,
    "start_time": "2024-08-26T14:07:46.543Z"
   },
   {
    "duration": 43,
    "start_time": "2024-08-26T14:07:46.565Z"
   },
   {
    "duration": 22,
    "start_time": "2024-08-26T14:07:46.610Z"
   },
   {
    "duration": 22,
    "start_time": "2024-08-26T14:07:46.633Z"
   },
   {
    "duration": 18,
    "start_time": "2024-08-26T14:07:46.657Z"
   },
   {
    "duration": 36,
    "start_time": "2024-08-26T14:07:46.676Z"
   },
   {
    "duration": 11,
    "start_time": "2024-08-26T14:07:46.714Z"
   },
   {
    "duration": 8,
    "start_time": "2024-08-26T14:07:46.726Z"
   },
   {
    "duration": 5,
    "start_time": "2024-08-26T14:08:58.649Z"
   },
   {
    "duration": 4,
    "start_time": "2024-08-26T14:09:19.597Z"
   },
   {
    "duration": 4,
    "start_time": "2024-08-26T14:13:52.606Z"
   },
   {
    "duration": 5,
    "start_time": "2024-08-26T14:16:56.149Z"
   },
   {
    "duration": 5,
    "start_time": "2024-08-26T14:17:14.434Z"
   },
   {
    "duration": 4,
    "start_time": "2024-08-26T14:17:29.112Z"
   },
   {
    "duration": 4,
    "start_time": "2024-08-26T14:17:34.555Z"
   },
   {
    "duration": 4,
    "start_time": "2024-08-26T14:18:30.207Z"
   },
   {
    "duration": 5,
    "start_time": "2024-08-26T14:18:53.565Z"
   },
   {
    "duration": 5,
    "start_time": "2024-08-26T14:19:00.988Z"
   },
   {
    "duration": 4,
    "start_time": "2024-08-26T14:19:07.161Z"
   },
   {
    "duration": 4,
    "start_time": "2024-08-26T14:19:10.842Z"
   },
   {
    "duration": 5,
    "start_time": "2024-08-26T14:19:26.778Z"
   },
   {
    "duration": 5,
    "start_time": "2024-08-26T14:19:40.699Z"
   },
   {
    "duration": 6,
    "start_time": "2024-08-26T14:19:57.688Z"
   },
   {
    "duration": 6,
    "start_time": "2024-08-26T14:20:06.277Z"
   },
   {
    "duration": 5,
    "start_time": "2024-08-26T14:20:15.476Z"
   },
   {
    "duration": 5,
    "start_time": "2024-08-26T14:20:39.756Z"
   },
   {
    "duration": 5,
    "start_time": "2024-08-26T14:20:45.109Z"
   },
   {
    "duration": 4,
    "start_time": "2024-08-26T14:20:50.655Z"
   },
   {
    "duration": 5,
    "start_time": "2024-08-26T14:21:22.965Z"
   },
   {
    "duration": 5,
    "start_time": "2024-08-26T14:21:27.894Z"
   },
   {
    "duration": 4,
    "start_time": "2024-08-26T14:21:32.204Z"
   },
   {
    "duration": 4,
    "start_time": "2024-08-26T14:21:36.149Z"
   },
   {
    "duration": 5,
    "start_time": "2024-08-26T14:26:22.668Z"
   },
   {
    "duration": 19,
    "start_time": "2024-08-26T14:26:35.913Z"
   },
   {
    "duration": 6,
    "start_time": "2024-08-26T14:26:43.435Z"
   },
   {
    "duration": 5,
    "start_time": "2024-08-26T14:26:50.797Z"
   },
   {
    "duration": 20,
    "start_time": "2024-08-26T14:28:13.844Z"
   },
   {
    "duration": 22,
    "start_time": "2024-08-26T14:28:29.424Z"
   },
   {
    "duration": 5,
    "start_time": "2024-08-26T14:28:43.344Z"
   },
   {
    "duration": 19,
    "start_time": "2024-08-26T14:31:20.423Z"
   },
   {
    "duration": 5,
    "start_time": "2024-08-26T14:32:26.440Z"
   },
   {
    "duration": 17,
    "start_time": "2024-08-26T14:32:43.622Z"
   },
   {
    "duration": 5,
    "start_time": "2024-08-26T14:32:47.155Z"
   },
   {
    "duration": 73,
    "start_time": "2024-08-26T14:50:17.378Z"
   },
   {
    "duration": 81,
    "start_time": "2024-08-26T14:50:24.174Z"
   },
   {
    "duration": 1236,
    "start_time": "2024-08-26T15:11:43.118Z"
   },
   {
    "duration": 4,
    "start_time": "2024-08-26T15:11:44.356Z"
   },
   {
    "duration": 49,
    "start_time": "2024-08-26T15:11:44.361Z"
   },
   {
    "duration": 39,
    "start_time": "2024-08-26T15:11:44.412Z"
   },
   {
    "duration": 55,
    "start_time": "2024-08-26T15:11:44.452Z"
   },
   {
    "duration": 5,
    "start_time": "2024-08-26T15:11:44.509Z"
   },
   {
    "duration": 27,
    "start_time": "2024-08-26T15:11:44.515Z"
   },
   {
    "duration": 18,
    "start_time": "2024-08-26T15:11:44.544Z"
   },
   {
    "duration": 29,
    "start_time": "2024-08-26T15:11:44.564Z"
   },
   {
    "duration": 36,
    "start_time": "2024-08-26T15:11:44.596Z"
   },
   {
    "duration": 10,
    "start_time": "2024-08-26T15:11:44.633Z"
   },
   {
    "duration": 25,
    "start_time": "2024-08-26T15:11:44.645Z"
   },
   {
    "duration": 12,
    "start_time": "2024-08-26T15:11:44.672Z"
   },
   {
    "duration": 13,
    "start_time": "2024-08-26T15:11:44.685Z"
   },
   {
    "duration": 136,
    "start_time": "2024-08-26T15:11:44.699Z"
   },
   {
    "duration": 132,
    "start_time": "2024-08-26T15:11:44.837Z"
   },
   {
    "duration": 7,
    "start_time": "2024-08-26T15:11:44.971Z"
   },
   {
    "duration": 4,
    "start_time": "2024-08-26T15:11:44.979Z"
   },
   {
    "duration": 25,
    "start_time": "2024-08-26T15:11:44.985Z"
   },
   {
    "duration": 54,
    "start_time": "2024-08-26T15:11:45.011Z"
   },
   {
    "duration": 31,
    "start_time": "2024-08-26T15:11:45.066Z"
   },
   {
    "duration": 14,
    "start_time": "2024-08-26T15:11:45.099Z"
   },
   {
    "duration": 14,
    "start_time": "2024-08-26T15:11:45.115Z"
   },
   {
    "duration": 159,
    "start_time": "2024-08-26T15:11:45.131Z"
   },
   {
    "duration": 16,
    "start_time": "2024-08-26T15:11:45.291Z"
   },
   {
    "duration": 162,
    "start_time": "2024-08-26T15:11:45.309Z"
   },
   {
    "duration": 58,
    "start_time": "2024-08-26T15:11:45.472Z"
   },
   {
    "duration": 46,
    "start_time": "2024-08-26T15:11:45.534Z"
   },
   {
    "duration": 56,
    "start_time": "2024-08-26T15:11:45.581Z"
   },
   {
    "duration": 9,
    "start_time": "2024-08-26T15:11:45.639Z"
   },
   {
    "duration": 465,
    "start_time": "2024-08-26T15:11:45.650Z"
   },
   {
    "duration": 231,
    "start_time": "2024-08-26T15:11:46.117Z"
   },
   {
    "duration": 532,
    "start_time": "2024-08-26T15:11:46.350Z"
   },
   {
    "duration": 386,
    "start_time": "2024-08-26T15:11:46.883Z"
   },
   {
    "duration": 522,
    "start_time": "2024-08-26T15:11:47.270Z"
   },
   {
    "duration": 225,
    "start_time": "2024-08-26T15:11:47.794Z"
   },
   {
    "duration": 224,
    "start_time": "2024-08-26T15:11:48.021Z"
   },
   {
    "duration": 19,
    "start_time": "2024-08-26T15:11:48.246Z"
   },
   {
    "duration": 18,
    "start_time": "2024-08-26T15:11:48.267Z"
   },
   {
    "duration": 32,
    "start_time": "2024-08-26T15:11:48.287Z"
   },
   {
    "duration": 4,
    "start_time": "2024-08-26T15:11:48.321Z"
   },
   {
    "duration": 33,
    "start_time": "2024-08-26T15:11:48.327Z"
   },
   {
    "duration": 5,
    "start_time": "2024-08-26T15:11:48.362Z"
   },
   {
    "duration": 19,
    "start_time": "2024-08-26T15:11:48.369Z"
   },
   {
    "duration": 19,
    "start_time": "2024-08-26T15:11:48.390Z"
   },
   {
    "duration": 37,
    "start_time": "2024-08-26T15:11:48.411Z"
   },
   {
    "duration": 21,
    "start_time": "2024-08-26T15:11:48.450Z"
   },
   {
    "duration": 29,
    "start_time": "2024-08-26T15:11:48.473Z"
   },
   {
    "duration": 5,
    "start_time": "2024-08-26T15:11:48.504Z"
   },
   {
    "duration": 26,
    "start_time": "2024-08-26T15:11:48.510Z"
   },
   {
    "duration": 4,
    "start_time": "2024-08-26T15:11:48.537Z"
   },
   {
    "duration": 22,
    "start_time": "2024-08-26T15:11:48.542Z"
   },
   {
    "duration": 4,
    "start_time": "2024-08-26T15:11:48.566Z"
   },
   {
    "duration": 48,
    "start_time": "2024-08-26T15:11:48.571Z"
   },
   {
    "duration": 5,
    "start_time": "2024-08-26T15:11:48.620Z"
   },
   {
    "duration": 18,
    "start_time": "2024-08-26T15:11:48.626Z"
   },
   {
    "duration": 5,
    "start_time": "2024-08-26T15:11:48.645Z"
   },
   {
    "duration": 7,
    "start_time": "2024-08-26T15:11:48.651Z"
   },
   {
    "duration": 6,
    "start_time": "2024-08-26T15:11:48.660Z"
   },
   {
    "duration": 42,
    "start_time": "2024-08-26T15:11:48.669Z"
   }
  ],
  "kernelspec": {
   "display_name": "Python 3 (ipykernel)",
   "language": "python",
   "name": "python3"
  },
  "language_info": {
   "codemirror_mode": {
    "name": "ipython",
    "version": 3
   },
   "file_extension": ".py",
   "mimetype": "text/x-python",
   "name": "python",
   "nbconvert_exporter": "python",
   "pygments_lexer": "ipython3",
   "version": "3.9.5"
  },
  "toc": {
   "base_numbering": 1,
   "nav_menu": {},
   "number_sections": true,
   "sideBar": true,
   "skip_h1_title": true,
   "title_cell": "Table of Contents",
   "title_sidebar": "Contents",
   "toc_cell": false,
   "toc_position": {
    "height": "calc(100% - 180px)",
    "left": "10px",
    "top": "150px",
    "width": "273.188px"
   },
   "toc_section_display": true,
   "toc_window_display": true
  }
 },
 "nbformat": 4,
 "nbformat_minor": 2
}
